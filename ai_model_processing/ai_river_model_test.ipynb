{
 "cells": [
  {
   "cell_type": "code",
   "execution_count": 93,
   "id": "initial_id",
   "metadata": {
    "collapsed": true,
    "ExecuteTime": {
     "end_time": "2024-02-29T22:25:55.536991600Z",
     "start_time": "2024-02-29T22:25:55.450792800Z"
    }
   },
   "outputs": [],
   "source": [
    "import pandas as pd\n",
    "import geopandas as gpd\n",
    "import tensorflow as tf\n",
    "# import teller as tr\n",
    "from sklearn.preprocessing import MinMaxScaler\n",
    "from sklearn.model_selection import train_test_split\n",
    "import matplotlib.pyplot as plt\n",
    "import seaborn as sns\n",
    "%matplotlib inline\n",
    "import seaborn as sns\n",
    "import missingno as msno\n",
    "# import pyarrow as pa\n",
    "# import pyarrow.parquet as pq\n",
    "import numpy as np\n",
    "\n"
   ]
  },
  {
   "cell_type": "code",
   "execution_count": 94,
   "outputs": [],
   "source": [
    "# !pip install tensorflow\n",
    "# !pip install scikit-learn\n",
    "# !pip install matplotlib\n",
    "# !pip install seaborn\n",
    "# !pip install missingno"
   ],
   "metadata": {
    "collapsed": false,
    "ExecuteTime": {
     "end_time": "2024-02-29T22:25:55.552772Z",
     "start_time": "2024-02-29T22:25:55.468131400Z"
    }
   },
   "id": "376e23cf07a1f484"
  },
  {
   "cell_type": "code",
   "execution_count": 95,
   "outputs": [],
   "source": [
    "\n",
    "path = './edit1_jedna_kolumna_in.geojson'\n",
    "df_p = gpd.read_file(path)\n"
   ],
   "metadata": {
    "collapsed": false,
    "ExecuteTime": {
     "end_time": "2024-02-29T22:25:58.813276300Z",
     "start_time": "2024-02-29T22:25:55.473729500Z"
    }
   },
   "id": "75f63cc79842dd76"
  },
  {
   "cell_type": "code",
   "execution_count": 96,
   "outputs": [
    {
     "data": {
      "text/plain": "<Axes: >"
     },
     "execution_count": 96,
     "metadata": {},
     "output_type": "execute_result"
    },
    {
     "data": {
      "text/plain": "<Figure size 1000x400 with 2 Axes>",
      "image/png": "[encoded data removed]"
     },
     "metadata": {},
     "output_type": "display_data"
    }
   ],
   "source": [
    "msno.matrix(df_p, figsize=(10,4)) # test pustych wierszy\n",
    "# df_p =df_p.fillna(0) # wypełnianie Nan zerami\n"
   ],
   "metadata": {
    "collapsed": false,
    "ExecuteTime": {
     "end_time": "2024-02-29T22:25:59.044003200Z",
     "start_time": "2024-02-29T22:25:58.817802Z"
    }
   },
   "id": "67b99ee4507c6500"
  },
  {
   "cell_type": "code",
   "execution_count": 97,
   "outputs": [
    {
     "data": {
      "text/plain": "            count         mean          std          min         25%  \\\nrok       18842.0  2016.831228     3.893406  2011.000000  2013.00000   \ndistance  18842.0   155.718688    42.799975    78.225285   126.23215   \nangle     18842.0   186.149193    90.657529    28.200000   107.62500   \nID        18842.0  9421.500000  5439.361222     1.000000  4711.25000   \n\n                  50%           75%           max  \nrok       2019.000000   2020.000000   2022.000000  \ndistance   146.396017    180.949599    299.853974  \nangle      186.150000    264.675000    343.300000  \nID        9421.500000  14131.750000  18842.000000  ",
      "text/html": "<div>\n<style scoped>\n    .dataframe tbody tr th:only-of-type {\n        vertical-align: middle;\n    }\n\n    .dataframe tbody tr th {\n        vertical-align: top;\n    }\n\n    .dataframe thead th {\n        text-align: right;\n    }\n</style>\n<table border=\"1\" class=\"dataframe\">\n  <thead>\n    <tr style=\"text-align: right;\">\n      <th></th>\n      <th>count</th>\n      <th>mean</th>\n      <th>std</th>\n      <th>min</th>\n      <th>25%</th>\n      <th>50%</th>\n      <th>75%</th>\n      <th>max</th>\n    </tr>\n  </thead>\n  <tbody>\n    <tr>\n      <th>rok</th>\n      <td>18842.0</td>\n      <td>2016.831228</td>\n      <td>3.893406</td>\n      <td>2011.000000</td>\n      <td>2013.00000</td>\n      <td>2019.000000</td>\n      <td>2020.000000</td>\n      <td>2022.000000</td>\n    </tr>\n    <tr>\n      <th>distance</th>\n      <td>18842.0</td>\n      <td>155.718688</td>\n      <td>42.799975</td>\n      <td>78.225285</td>\n      <td>126.23215</td>\n      <td>146.396017</td>\n      <td>180.949599</td>\n      <td>299.853974</td>\n    </tr>\n    <tr>\n      <th>angle</th>\n      <td>18842.0</td>\n      <td>186.149193</td>\n      <td>90.657529</td>\n      <td>28.200000</td>\n      <td>107.62500</td>\n      <td>186.150000</td>\n      <td>264.675000</td>\n      <td>343.300000</td>\n    </tr>\n    <tr>\n      <th>ID</th>\n      <td>18842.0</td>\n      <td>9421.500000</td>\n      <td>5439.361222</td>\n      <td>1.000000</td>\n      <td>4711.25000</td>\n      <td>9421.500000</td>\n      <td>14131.750000</td>\n      <td>18842.000000</td>\n    </tr>\n  </tbody>\n</table>\n</div>"
     },
     "execution_count": 97,
     "metadata": {},
     "output_type": "execute_result"
    }
   ],
   "source": [
    "df_p.describe().transpose()"
   ],
   "metadata": {
    "collapsed": false,
    "ExecuteTime": {
     "end_time": "2024-02-29T22:25:59.070746200Z",
     "start_time": "2024-02-29T22:25:59.044003200Z"
    }
   },
   "id": "e6d46256d2f86855"
  },
  {
   "cell_type": "code",
   "execution_count": 98,
   "outputs": [
    {
     "data": {
      "text/plain": "    rok    in    distance  angle  ID  \\\n0  2011  True  299.853974   28.2   1   \n1  2011  True  299.527086   28.3   2   \n2  2011  True  299.201822   28.4   3   \n3  2011  True  298.878172   28.5   4   \n4  2011  True  298.556130   28.6   5   \n\n                                            geometry  \n0  LINESTRING (7527541.11000 5863838.87000, 75276...  \n1  LINESTRING (7527541.11000 5863838.87000, 75276...  \n2  LINESTRING (7527541.11000 5863838.87000, 75276...  \n3  LINESTRING (7527541.11000 5863838.87000, 75276...  \n4  LINESTRING (7527541.11000 5863838.87000, 75276...  ",
      "text/html": "<div>\n<style scoped>\n    .dataframe tbody tr th:only-of-type {\n        vertical-align: middle;\n    }\n\n    .dataframe tbody tr th {\n        vertical-align: top;\n    }\n\n    .dataframe thead th {\n        text-align: right;\n    }\n</style>\n<table border=\"1\" class=\"dataframe\">\n  <thead>\n    <tr style=\"text-align: right;\">\n      <th></th>\n      <th>rok</th>\n      <th>in</th>\n      <th>distance</th>\n      <th>angle</th>\n      <th>ID</th>\n      <th>geometry</th>\n    </tr>\n  </thead>\n  <tbody>\n    <tr>\n      <th>0</th>\n      <td>2011</td>\n      <td>True</td>\n      <td>299.853974</td>\n      <td>28.2</td>\n      <td>1</td>\n      <td>LINESTRING (7527541.11000 5863838.87000, 75276...</td>\n    </tr>\n    <tr>\n      <th>1</th>\n      <td>2011</td>\n      <td>True</td>\n      <td>299.527086</td>\n      <td>28.3</td>\n      <td>2</td>\n      <td>LINESTRING (7527541.11000 5863838.87000, 75276...</td>\n    </tr>\n    <tr>\n      <th>2</th>\n      <td>2011</td>\n      <td>True</td>\n      <td>299.201822</td>\n      <td>28.4</td>\n      <td>3</td>\n      <td>LINESTRING (7527541.11000 5863838.87000, 75276...</td>\n    </tr>\n    <tr>\n      <th>3</th>\n      <td>2011</td>\n      <td>True</td>\n      <td>298.878172</td>\n      <td>28.5</td>\n      <td>4</td>\n      <td>LINESTRING (7527541.11000 5863838.87000, 75276...</td>\n    </tr>\n    <tr>\n      <th>4</th>\n      <td>2011</td>\n      <td>True</td>\n      <td>298.556130</td>\n      <td>28.6</td>\n      <td>5</td>\n      <td>LINESTRING (7527541.11000 5863838.87000, 75276...</td>\n    </tr>\n  </tbody>\n</table>\n</div>"
     },
     "execution_count": 98,
     "metadata": {},
     "output_type": "execute_result"
    }
   ],
   "source": [
    "df_p.head()"
   ],
   "metadata": {
    "collapsed": false,
    "ExecuteTime": {
     "end_time": "2024-02-29T22:25:59.334216100Z",
     "start_time": "2024-02-29T22:25:59.070746200Z"
    }
   },
   "id": "de1543b41d869a1b"
  },
  {
   "cell_type": "code",
   "execution_count": 99,
   "outputs": [
    {
     "data": {
      "text/plain": "(18842, 6)"
     },
     "execution_count": 99,
     "metadata": {},
     "output_type": "execute_result"
    }
   ],
   "source": [
    "df_p.shape\n"
   ],
   "metadata": {
    "collapsed": false,
    "ExecuteTime": {
     "end_time": "2024-02-29T22:25:59.334216100Z",
     "start_time": "2024-02-29T22:25:59.086795800Z"
    }
   },
   "id": "2873a098f746fd15"
  },
  {
   "cell_type": "markdown",
   "source": [],
   "metadata": {
    "collapsed": false
   },
   "id": "507a65b7d99dc30"
  },
  {
   "cell_type": "code",
   "execution_count": 100,
   "outputs": [
    {
     "data": {
      "text/plain": "((18842, 4), (18842,))"
     },
     "execution_count": 100,
     "metadata": {},
     "output_type": "execute_result"
    }
   ],
   "source": [
    "#normalizacja i podzial na dane wejsciowe i wyjsciowe\n",
    "X = df_p[[\"rok\", \"in\", \"distance\", \"angle\"]]\n",
    "X = MinMaxScaler().fit_transform(X)\n",
    "y = df_p[\"distance\"]\n",
    "X.shape, y.shape"
   ],
   "metadata": {
    "collapsed": false,
    "ExecuteTime": {
     "end_time": "2024-02-29T22:25:59.334216100Z",
     "start_time": "2024-02-29T22:25:59.104197Z"
    }
   },
   "id": "baa638afd1b648b8"
  },
  {
   "cell_type": "code",
   "execution_count": 101,
   "outputs": [],
   "source": [
    "X_train, X_test, y_train, y_test  = train_test_split(X, y, \n",
    "                                                     # random_state=42,\n",
    "                                                     test_size=.4)"
   ],
   "metadata": {
    "collapsed": false,
    "ExecuteTime": {
     "end_time": "2024-02-29T22:25:59.334216100Z",
     "start_time": "2024-02-29T22:25:59.212495400Z"
    }
   },
   "id": "b13b24d36e2e49ca"
  },
  {
   "cell_type": "code",
   "execution_count": 102,
   "outputs": [
    {
     "data": {
      "text/plain": "((11305, 4), (7537, 4), (11305,), (7537,))"
     },
     "execution_count": 102,
     "metadata": {},
     "output_type": "execute_result"
    }
   ],
   "source": [
    "X_train.shape, X_test.shape, y_train.shape, y_test.shape"
   ],
   "metadata": {
    "collapsed": false,
    "ExecuteTime": {
     "end_time": "2024-02-29T22:25:59.334216100Z",
     "start_time": "2024-02-29T22:25:59.280512600Z"
    }
   },
   "id": "9115bf1af0b75983"
  },
  {
   "cell_type": "markdown",
   "source": [
    "# MODEL"
   ],
   "metadata": {
    "collapsed": false
   },
   "id": "ed19d889e2e72ee3"
  },
  {
   "cell_type": "code",
   "execution_count": 103,
   "outputs": [],
   "source": [
    "from numpy import loadtxt\n",
    "from tensorflow.keras.models import Sequential\n",
    "from tensorflow.keras.layers import Input, Dense, Concatenate,Dropout,CategoryEncoding, Embedding, Flatten,Conv2D, LSTM\n",
    "from tensorflow.keras.callbacks import ModelCheckpoint,EarlyStopping\n",
    "from tensorflow.random import set_seed #ustawiam ziarno pseudolosowości\n",
    "from tensorflow.keras.callbacks import TensorBoard\n",
    "from datetime import datetime as dt\n",
    "import os"
   ],
   "metadata": {
    "collapsed": false,
    "ExecuteTime": {
     "end_time": "2024-02-29T22:25:59.334216100Z",
     "start_time": "2024-02-29T22:25:59.290718600Z"
    }
   },
   "id": "2397e40dbf0398f5"
  },
  {
   "cell_type": "code",
   "execution_count": 104,
   "outputs": [],
   "source": [
    "N_TRAIN = int(1e4)\n",
    "BATCH_SIZE = 12\n",
    "STEPS_PER_EPOCH = N_TRAIN//BATCH_SIZE\n",
    "lr_schedule = tf.keras.optimizers.schedules.InverseTimeDecay(\n",
    "  0.001,\n",
    "  decay_steps=STEPS_PER_EPOCH*1,\n",
    "  decay_rate=1,\n",
    "  staircase=False)\n",
    "\n",
    "def get_optimizer():\n",
    "  return tf.keras.optimizers.Adam(lr_schedule)"
   ],
   "metadata": {
    "collapsed": false,
    "ExecuteTime": {
     "end_time": "2024-02-29T22:25:59.334216100Z",
     "start_time": "2024-02-29T22:25:59.291233700Z"
    }
   },
   "id": "d06f64f776731c7"
  },
  {
   "cell_type": "code",
   "execution_count": 105,
   "outputs": [
    {
     "data": {
      "text/plain": "<Figure size 800x600 with 1 Axes>",
      "image/png": "[encoded data removed]"
     },
     "metadata": {},
     "output_type": "display_data"
    }
   ],
   "source": [
    "step = np.linspace(0,10000)\n",
    "lr = lr_schedule(step)\n",
    "plt.figure(figsize = (8,6))\n",
    "plt.plot(step/STEPS_PER_EPOCH, lr)\n",
    "plt.ylim([0,max(plt.ylim())])\n",
    "plt.xlabel('Epoch')\n",
    "_ = plt.ylabel('Learning Rate')"
   ],
   "metadata": {
    "collapsed": false,
    "ExecuteTime": {
     "end_time": "2024-02-29T22:25:59.707424100Z",
     "start_time": "2024-02-29T22:25:59.298137100Z"
    }
   },
   "id": "8547a4d19256c60a"
  },
  {
   "cell_type": "code",
   "execution_count": 106,
   "outputs": [],
   "source": [
    "from keras import regularizers\n",
    "\n",
    "\n",
    "def create_ANN():\n",
    "    set_seed(0)\n",
    "    model = Sequential()\n",
    "    model.add(\n",
    "        Dense(2, activation='relu',\n",
    "              kernel_regularizer=regularizers.l2(0.001), #opcja\n",
    "              kernel_initializer='he_uniform')\n",
    "    )\n",
    "    model.add(Dropout(0.5))\n",
    "    model.add(Dense(6, activation='relu'))\n",
    "    model.add(Dense(8, activation='relu'))\n",
    "    # model.add(Dense(8, activation='relu'))\n",
    "    model.add(\n",
    "        Dense(1, activation='relu',\n",
    "              kernel_regularizer=regularizers.l2(0.001))# opcja\n",
    "    )\n",
    "\n",
    "    model.compile(\n",
    "        loss='mse',\n",
    "        optimizer=get_optimizer(),\n",
    "        metrics=['mae','mse'])\n",
    "\n",
    "    return model"
   ],
   "metadata": {
    "collapsed": false,
    "ExecuteTime": {
     "end_time": "2024-02-29T22:25:59.707424100Z",
     "start_time": "2024-02-29T22:25:59.670727Z"
    }
   },
   "id": "fb1199c5da8a531a"
  },
  {
   "cell_type": "code",
   "execution_count": 107,
   "outputs": [],
   "source": [
    "_filepath = 'checkpoint/ann-{epoch:02d}-{loss:.3f}.h5' # for filepath\n",
    "checkpoint = ModelCheckpoint(monitor='loss', filepath='checkpoint/_best-ann.h5', save_best_only=True, verbose=1)\n",
    "es = EarlyStopping(monitor='loss', patience=3, min_delta=0.01, verbose=1)\n",
    "tb = TensorBoard(log_dir='logs/'+dt.now().strftime(\"%Y%m%d-%H%M%S\")) # logi tensor board"
   ],
   "metadata": {
    "collapsed": false,
    "ExecuteTime": {
     "end_time": "2024-02-29T22:25:59.707424100Z",
     "start_time": "2024-02-29T22:25:59.677462700Z"
    }
   },
   "id": "8cbda92e8214dd3b"
  },
  {
   "cell_type": "code",
   "execution_count": 108,
   "outputs": [
    {
     "name": "stdout",
     "output_type": "stream",
     "text": [
      "\n",
      "Epoch 1: loss improved from inf to 20139.96094, saving model to checkpoint\\_best-ann.h5\n"
     ]
    },
    {
     "name": "stderr",
     "output_type": "stream",
     "text": [
      "C:\\Users\\patry\\Desktop\\ai_river_project\\venv\\Lib\\site-packages\\keras\\src\\engine\\training.py:3103: UserWarning: You are saving your model as an HDF5 file via `model.save()`. This file format is considered legacy. We recommend using instead the native Keras format, e.g. `model.save('my_model.keras')`.\n",
      "  saving_api.save_model(\n"
     ]
    },
    {
     "name": "stdout",
     "output_type": "stream",
     "text": [
      "\n",
      "Epoch 2: loss improved from 20139.96094 to 7490.02832, saving model to checkpoint\\_best-ann.h5\n",
      "\n",
      "Epoch 3: loss improved from 7490.02832 to 6675.90283, saving model to checkpoint\\_best-ann.h5\n",
      "\n",
      "Epoch 4: loss improved from 6675.90283 to 6012.78271, saving model to checkpoint\\_best-ann.h5\n",
      "\n",
      "Epoch 5: loss improved from 6012.78271 to 5259.12256, saving model to checkpoint\\_best-ann.h5\n",
      "\n",
      "Epoch 6: loss improved from 5259.12256 to 4782.33740, saving model to checkpoint\\_best-ann.h5\n",
      "\n",
      "Epoch 7: loss improved from 4782.33740 to 4291.86670, saving model to checkpoint\\_best-ann.h5\n",
      "\n",
      "Epoch 8: loss improved from 4291.86670 to 3864.55151, saving model to checkpoint\\_best-ann.h5\n",
      "\n",
      "Epoch 9: loss improved from 3864.55151 to 3554.19653, saving model to checkpoint\\_best-ann.h5\n",
      "\n",
      "Epoch 10: loss improved from 3554.19653 to 3283.26318, saving model to checkpoint\\_best-ann.h5\n",
      "\n",
      "Epoch 11: loss improved from 3283.26318 to 2940.57666, saving model to checkpoint\\_best-ann.h5\n",
      "\n",
      "Epoch 12: loss improved from 2940.57666 to 2678.98315, saving model to checkpoint\\_best-ann.h5\n",
      "\n",
      "Epoch 13: loss improved from 2678.98315 to 2445.89331, saving model to checkpoint\\_best-ann.h5\n",
      "\n",
      "Epoch 14: loss improved from 2445.89331 to 2290.93042, saving model to checkpoint\\_best-ann.h5\n",
      "\n",
      "Epoch 15: loss improved from 2290.93042 to 2160.80786, saving model to checkpoint\\_best-ann.h5\n",
      "\n",
      "Epoch 16: loss improved from 2160.80786 to 2008.81104, saving model to checkpoint\\_best-ann.h5\n",
      "\n",
      "Epoch 17: loss improved from 2008.81104 to 1900.79907, saving model to checkpoint\\_best-ann.h5\n",
      "\n",
      "Epoch 18: loss improved from 1900.79907 to 1770.18555, saving model to checkpoint\\_best-ann.h5\n",
      "\n",
      "Epoch 19: loss improved from 1770.18555 to 1719.89905, saving model to checkpoint\\_best-ann.h5\n",
      "\n",
      "Epoch 20: loss improved from 1719.89905 to 1608.00708, saving model to checkpoint\\_best-ann.h5\n",
      "\n",
      "Epoch 21: loss improved from 1608.00708 to 1565.79163, saving model to checkpoint\\_best-ann.h5\n",
      "\n",
      "Epoch 22: loss improved from 1565.79163 to 1475.15344, saving model to checkpoint\\_best-ann.h5\n",
      "\n",
      "Epoch 23: loss improved from 1475.15344 to 1462.17041, saving model to checkpoint\\_best-ann.h5\n",
      "\n",
      "Epoch 24: loss improved from 1462.17041 to 1417.96875, saving model to checkpoint\\_best-ann.h5\n",
      "\n",
      "Epoch 25: loss improved from 1417.96875 to 1359.72827, saving model to checkpoint\\_best-ann.h5\n",
      "\n",
      "Epoch 26: loss improved from 1359.72827 to 1354.50732, saving model to checkpoint\\_best-ann.h5\n",
      "\n",
      "Epoch 27: loss improved from 1354.50732 to 1339.36194, saving model to checkpoint\\_best-ann.h5\n",
      "\n",
      "Epoch 28: loss did not improve from 1339.36194\n",
      "\n",
      "Epoch 29: loss improved from 1339.36194 to 1263.19629, saving model to checkpoint\\_best-ann.h5\n",
      "\n",
      "Epoch 30: loss improved from 1263.19629 to 1259.29443, saving model to checkpoint\\_best-ann.h5\n",
      "\n",
      "Epoch 31: loss improved from 1259.29443 to 1204.57825, saving model to checkpoint\\_best-ann.h5\n",
      "\n",
      "Epoch 32: loss did not improve from 1204.57825\n",
      "\n",
      "Epoch 33: loss did not improve from 1204.57825\n",
      "\n",
      "Epoch 34: loss improved from 1204.57825 to 1172.52686, saving model to checkpoint\\_best-ann.h5\n",
      "\n",
      "Epoch 35: loss did not improve from 1172.52686\n",
      "\n",
      "Epoch 36: loss improved from 1172.52686 to 1115.60046, saving model to checkpoint\\_best-ann.h5\n",
      "\n",
      "Epoch 37: loss did not improve from 1115.60046\n",
      "\n",
      "Epoch 38: loss did not improve from 1115.60046\n",
      "\n",
      "Epoch 39: loss did not improve from 1115.60046\n",
      "\n",
      "Epoch 40: loss improved from 1115.60046 to 1096.99194, saving model to checkpoint\\_best-ann.h5\n",
      "\n",
      "Epoch 41: loss did not improve from 1096.99194\n",
      "\n",
      "Epoch 42: loss improved from 1096.99194 to 1052.83545, saving model to checkpoint\\_best-ann.h5\n",
      "\n",
      "Epoch 43: loss did not improve from 1052.83545\n",
      "\n",
      "Epoch 44: loss did not improve from 1052.83545\n",
      "\n",
      "Epoch 45: loss did not improve from 1052.83545\n",
      "\n",
      "Epoch 46: loss did not improve from 1052.83545\n",
      "\n",
      "Epoch 47: loss improved from 1052.83545 to 1023.98895, saving model to checkpoint\\_best-ann.h5\n",
      "\n",
      "Epoch 48: loss did not improve from 1023.98895\n",
      "\n",
      "Epoch 49: loss improved from 1023.98895 to 1018.42670, saving model to checkpoint\\_best-ann.h5\n",
      "\n",
      "Epoch 50: loss did not improve from 1018.42670\n",
      "\n",
      "Epoch 51: loss improved from 1018.42670 to 978.79602, saving model to checkpoint\\_best-ann.h5\n",
      "\n",
      "Epoch 52: loss did not improve from 978.79602\n",
      "\n",
      "Epoch 53: loss did not improve from 978.79602\n",
      "\n",
      "Epoch 54: loss improved from 978.79602 to 971.12323, saving model to checkpoint\\_best-ann.h5\n",
      "\n",
      "Epoch 55: loss did not improve from 971.12323\n",
      "\n",
      "Epoch 56: loss did not improve from 971.12323\n",
      "\n",
      "Epoch 57: loss did not improve from 971.12323\n",
      "\n",
      "Epoch 58: loss improved from 971.12323 to 941.64551, saving model to checkpoint\\_best-ann.h5\n",
      "\n",
      "Epoch 59: loss did not improve from 941.64551\n",
      "\n",
      "Epoch 60: loss did not improve from 941.64551\n",
      "\n",
      "Epoch 61: loss did not improve from 941.64551\n",
      "\n",
      "Epoch 62: loss did not improve from 941.64551\n",
      "\n",
      "Epoch 63: loss did not improve from 941.64551\n",
      "\n",
      "Epoch 64: loss improved from 941.64551 to 934.47363, saving model to checkpoint\\_best-ann.h5\n",
      "\n",
      "Epoch 65: loss did not improve from 934.47363\n",
      "\n",
      "Epoch 66: loss did not improve from 934.47363\n",
      "\n",
      "Epoch 67: loss did not improve from 934.47363\n",
      "\n",
      "Epoch 68: loss did not improve from 934.47363\n",
      "\n",
      "Epoch 69: loss did not improve from 934.47363\n",
      "\n",
      "Epoch 70: loss did not improve from 934.47363\n",
      "\n",
      "Epoch 71: loss did not improve from 934.47363\n",
      "\n",
      "Epoch 72: loss did not improve from 934.47363\n",
      "\n",
      "Epoch 73: loss did not improve from 934.47363\n",
      "\n",
      "Epoch 74: loss improved from 934.47363 to 901.84576, saving model to checkpoint\\_best-ann.h5\n",
      "\n",
      "Epoch 75: loss did not improve from 901.84576\n",
      "\n",
      "Epoch 76: loss did not improve from 901.84576\n",
      "\n",
      "Epoch 77: loss did not improve from 901.84576\n",
      "\n",
      "Epoch 78: loss did not improve from 901.84576\n",
      "\n",
      "Epoch 79: loss did not improve from 901.84576\n",
      "\n",
      "Epoch 80: loss did not improve from 901.84576\n",
      "\n",
      "Epoch 81: loss did not improve from 901.84576\n",
      "\n",
      "Epoch 82: loss did not improve from 901.84576\n",
      "\n",
      "Epoch 83: loss did not improve from 901.84576\n",
      "\n",
      "Epoch 84: loss did not improve from 901.84576\n",
      "\n",
      "Epoch 85: loss did not improve from 901.84576\n",
      "\n",
      "Epoch 86: loss did not improve from 901.84576\n",
      "\n",
      "Epoch 87: loss did not improve from 901.84576\n",
      "\n",
      "Epoch 88: loss did not improve from 901.84576\n",
      "\n",
      "Epoch 89: loss did not improve from 901.84576\n",
      "\n",
      "Epoch 90: loss did not improve from 901.84576\n",
      "\n",
      "Epoch 91: loss did not improve from 901.84576\n",
      "\n",
      "Epoch 92: loss did not improve from 901.84576\n",
      "\n",
      "Epoch 93: loss did not improve from 901.84576\n",
      "\n",
      "Epoch 94: loss did not improve from 901.84576\n",
      "\n",
      "Epoch 95: loss did not improve from 901.84576\n",
      "\n",
      "Epoch 96: loss did not improve from 901.84576\n",
      "\n",
      "Epoch 97: loss did not improve from 901.84576\n",
      "\n",
      "Epoch 98: loss did not improve from 901.84576\n",
      "\n",
      "Epoch 99: loss did not improve from 901.84576\n",
      "\n",
      "Epoch 100: loss did not improve from 901.84576\n",
      "\n",
      "Epoch 101: loss did not improve from 901.84576\n",
      "\n",
      "Epoch 102: loss did not improve from 901.84576\n",
      "\n",
      "Epoch 103: loss did not improve from 901.84576\n",
      "\n",
      "Epoch 104: loss did not improve from 901.84576\n",
      "\n",
      "Epoch 105: loss did not improve from 901.84576\n",
      "\n",
      "Epoch 106: loss improved from 901.84576 to 898.48395, saving model to checkpoint\\_best-ann.h5\n",
      "\n",
      "Epoch 107: loss did not improve from 898.48395\n",
      "\n",
      "Epoch 108: loss did not improve from 898.48395\n",
      "\n",
      "Epoch 109: loss did not improve from 898.48395\n",
      "\n",
      "Epoch 110: loss did not improve from 898.48395\n",
      "\n",
      "Epoch 111: loss did not improve from 898.48395\n",
      "\n",
      "Epoch 112: loss did not improve from 898.48395\n",
      "\n",
      "Epoch 113: loss did not improve from 898.48395\n",
      "\n",
      "Epoch 114: loss did not improve from 898.48395\n",
      "\n",
      "Epoch 115: loss did not improve from 898.48395\n",
      "\n",
      "Epoch 116: loss did not improve from 898.48395\n",
      "\n",
      "Epoch 117: loss improved from 898.48395 to 891.94983, saving model to checkpoint\\_best-ann.h5\n",
      "\n",
      "Epoch 118: loss improved from 891.94983 to 889.75604, saving model to checkpoint\\_best-ann.h5\n",
      "\n",
      "Epoch 119: loss did not improve from 889.75604\n",
      "\n",
      "Epoch 120: loss did not improve from 889.75604\n",
      "\n",
      "Epoch 121: loss did not improve from 889.75604\n",
      "\n",
      "Epoch 122: loss did not improve from 889.75604\n",
      "\n",
      "Epoch 123: loss did not improve from 889.75604\n",
      "\n",
      "Epoch 124: loss did not improve from 889.75604\n",
      "\n",
      "Epoch 125: loss improved from 889.75604 to 887.50128, saving model to checkpoint\\_best-ann.h5\n",
      "\n",
      "Epoch 126: loss improved from 887.50128 to 882.94904, saving model to checkpoint\\_best-ann.h5\n",
      "\n",
      "Epoch 127: loss did not improve from 882.94904\n",
      "\n",
      "Epoch 128: loss did not improve from 882.94904\n",
      "\n",
      "Epoch 129: loss improved from 882.94904 to 874.09363, saving model to checkpoint\\_best-ann.h5\n",
      "\n",
      "Epoch 130: loss did not improve from 874.09363\n",
      "\n",
      "Epoch 131: loss did not improve from 874.09363\n",
      "\n",
      "Epoch 132: loss did not improve from 874.09363\n",
      "\n",
      "Epoch 133: loss did not improve from 874.09363\n",
      "\n",
      "Epoch 134: loss did not improve from 874.09363\n",
      "\n",
      "Epoch 135: loss did not improve from 874.09363\n",
      "\n",
      "Epoch 136: loss did not improve from 874.09363\n",
      "\n",
      "Epoch 137: loss did not improve from 874.09363\n",
      "\n",
      "Epoch 138: loss did not improve from 874.09363\n",
      "\n",
      "Epoch 139: loss did not improve from 874.09363\n",
      "\n",
      "Epoch 140: loss did not improve from 874.09363\n",
      "\n",
      "Epoch 141: loss did not improve from 874.09363\n",
      "\n",
      "Epoch 142: loss did not improve from 874.09363\n",
      "\n",
      "Epoch 143: loss did not improve from 874.09363\n",
      "\n",
      "Epoch 144: loss did not improve from 874.09363\n",
      "\n",
      "Epoch 145: loss did not improve from 874.09363\n",
      "\n",
      "Epoch 146: loss did not improve from 874.09363\n",
      "\n",
      "Epoch 147: loss did not improve from 874.09363\n",
      "\n",
      "Epoch 148: loss did not improve from 874.09363\n",
      "\n",
      "Epoch 149: loss did not improve from 874.09363\n",
      "\n",
      "Epoch 150: loss did not improve from 874.09363\n",
      "\n",
      "Epoch 151: loss did not improve from 874.09363\n",
      "\n",
      "Epoch 152: loss did not improve from 874.09363\n",
      "\n",
      "Epoch 153: loss did not improve from 874.09363\n",
      "\n",
      "Epoch 154: loss did not improve from 874.09363\n",
      "\n",
      "Epoch 155: loss did not improve from 874.09363\n",
      "\n",
      "Epoch 156: loss improved from 874.09363 to 865.58350, saving model to checkpoint\\_best-ann.h5\n",
      "\n",
      "Epoch 157: loss did not improve from 865.58350\n",
      "\n",
      "Epoch 158: loss did not improve from 865.58350\n",
      "\n",
      "Epoch 159: loss did not improve from 865.58350\n",
      "\n",
      "Epoch 160: loss did not improve from 865.58350\n",
      "\n",
      "Epoch 161: loss did not improve from 865.58350\n",
      "\n",
      "Epoch 162: loss did not improve from 865.58350\n",
      "\n",
      "Epoch 163: loss did not improve from 865.58350\n",
      "\n",
      "Epoch 164: loss did not improve from 865.58350\n",
      "\n",
      "Epoch 165: loss did not improve from 865.58350\n",
      "\n",
      "Epoch 166: loss did not improve from 865.58350\n",
      "\n",
      "Epoch 167: loss did not improve from 865.58350\n",
      "\n",
      "Epoch 168: loss did not improve from 865.58350\n",
      "\n",
      "Epoch 169: loss did not improve from 865.58350\n",
      "\n",
      "Epoch 170: loss did not improve from 865.58350\n",
      "\n",
      "Epoch 171: loss did not improve from 865.58350\n",
      "\n",
      "Epoch 172: loss did not improve from 865.58350\n",
      "\n",
      "Epoch 173: loss did not improve from 865.58350\n",
      "\n",
      "Epoch 174: loss did not improve from 865.58350\n",
      "\n",
      "Epoch 175: loss did not improve from 865.58350\n",
      "\n",
      "Epoch 176: loss did not improve from 865.58350\n",
      "\n",
      "Epoch 177: loss did not improve from 865.58350\n",
      "\n",
      "Epoch 178: loss did not improve from 865.58350\n",
      "\n",
      "Epoch 179: loss did not improve from 865.58350\n",
      "\n",
      "Epoch 180: loss did not improve from 865.58350\n",
      "\n",
      "Epoch 181: loss did not improve from 865.58350\n",
      "\n",
      "Epoch 182: loss did not improve from 865.58350\n",
      "\n",
      "Epoch 183: loss did not improve from 865.58350\n",
      "\n",
      "Epoch 184: loss did not improve from 865.58350\n",
      "\n",
      "Epoch 185: loss did not improve from 865.58350\n",
      "\n",
      "Epoch 186: loss did not improve from 865.58350\n",
      "\n",
      "Epoch 187: loss did not improve from 865.58350\n",
      "\n",
      "Epoch 188: loss did not improve from 865.58350\n",
      "\n",
      "Epoch 189: loss did not improve from 865.58350\n",
      "\n",
      "Epoch 190: loss did not improve from 865.58350\n",
      "\n",
      "Epoch 191: loss did not improve from 865.58350\n",
      "\n",
      "Epoch 192: loss did not improve from 865.58350\n",
      "\n",
      "Epoch 193: loss did not improve from 865.58350\n",
      "\n",
      "Epoch 194: loss did not improve from 865.58350\n",
      "\n",
      "Epoch 195: loss did not improve from 865.58350\n",
      "\n",
      "Epoch 196: loss did not improve from 865.58350\n",
      "\n",
      "Epoch 197: loss did not improve from 865.58350\n",
      "\n",
      "Epoch 198: loss did not improve from 865.58350\n",
      "\n",
      "Epoch 199: loss did not improve from 865.58350\n",
      "\n",
      "Epoch 200: loss did not improve from 865.58350\n",
      "\n",
      "Epoch 201: loss did not improve from 865.58350\n",
      "\n",
      "Epoch 202: loss did not improve from 865.58350\n",
      "\n",
      "Epoch 203: loss did not improve from 865.58350\n",
      "\n",
      "Epoch 204: loss did not improve from 865.58350\n",
      "\n",
      "Epoch 205: loss did not improve from 865.58350\n",
      "\n",
      "Epoch 206: loss did not improve from 865.58350\n",
      "\n",
      "Epoch 207: loss did not improve from 865.58350\n",
      "\n",
      "Epoch 208: loss did not improve from 865.58350\n",
      "\n",
      "Epoch 209: loss did not improve from 865.58350\n",
      "\n",
      "Epoch 210: loss did not improve from 865.58350\n",
      "\n",
      "Epoch 211: loss did not improve from 865.58350\n",
      "\n",
      "Epoch 212: loss did not improve from 865.58350\n",
      "\n",
      "Epoch 213: loss did not improve from 865.58350\n",
      "\n",
      "Epoch 214: loss did not improve from 865.58350\n",
      "\n",
      "Epoch 215: loss did not improve from 865.58350\n",
      "\n",
      "Epoch 216: loss did not improve from 865.58350\n",
      "\n",
      "Epoch 217: loss did not improve from 865.58350\n",
      "\n",
      "Epoch 218: loss improved from 865.58350 to 855.76367, saving model to checkpoint\\_best-ann.h5\n",
      "\n",
      "Epoch 219: loss did not improve from 855.76367\n",
      "\n",
      "Epoch 220: loss did not improve from 855.76367\n",
      "\n",
      "Epoch 221: loss did not improve from 855.76367\n",
      "\n",
      "Epoch 222: loss did not improve from 855.76367\n",
      "\n",
      "Epoch 223: loss did not improve from 855.76367\n",
      "\n",
      "Epoch 224: loss did not improve from 855.76367\n",
      "\n",
      "Epoch 225: loss did not improve from 855.76367\n",
      "\n",
      "Epoch 226: loss did not improve from 855.76367\n",
      "\n",
      "Epoch 227: loss did not improve from 855.76367\n",
      "\n",
      "Epoch 228: loss did not improve from 855.76367\n",
      "\n",
      "Epoch 229: loss did not improve from 855.76367\n",
      "\n",
      "Epoch 230: loss did not improve from 855.76367\n",
      "\n",
      "Epoch 231: loss did not improve from 855.76367\n",
      "\n",
      "Epoch 232: loss did not improve from 855.76367\n",
      "\n",
      "Epoch 233: loss did not improve from 855.76367\n",
      "\n",
      "Epoch 234: loss did not improve from 855.76367\n",
      "\n",
      "Epoch 235: loss did not improve from 855.76367\n",
      "\n",
      "Epoch 236: loss did not improve from 855.76367\n",
      "\n",
      "Epoch 237: loss did not improve from 855.76367\n",
      "\n",
      "Epoch 238: loss did not improve from 855.76367\n",
      "\n",
      "Epoch 239: loss improved from 855.76367 to 855.51318, saving model to checkpoint\\_best-ann.h5\n",
      "\n",
      "Epoch 240: loss did not improve from 855.51318\n",
      "\n",
      "Epoch 241: loss did not improve from 855.51318\n",
      "\n",
      "Epoch 242: loss did not improve from 855.51318\n",
      "\n",
      "Epoch 243: loss did not improve from 855.51318\n",
      "\n",
      "Epoch 244: loss did not improve from 855.51318\n",
      "\n",
      "Epoch 245: loss did not improve from 855.51318\n",
      "\n",
      "Epoch 246: loss did not improve from 855.51318\n",
      "\n",
      "Epoch 247: loss did not improve from 855.51318\n",
      "\n",
      "Epoch 248: loss did not improve from 855.51318\n",
      "\n",
      "Epoch 249: loss did not improve from 855.51318\n",
      "\n",
      "Epoch 250: loss did not improve from 855.51318\n",
      "\n",
      "Epoch 251: loss did not improve from 855.51318\n",
      "\n",
      "Epoch 252: loss did not improve from 855.51318\n",
      "\n",
      "Epoch 253: loss did not improve from 855.51318\n",
      "\n",
      "Epoch 254: loss did not improve from 855.51318\n",
      "\n",
      "Epoch 255: loss did not improve from 855.51318\n",
      "\n",
      "Epoch 256: loss did not improve from 855.51318\n",
      "\n",
      "Epoch 257: loss did not improve from 855.51318\n",
      "\n",
      "Epoch 258: loss did not improve from 855.51318\n",
      "\n",
      "Epoch 259: loss did not improve from 855.51318\n",
      "\n",
      "Epoch 260: loss did not improve from 855.51318\n",
      "\n",
      "Epoch 261: loss did not improve from 855.51318\n",
      "\n",
      "Epoch 262: loss did not improve from 855.51318\n",
      "\n",
      "Epoch 263: loss did not improve from 855.51318\n",
      "\n",
      "Epoch 264: loss did not improve from 855.51318\n",
      "\n",
      "Epoch 265: loss did not improve from 855.51318\n",
      "\n",
      "Epoch 266: loss did not improve from 855.51318\n",
      "\n",
      "Epoch 267: loss did not improve from 855.51318\n",
      "\n",
      "Epoch 268: loss did not improve from 855.51318\n",
      "\n",
      "Epoch 269: loss did not improve from 855.51318\n",
      "\n",
      "Epoch 270: loss did not improve from 855.51318\n",
      "\n",
      "Epoch 271: loss did not improve from 855.51318\n",
      "\n",
      "Epoch 272: loss did not improve from 855.51318\n",
      "\n",
      "Epoch 273: loss did not improve from 855.51318\n",
      "\n",
      "Epoch 274: loss did not improve from 855.51318\n",
      "\n",
      "Epoch 275: loss did not improve from 855.51318\n",
      "\n",
      "Epoch 276: loss did not improve from 855.51318\n",
      "\n",
      "Epoch 277: loss did not improve from 855.51318\n",
      "\n",
      "Epoch 278: loss did not improve from 855.51318\n",
      "\n",
      "Epoch 279: loss did not improve from 855.51318\n",
      "\n",
      "Epoch 280: loss did not improve from 855.51318\n",
      "\n",
      "Epoch 281: loss did not improve from 855.51318\n",
      "\n",
      "Epoch 282: loss did not improve from 855.51318\n",
      "\n",
      "Epoch 283: loss did not improve from 855.51318\n",
      "\n",
      "Epoch 284: loss did not improve from 855.51318\n",
      "\n",
      "Epoch 285: loss did not improve from 855.51318\n",
      "\n",
      "Epoch 286: loss did not improve from 855.51318\n",
      "\n",
      "Epoch 287: loss improved from 855.51318 to 848.54413, saving model to checkpoint\\_best-ann.h5\n",
      "\n",
      "Epoch 288: loss did not improve from 848.54413\n",
      "\n",
      "Epoch 289: loss did not improve from 848.54413\n",
      "\n",
      "Epoch 290: loss did not improve from 848.54413\n",
      "\n",
      "Epoch 291: loss did not improve from 848.54413\n",
      "\n",
      "Epoch 292: loss did not improve from 848.54413\n",
      "\n",
      "Epoch 293: loss did not improve from 848.54413\n",
      "\n",
      "Epoch 294: loss did not improve from 848.54413\n",
      "\n",
      "Epoch 295: loss did not improve from 848.54413\n",
      "\n",
      "Epoch 296: loss did not improve from 848.54413\n",
      "\n",
      "Epoch 297: loss did not improve from 848.54413\n",
      "\n",
      "Epoch 298: loss did not improve from 848.54413\n",
      "\n",
      "Epoch 299: loss did not improve from 848.54413\n",
      "\n",
      "Epoch 300: loss did not improve from 848.54413\n",
      "\n",
      "Epoch 301: loss did not improve from 848.54413\n",
      "\n",
      "Epoch 302: loss did not improve from 848.54413\n",
      "\n",
      "Epoch 303: loss did not improve from 848.54413\n",
      "\n",
      "Epoch 304: loss did not improve from 848.54413\n",
      "\n",
      "Epoch 305: loss did not improve from 848.54413\n",
      "\n",
      "Epoch 306: loss did not improve from 848.54413\n",
      "\n",
      "Epoch 307: loss did not improve from 848.54413\n",
      "\n",
      "Epoch 308: loss did not improve from 848.54413\n",
      "\n",
      "Epoch 309: loss did not improve from 848.54413\n",
      "\n",
      "Epoch 310: loss did not improve from 848.54413\n",
      "\n",
      "Epoch 311: loss did not improve from 848.54413\n",
      "\n",
      "Epoch 312: loss did not improve from 848.54413\n",
      "\n",
      "Epoch 313: loss did not improve from 848.54413\n",
      "\n",
      "Epoch 314: loss did not improve from 848.54413\n",
      "\n",
      "Epoch 315: loss did not improve from 848.54413\n",
      "\n",
      "Epoch 316: loss did not improve from 848.54413\n",
      "\n",
      "Epoch 317: loss did not improve from 848.54413\n",
      "\n",
      "Epoch 318: loss did not improve from 848.54413\n",
      "\n",
      "Epoch 319: loss did not improve from 848.54413\n",
      "\n",
      "Epoch 320: loss did not improve from 848.54413\n",
      "\n",
      "Epoch 321: loss did not improve from 848.54413\n",
      "\n",
      "Epoch 322: loss did not improve from 848.54413\n",
      "\n",
      "Epoch 323: loss did not improve from 848.54413\n",
      "\n",
      "Epoch 324: loss did not improve from 848.54413\n",
      "\n",
      "Epoch 325: loss did not improve from 848.54413\n",
      "\n",
      "Epoch 326: loss improved from 848.54413 to 845.37585, saving model to checkpoint\\_best-ann.h5\n",
      "\n",
      "Epoch 327: loss did not improve from 845.37585\n",
      "\n",
      "Epoch 328: loss did not improve from 845.37585\n",
      "\n",
      "Epoch 329: loss did not improve from 845.37585\n",
      "\n",
      "Epoch 330: loss did not improve from 845.37585\n",
      "\n",
      "Epoch 331: loss did not improve from 845.37585\n",
      "\n",
      "Epoch 332: loss did not improve from 845.37585\n",
      "\n",
      "Epoch 333: loss did not improve from 845.37585\n",
      "\n",
      "Epoch 334: loss did not improve from 845.37585\n",
      "\n",
      "Epoch 335: loss did not improve from 845.37585\n",
      "\n",
      "Epoch 336: loss did not improve from 845.37585\n",
      "\n",
      "Epoch 337: loss did not improve from 845.37585\n",
      "\n",
      "Epoch 338: loss did not improve from 845.37585\n",
      "\n",
      "Epoch 339: loss did not improve from 845.37585\n",
      "\n",
      "Epoch 340: loss did not improve from 845.37585\n",
      "\n",
      "Epoch 341: loss did not improve from 845.37585\n",
      "\n",
      "Epoch 342: loss did not improve from 845.37585\n",
      "\n",
      "Epoch 343: loss did not improve from 845.37585\n",
      "\n",
      "Epoch 344: loss did not improve from 845.37585\n",
      "\n",
      "Epoch 345: loss did not improve from 845.37585\n",
      "\n",
      "Epoch 346: loss did not improve from 845.37585\n",
      "\n",
      "Epoch 347: loss did not improve from 845.37585\n",
      "\n",
      "Epoch 348: loss did not improve from 845.37585\n",
      "\n",
      "Epoch 349: loss did not improve from 845.37585\n",
      "\n",
      "Epoch 350: loss did not improve from 845.37585\n",
      "\n",
      "Epoch 351: loss did not improve from 845.37585\n",
      "\n",
      "Epoch 352: loss did not improve from 845.37585\n",
      "\n",
      "Epoch 353: loss did not improve from 845.37585\n",
      "\n",
      "Epoch 354: loss did not improve from 845.37585\n",
      "\n",
      "Epoch 355: loss did not improve from 845.37585\n",
      "\n",
      "Epoch 356: loss did not improve from 845.37585\n",
      "\n",
      "Epoch 357: loss did not improve from 845.37585\n",
      "\n",
      "Epoch 358: loss did not improve from 845.37585\n",
      "\n",
      "Epoch 359: loss did not improve from 845.37585\n",
      "\n",
      "Epoch 360: loss did not improve from 845.37585\n",
      "\n",
      "Epoch 361: loss did not improve from 845.37585\n",
      "\n",
      "Epoch 362: loss did not improve from 845.37585\n",
      "\n",
      "Epoch 363: loss did not improve from 845.37585\n",
      "\n",
      "Epoch 364: loss did not improve from 845.37585\n",
      "\n",
      "Epoch 365: loss did not improve from 845.37585\n",
      "\n",
      "Epoch 366: loss did not improve from 845.37585\n",
      "\n",
      "Epoch 367: loss did not improve from 845.37585\n",
      "\n",
      "Epoch 368: loss did not improve from 845.37585\n",
      "\n",
      "Epoch 369: loss did not improve from 845.37585\n",
      "\n",
      "Epoch 370: loss did not improve from 845.37585\n",
      "\n",
      "Epoch 371: loss did not improve from 845.37585\n",
      "\n",
      "Epoch 372: loss did not improve from 845.37585\n",
      "\n",
      "Epoch 373: loss did not improve from 845.37585\n",
      "\n",
      "Epoch 374: loss did not improve from 845.37585\n",
      "\n",
      "Epoch 375: loss did not improve from 845.37585\n",
      "\n",
      "Epoch 376: loss did not improve from 845.37585\n",
      "\n",
      "Epoch 377: loss did not improve from 845.37585\n",
      "\n",
      "Epoch 378: loss did not improve from 845.37585\n",
      "\n",
      "Epoch 379: loss did not improve from 845.37585\n",
      "\n",
      "Epoch 380: loss did not improve from 845.37585\n",
      "\n",
      "Epoch 381: loss did not improve from 845.37585\n",
      "\n",
      "Epoch 382: loss did not improve from 845.37585\n",
      "\n",
      "Epoch 383: loss did not improve from 845.37585\n",
      "\n",
      "Epoch 384: loss did not improve from 845.37585\n",
      "\n",
      "Epoch 385: loss did not improve from 845.37585\n",
      "\n",
      "Epoch 386: loss did not improve from 845.37585\n",
      "\n",
      "Epoch 387: loss did not improve from 845.37585\n",
      "\n",
      "Epoch 388: loss did not improve from 845.37585\n",
      "\n",
      "Epoch 389: loss did not improve from 845.37585\n",
      "\n",
      "Epoch 390: loss did not improve from 845.37585\n",
      "\n",
      "Epoch 391: loss did not improve from 845.37585\n",
      "\n",
      "Epoch 392: loss did not improve from 845.37585\n",
      "\n",
      "Epoch 393: loss did not improve from 845.37585\n",
      "\n",
      "Epoch 394: loss did not improve from 845.37585\n",
      "\n",
      "Epoch 395: loss did not improve from 845.37585\n",
      "\n",
      "Epoch 396: loss did not improve from 845.37585\n",
      "\n",
      "Epoch 397: loss did not improve from 845.37585\n",
      "\n",
      "Epoch 398: loss did not improve from 845.37585\n",
      "\n",
      "Epoch 399: loss did not improve from 845.37585\n",
      "\n",
      "Epoch 400: loss did not improve from 845.37585\n"
     ]
    }
   ],
   "source": [
    "model = create_ANN()\n",
    "\n",
    "result = model.fit(\n",
    "    X_train, y_train,\n",
    "    epochs=400,\n",
    "    batch_size=BATCH_SIZE,\n",
    "    shuffle=True,\n",
    "    class_weight=None,\n",
    "    sample_weight=None,\n",
    "    validation_split=.3,\n",
    "    callbacks=[checkpoint,tb],\n",
    "    verbose=0,\n",
    ")"
   ],
   "metadata": {
    "collapsed": false,
    "ExecuteTime": {
     "end_time": "2024-02-29T22:43:08.604481500Z",
     "start_time": "2024-02-29T22:25:59.689821200Z"
    }
   },
   "id": "7a3dac08c4f0ce2"
  },
  {
   "cell_type": "markdown",
   "source": [],
   "metadata": {
    "collapsed": false
   },
   "id": "6bcb91482f08437a"
  },
  {
   "cell_type": "code",
   "execution_count": 109,
   "outputs": [
    {
     "name": "stdout",
     "output_type": "stream",
     "text": [
      "Model: \"sequential_5\"\n",
      "_________________________________________________________________\n",
      " Layer (type)                Output Shape              Param #   \n",
      "=================================================================\n",
      " dense_20 (Dense)            (None, 2)                 10        \n",
      "                                                                 \n",
      " dropout_5 (Dropout)         (None, 2)                 0         \n",
      "                                                                 \n",
      " dense_21 (Dense)            (None, 6)                 18        \n",
      "                                                                 \n",
      " dense_22 (Dense)            (None, 8)                 56        \n",
      "                                                                 \n",
      " dense_23 (Dense)            (None, 1)                 9         \n",
      "                                                                 \n",
      "=================================================================\n",
      "Total params: 93 (372.00 Byte)\n",
      "Trainable params: 93 (372.00 Byte)\n",
      "Non-trainable params: 0 (0.00 Byte)\n",
      "_________________________________________________________________\n"
     ]
    },
    {
     "data": {
      "image/png": "[encoded data removed]",
      "text/plain": "<IPython.core.display.Image object>"
     },
     "execution_count": 109,
     "metadata": {},
     "output_type": "execute_result"
    }
   ],
   "source": [
    "model.summary()\n",
    "from tensorflow.keras.utils import plot_model\n",
    "plot_model(model, to_file='model_plot.png', show_shapes=True, show_layer_names=True)"
   ],
   "metadata": {
    "collapsed": false,
    "ExecuteTime": {
     "end_time": "2024-02-29T22:43:08.920482400Z",
     "start_time": "2024-02-29T22:43:08.616298300Z"
    }
   },
   "id": "2e7c67134e9c7adf"
  },
  {
   "cell_type": "markdown",
   "source": [
    "\n"
   ],
   "metadata": {
    "collapsed": false
   },
   "id": "bf79b7261f258965"
  },
  {
   "cell_type": "code",
   "execution_count": 110,
   "outputs": [
    {
     "name": "stdout",
     "output_type": "stream",
     "text": [
      "236/236 [==============================] - 1s 2ms/step - loss: 499.1820 - mae: 16.8592 - mse: 499.1551\n",
      "loss:499.1820068359375, \n",
      "mse: 499.1551208496094\n"
     ]
    }
   ],
   "source": [
    "# evaluate the keras model\n",
    "loss,  mae , mse = model.evaluate(X_test, y_test)\n",
    "print(f'loss:{loss}, \\nmse: {mse}')"
   ],
   "metadata": {
    "collapsed": false,
    "ExecuteTime": {
     "end_time": "2024-02-29T22:43:09.550563100Z",
     "start_time": "2024-02-29T22:43:08.920482400Z"
    }
   },
   "id": "fe980dd28e10ddd9"
  },
  {
   "cell_type": "code",
   "execution_count": 111,
   "outputs": [
    {
     "data": {
      "text/plain": "Text(0.5, 0, 'Epoka')"
     },
     "execution_count": 111,
     "metadata": {},
     "output_type": "execute_result"
    },
    {
     "data": {
      "text/plain": "<Figure size 1000x1000 with 1 Axes>",
      "image/png": "[encoded data removed]"
     },
     "metadata": {},
     "output_type": "display_data"
    }
   ],
   "source": [
    "df_results = pd.DataFrame(result.history)\n",
    "df_results.plot(figsize=(10,10))\n",
    "plt.title('Wykres zbiorczy błędów uczenia w kolejnych epokach')\n",
    "plt.xlabel('Epoka')"
   ],
   "metadata": {
    "collapsed": false,
    "ExecuteTime": {
     "end_time": "2024-02-29T22:43:09.928278100Z",
     "start_time": "2024-02-29T22:43:09.543147200Z"
    }
   },
   "id": "3137e261574861d5"
  },
  {
   "cell_type": "code",
   "execution_count": 112,
   "outputs": [
    {
     "data": {
      "text/plain": "             loss         mae           mse     val_loss    val_mae  \\\n0    20139.960938  132.907852  20139.949219  7094.577148  76.164871   \n1     7490.028320   69.032494   7490.011719  2763.670654  41.203888   \n2     6675.902832   64.134789   6675.880859  2468.225586  38.291916   \n3     6012.782715   60.757729   6012.758789  2239.038574  35.811237   \n4     5259.122559   56.268959   5259.098145  1918.371338  32.260723   \n..            ...         ...           ...          ...        ...   \n395    867.001343   20.728357    866.974304   516.796387  17.228678   \n396    905.179810   20.945198    905.152466   516.695679  17.227045   \n397    901.201050   20.911072    901.174255   516.339966  17.218681   \n398    886.789917   20.860327    886.763428   516.739929  17.228790   \n399    864.791016   20.639194    864.763855   517.432678  17.245913   \n\n         val_mse  \n0    7094.563477  \n1    2763.651123  \n2    2468.207031  \n3    2239.017578  \n4    1918.350952  \n..           ...  \n395   516.769165  \n396   516.668701  \n397   516.312988  \n398   516.712769  \n399   517.405762  \n\n[400 rows x 6 columns]",
      "text/html": "<div>\n<style scoped>\n    .dataframe tbody tr th:only-of-type {\n        vertical-align: middle;\n    }\n\n    .dataframe tbody tr th {\n        vertical-align: top;\n    }\n\n    .dataframe thead th {\n        text-align: right;\n    }\n</style>\n<table border=\"1\" class=\"dataframe\">\n  <thead>\n    <tr style=\"text-align: right;\">\n      <th></th>\n      <th>loss</th>\n      <th>mae</th>\n      <th>mse</th>\n      <th>val_loss</th>\n      <th>val_mae</th>\n      <th>val_mse</th>\n    </tr>\n  </thead>\n  <tbody>\n    <tr>\n      <th>0</th>\n      <td>20139.960938</td>\n      <td>132.907852</td>\n      <td>20139.949219</td>\n      <td>7094.577148</td>\n      <td>76.164871</td>\n      <td>7094.563477</td>\n    </tr>\n    <tr>\n      <th>1</th>\n      <td>7490.028320</td>\n      <td>69.032494</td>\n      <td>7490.011719</td>\n      <td>2763.670654</td>\n      <td>41.203888</td>\n      <td>2763.651123</td>\n    </tr>\n    <tr>\n      <th>2</th>\n      <td>6675.902832</td>\n      <td>64.134789</td>\n      <td>6675.880859</td>\n      <td>2468.225586</td>\n      <td>38.291916</td>\n      <td>2468.207031</td>\n    </tr>\n    <tr>\n      <th>3</th>\n      <td>6012.782715</td>\n      <td>60.757729</td>\n      <td>6012.758789</td>\n      <td>2239.038574</td>\n      <td>35.811237</td>\n      <td>2239.017578</td>\n    </tr>\n    <tr>\n      <th>4</th>\n      <td>5259.122559</td>\n      <td>56.268959</td>\n      <td>5259.098145</td>\n      <td>1918.371338</td>\n      <td>32.260723</td>\n      <td>1918.350952</td>\n    </tr>\n    <tr>\n      <th>...</th>\n      <td>...</td>\n      <td>...</td>\n      <td>...</td>\n      <td>...</td>\n      <td>...</td>\n      <td>...</td>\n    </tr>\n    <tr>\n      <th>395</th>\n      <td>867.001343</td>\n      <td>20.728357</td>\n      <td>866.974304</td>\n      <td>516.796387</td>\n      <td>17.228678</td>\n      <td>516.769165</td>\n    </tr>\n    <tr>\n      <th>396</th>\n      <td>905.179810</td>\n      <td>20.945198</td>\n      <td>905.152466</td>\n      <td>516.695679</td>\n      <td>17.227045</td>\n      <td>516.668701</td>\n    </tr>\n    <tr>\n      <th>397</th>\n      <td>901.201050</td>\n      <td>20.911072</td>\n      <td>901.174255</td>\n      <td>516.339966</td>\n      <td>17.218681</td>\n      <td>516.312988</td>\n    </tr>\n    <tr>\n      <th>398</th>\n      <td>886.789917</td>\n      <td>20.860327</td>\n      <td>886.763428</td>\n      <td>516.739929</td>\n      <td>17.228790</td>\n      <td>516.712769</td>\n    </tr>\n    <tr>\n      <th>399</th>\n      <td>864.791016</td>\n      <td>20.639194</td>\n      <td>864.763855</td>\n      <td>517.432678</td>\n      <td>17.245913</td>\n      <td>517.405762</td>\n    </tr>\n  </tbody>\n</table>\n<p>400 rows × 6 columns</p>\n</div>"
     },
     "execution_count": 112,
     "metadata": {},
     "output_type": "execute_result"
    }
   ],
   "source": [
    "df_results"
   ],
   "metadata": {
    "collapsed": false,
    "ExecuteTime": {
     "end_time": "2024-02-29T22:43:09.949324800Z",
     "start_time": "2024-02-29T22:43:09.933158800Z"
    }
   },
   "id": "44ee62408363a907"
  },
  {
   "cell_type": "code",
   "execution_count": 113,
   "outputs": [
    {
     "name": "stdout",
     "output_type": "stream",
     "text": [
      "236/236 [==============================] - 1s 2ms/step\n"
     ]
    }
   ],
   "source": [
    "y_predicted = model.predict(X_test)"
   ],
   "metadata": {
    "collapsed": false,
    "ExecuteTime": {
     "end_time": "2024-02-29T22:43:10.672173800Z",
     "start_time": "2024-02-29T22:43:09.955904300Z"
    }
   },
   "id": "48d55dfafc73f8c4"
  },
  {
   "cell_type": "code",
   "execution_count": 114,
   "outputs": [
    {
     "data": {
      "text/plain": "         distance  y_predicted       diff   abs_diff    diff_pow\n1550   184.680893   171.048935 -13.631958  13.631958  185.830289\n11680  123.181702   138.962158  15.780457  15.780457  249.022809\n4676   186.524236   171.675461 -14.848775  14.848775  220.486124\n8151   171.201077   160.414536 -10.786541  10.786541  116.349468\n5369   122.484562   138.962158  16.477596  16.477596  271.511168",
      "text/html": "<div>\n<style scoped>\n    .dataframe tbody tr th:only-of-type {\n        vertical-align: middle;\n    }\n\n    .dataframe tbody tr th {\n        vertical-align: top;\n    }\n\n    .dataframe thead th {\n        text-align: right;\n    }\n</style>\n<table border=\"1\" class=\"dataframe\">\n  <thead>\n    <tr style=\"text-align: right;\">\n      <th></th>\n      <th>distance</th>\n      <th>y_predicted</th>\n      <th>diff</th>\n      <th>abs_diff</th>\n      <th>diff_pow</th>\n    </tr>\n  </thead>\n  <tbody>\n    <tr>\n      <th>1550</th>\n      <td>184.680893</td>\n      <td>171.048935</td>\n      <td>-13.631958</td>\n      <td>13.631958</td>\n      <td>185.830289</td>\n    </tr>\n    <tr>\n      <th>11680</th>\n      <td>123.181702</td>\n      <td>138.962158</td>\n      <td>15.780457</td>\n      <td>15.780457</td>\n      <td>249.022809</td>\n    </tr>\n    <tr>\n      <th>4676</th>\n      <td>186.524236</td>\n      <td>171.675461</td>\n      <td>-14.848775</td>\n      <td>14.848775</td>\n      <td>220.486124</td>\n    </tr>\n    <tr>\n      <th>8151</th>\n      <td>171.201077</td>\n      <td>160.414536</td>\n      <td>-10.786541</td>\n      <td>10.786541</td>\n      <td>116.349468</td>\n    </tr>\n    <tr>\n      <th>5369</th>\n      <td>122.484562</td>\n      <td>138.962158</td>\n      <td>16.477596</td>\n      <td>16.477596</td>\n      <td>271.511168</td>\n    </tr>\n  </tbody>\n</table>\n</div>"
     },
     "execution_count": 114,
     "metadata": {},
     "output_type": "execute_result"
    }
   ],
   "source": [
    "df__a = pd.DataFrame(y_test)\n",
    "df__a['y_predicted']=y_predicted\n",
    "df__a['diff']=df__a.y_predicted-df__a.distance\n",
    "df__a['abs_diff'] = abs(df__a['diff'])\n",
    "df__a['diff_pow']=df__a['diff']*df__a['diff']\n",
    "df__a.tail()"
   ],
   "metadata": {
    "collapsed": false,
    "ExecuteTime": {
     "end_time": "2024-02-29T22:43:10.696319100Z",
     "start_time": "2024-02-29T22:43:10.672173800Z"
    }
   },
   "id": "5ee8b07fa3a70eac"
  },
  {
   "cell_type": "code",
   "execution_count": 115,
   "outputs": [
    {
     "name": "stdout",
     "output_type": "stream",
     "text": [
      "mean_ref: 155.85899895145323,\n",
      "bias: -0.05159950891791639, \n",
      "bias_%: -0.03310653171459708, \n",
      "mae: 16.85925345195004, \n",
      "mae_%: 10.816990719413859, \n",
      "RMSE: 22.341781072609667 \n",
      "RMSE %: 14.334610913014178\n"
     ]
    },
    {
     "name": "stderr",
     "output_type": "stream",
     "text": [
      "C:\\Users\\patry\\AppData\\Local\\Temp\\ipykernel_14188\\758387956.py:2: FutureWarning: Series.__getitem__ treating keys as positions is deprecated. In a future version, integer keys will always be treated as labels (consistent with DataFrame behavior). To access a value by position, use `ser.iloc[pos]`\n",
      "  mean_ref = df__a['distance'].describe()[1]\n",
      "C:\\Users\\patry\\AppData\\Local\\Temp\\ipykernel_14188\\758387956.py:3: FutureWarning: Series.__getitem__ treating keys as positions is deprecated. In a future version, integer keys will always be treated as labels (consistent with DataFrame behavior). To access a value by position, use `ser.iloc[pos]`\n",
      "  bias = df__a['diff'].describe()[1]\n",
      "C:\\Users\\patry\\AppData\\Local\\Temp\\ipykernel_14188\\758387956.py:4: FutureWarning: Series.__getitem__ treating keys as positions is deprecated. In a future version, integer keys will always be treated as labels (consistent with DataFrame behavior). To access a value by position, use `ser.iloc[pos]`\n",
      "  mae =df__a['abs_diff'].describe()[1]\n"
     ]
    }
   ],
   "source": [
    "import math\n",
    "mean_ref = df__a['distance'].describe()[1]\n",
    "bias = df__a['diff'].describe()[1]\n",
    "mae =df__a['abs_diff'].describe()[1]\n",
    "RMSE = math.sqrt(df__a['diff_pow'].sum()/df__a.shape[0])\n",
    "print(\n",
    "    f'mean_ref: {mean_ref},'\n",
    "    f'\\nbias: {bias}, \\nbias_%: {bias/mean_ref*100}, '\n",
    "    f'\\nmae: {mae}, \\nmae_%: {mae/mean_ref*100}, '\n",
    "    f'\\nRMSE: {RMSE} \\nRMSE %: {RMSE/mean_ref*100}'\n",
    ")"
   ],
   "metadata": {
    "collapsed": false,
    "ExecuteTime": {
     "end_time": "2024-02-29T22:43:10.732484100Z",
     "start_time": "2024-02-29T22:43:10.696319100Z"
    }
   },
   "id": "218ddd5182a4e739"
  },
  {
   "cell_type": "code",
   "execution_count": 116,
   "outputs": [
    {
     "data": {
      "text/plain": "<Figure size 600x600 with 1 Axes>",
      "image/png": "[encoded data removed]"
     },
     "metadata": {},
     "output_type": "display_data"
    }
   ],
   "source": [
    "# rozkład błedów\n",
    "error = df__a.y_predicted-df__a.distance\n",
    "plt.figure(figsize = (6,6))\n",
    "plt.hist(error, bins=25)\n",
    "plt.xlabel('Prediction Error')\n",
    "_ = plt.ylabel('Count')"
   ],
   "metadata": {
    "collapsed": false,
    "ExecuteTime": {
     "end_time": "2024-02-29T22:43:11.076667300Z",
     "start_time": "2024-02-29T22:43:10.716698900Z"
    }
   },
   "id": "5de947c502e12c8a"
  },
  {
   "cell_type": "code",
   "execution_count": 117,
   "outputs": [
    {
     "data": {
      "text/plain": "<Figure size 800x800 with 0 Axes>"
     },
     "metadata": {},
     "output_type": "display_data"
    },
    {
     "data": {
      "text/plain": "<Figure size 640x480 with 1 Axes>",
      "image/png": "[encoded data removed]"
     },
     "metadata": {},
     "output_type": "display_data"
    }
   ],
   "source": [
    "plt.figure(figsize = (8,8))\n",
    "df__a.plot.scatter(y='y_predicted', x='distance')\n",
    "plt.plot(range(5), color='orange')\n",
    "plt.xlim(50, 350)\n",
    "plt.ylim(100, 250)\n",
    "ax = plt.gca()\n",
    "ax.set_aspect('equal', adjustable='box')\n",
    "plt.xlabel('y_ref')\n",
    "plt.ylabel('y_pred')\n",
    "plt.draw()"
   ],
   "metadata": {
    "collapsed": false,
    "ExecuteTime": {
     "end_time": "2024-02-29T22:43:11.453032800Z",
     "start_time": "2024-02-29T22:43:11.084132300Z"
    }
   },
   "id": "7b0ea2245912459d"
  },
  {
   "cell_type": "code",
   "execution_count": 118,
   "outputs": [],
   "source": [
    "# print(y_predicted)"
   ],
   "metadata": {
    "collapsed": false,
    "ExecuteTime": {
     "end_time": "2024-02-29T22:43:11.463749400Z",
     "start_time": "2024-02-29T22:43:11.457764Z"
    }
   },
   "id": "14f7ad8255e39a20"
  },
  {
   "cell_type": "code",
   "execution_count": 119,
   "outputs": [],
   "source": [
    "\n",
    "# df__a = pd.merge(df__a, df_p[['ID', 'angle']], left_index=True, right_index=True)\n",
    "# print(df__a)\n"
   ],
   "metadata": {
    "collapsed": false,
    "ExecuteTime": {
     "end_time": "2024-02-29T22:43:11.476639600Z",
     "start_time": "2024-02-29T22:43:11.463749400Z"
    }
   },
   "id": "fa9634ba14f414ae"
  },
  {
   "cell_type": "code",
   "execution_count": 120,
   "outputs": [],
   "source": [
    "# df__a.to_csv(path_or_buf=\"./results.csv\",index=False,quoting=3,sep=';')"
   ],
   "metadata": {
    "collapsed": false,
    "ExecuteTime": {
     "end_time": "2024-02-29T22:43:11.488635900Z",
     "start_time": "2024-02-29T22:43:11.471360400Z"
    }
   },
   "id": "e37bbd437a74cd0a"
  },
  {
   "cell_type": "code",
   "execution_count": 120,
   "outputs": [],
   "source": [],
   "metadata": {
    "collapsed": false,
    "ExecuteTime": {
     "end_time": "2024-02-29T22:43:11.532476600Z",
     "start_time": "2024-02-29T22:43:11.483915600Z"
    }
   },
   "id": "12b88517aee64577"
  }
 ],
 "metadata": {
  "kernelspec": {
   "display_name": "Python 3",
   "language": "python",
   "name": "python3"
  },
  "language_info": {
   "codemirror_mode": {
    "name": "ipython",
    "version": 2
   },
   "file_extension": ".py",
   "mimetype": "text/x-python",
   "name": "python",
   "nbconvert_exporter": "python",
   "pygments_lexer": "ipython2",
   "version": "2.7.6"
  }
 },
 "nbformat": 4,
 "nbformat_minor": 5
}
