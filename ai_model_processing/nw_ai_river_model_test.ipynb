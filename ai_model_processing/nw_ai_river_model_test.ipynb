{
 "cells": [
  {
   "cell_type": "code",
   "execution_count": 3,
   "id": "initial_id",
   "metadata": {
    "collapsed": true,
    "ExecuteTime": {
     "end_time": "2024-02-29T22:25:55.536991600Z",
     "start_time": "2024-02-29T22:25:55.450792800Z"
    },
    "pycharm": {
     "name": "#%%\n"
    }
   },
   "outputs": [
    {
     "name": "stdout",
     "output_type": "stream",
     "text": [
      "WARNING:tensorflow:From D:\\OneDrive - Wojskowa Akademia Techniczna\\Pulpit\\mormus\\ai_river_project\\venv\\Lib\\site-packages\\keras\\src\\losses.py:2976: The name tf.losses.sparse_softmax_cross_entropy is deprecated. Please use tf.compat.v1.losses.sparse_softmax_cross_entropy instead.\n",
      "\n"
     ]
    }
   ],
   "source": [
    "import pandas as pd\n",
    "import geopandas as gpd\n",
    "import tensorflow as tf\n",
    "from sklearn.preprocessing import MinMaxScaler\n",
    "from sklearn.model_selection import train_test_split\n",
    "import matplotlib.pyplot as plt\n",
    "%matplotlib inline\n",
    "import missingno as msno\n",
    "import numpy as np"
   ]
  },
  {
   "cell_type": "code",
   "execution_count": 94,
   "outputs": [],
   "source": [
    "# !pip install tensorflow\n",
    "# !pip install scikit-learn\n",
    "# !pip install matplotlib\n",
    "# !pip install seaborn\n",
    "# !pip install missingno"
   ],
   "metadata": {
    "collapsed": false,
    "ExecuteTime": {
     "end_time": "2024-02-29T22:25:55.552772Z",
     "start_time": "2024-02-29T22:25:55.468131400Z"
    },
    "pycharm": {
     "name": "#%%\n"
    }
   },
   "id": "376e23cf07a1f484"
  },
  {
   "cell_type": "code",
   "execution_count": 4,
   "outputs": [],
   "source": [
    "path = '../.outputs/data_model_xy.geojson'\n",
    "df_p = gpd.read_file(path)"
   ],
   "metadata": {
    "collapsed": false,
    "ExecuteTime": {
     "end_time": "2024-02-29T22:25:58.813276300Z",
     "start_time": "2024-02-29T22:25:55.473729500Z"
    },
    "pycharm": {
     "name": "#%%\n"
    }
   },
   "id": "75f63cc79842dd76"
  },
  {
   "cell_type": "code",
   "execution_count": 5,
   "outputs": [
    {
     "data": {
      "text/plain": "<Axes: >"
     },
     "execution_count": 5,
     "metadata": {},
     "output_type": "execute_result"
    },
    {
     "data": {
      "text/plain": "<Figure size 1000x400 with 2 Axes>",
      "image/png": "[encoded data removed]"
     },
     "metadata": {},
     "output_type": "display_data"
    }
   ],
   "source": [
    "msno.matrix(df_p, figsize=(10,4)) # test pustych wierszy\n",
    "# df_p =df_p.fillna(0) # wypełnianie Nan zerami\n"
   ],
   "metadata": {
    "collapsed": false,
    "ExecuteTime": {
     "end_time": "2024-02-29T22:25:59.044003200Z",
     "start_time": "2024-02-29T22:25:58.817802Z"
    },
    "pycharm": {
     "name": "#%%\n"
    }
   },
   "id": "67b99ee4507c6500"
  },
  {
   "cell_type": "code",
   "execution_count": 6,
   "outputs": [
    {
     "data": {
      "text/plain": "    count  mean  std  min  25%  50%  75%  max\nid    3.0   1.0  0.0  1.0  1.0  1.0  1.0  1.0",
      "text/html": "<div>\n<style scoped>\n    .dataframe tbody tr th:only-of-type {\n        vertical-align: middle;\n    }\n\n    .dataframe tbody tr th {\n        vertical-align: top;\n    }\n\n    .dataframe thead th {\n        text-align: right;\n    }\n</style>\n<table border=\"1\" class=\"dataframe\">\n  <thead>\n    <tr style=\"text-align: right;\">\n      <th></th>\n      <th>count</th>\n      <th>mean</th>\n      <th>std</th>\n      <th>min</th>\n      <th>25%</th>\n      <th>50%</th>\n      <th>75%</th>\n      <th>max</th>\n    </tr>\n  </thead>\n  <tbody>\n    <tr>\n      <th>id</th>\n      <td>3.0</td>\n      <td>1.0</td>\n      <td>0.0</td>\n      <td>1.0</td>\n      <td>1.0</td>\n      <td>1.0</td>\n      <td>1.0</td>\n      <td>1.0</td>\n    </tr>\n  </tbody>\n</table>\n</div>"
     },
     "execution_count": 6,
     "metadata": {},
     "output_type": "execute_result"
    }
   ],
   "source": [
    "df_p.describe().transpose()"
   ],
   "metadata": {
    "collapsed": false,
    "ExecuteTime": {
     "end_time": "2024-02-29T22:25:59.070746200Z",
     "start_time": "2024-02-29T22:25:59.044003200Z"
    },
    "pycharm": {
     "name": "#%%\n"
    }
   },
   "id": "e6d46256d2f86855"
  },
  {
   "cell_type": "code",
   "execution_count": 7,
   "outputs": [
    {
     "data": {
      "text/plain": "   id                                           geometry\n0   1  LINESTRING (661651.040 563319.409, 661652.571 ...\n1   1  LINESTRING (662144.578 562932.642, 662143.396 ...\n2   1  LINESTRING (662131.992 562825.761, 662132.398 ...",
      "text/html": "<div>\n<style scoped>\n    .dataframe tbody tr th:only-of-type {\n        vertical-align: middle;\n    }\n\n    .dataframe tbody tr th {\n        vertical-align: top;\n    }\n\n    .dataframe thead th {\n        text-align: right;\n    }\n</style>\n<table border=\"1\" class=\"dataframe\">\n  <thead>\n    <tr style=\"text-align: right;\">\n      <th></th>\n      <th>id</th>\n      <th>geometry</th>\n    </tr>\n  </thead>\n  <tbody>\n    <tr>\n      <th>0</th>\n      <td>1</td>\n      <td>LINESTRING (661651.040 563319.409, 661652.571 ...</td>\n    </tr>\n    <tr>\n      <th>1</th>\n      <td>1</td>\n      <td>LINESTRING (662144.578 562932.642, 662143.396 ...</td>\n    </tr>\n    <tr>\n      <th>2</th>\n      <td>1</td>\n      <td>LINESTRING (662131.992 562825.761, 662132.398 ...</td>\n    </tr>\n  </tbody>\n</table>\n</div>"
     },
     "execution_count": 7,
     "metadata": {},
     "output_type": "execute_result"
    }
   ],
   "source": [
    "df_p.explode(ignore_index=True)"
   ],
   "metadata": {
    "collapsed": false,
    "ExecuteTime": {
     "end_time": "2024-02-29T22:25:59.334216100Z",
     "start_time": "2024-02-29T22:25:59.070746200Z"
    },
    "pycharm": {
     "name": "#%%\n"
    }
   },
   "id": "de1543b41d869a1b"
  },
  {
   "cell_type": "code",
   "execution_count": 8,
   "outputs": [
    {
     "data": {
      "text/plain": "(3, 2)"
     },
     "execution_count": 8,
     "metadata": {},
     "output_type": "execute_result"
    }
   ],
   "source": [
    "df_p.shape"
   ],
   "metadata": {
    "collapsed": false,
    "ExecuteTime": {
     "end_time": "2024-02-29T22:25:59.334216100Z",
     "start_time": "2024-02-29T22:25:59.086795800Z"
    },
    "pycharm": {
     "name": "#%%\n"
    }
   },
   "id": "2873a098f746fd15"
  },
  {
   "cell_type": "code",
   "execution_count": 9,
   "outputs": [
    {
     "data": {
      "text/plain": "((1298, 1), (1298, 1))"
     },
     "execution_count": 9,
     "metadata": {},
     "output_type": "execute_result"
    }
   ],
   "source": [
    "#normalizacja i podzial na dane wejsciowe i wyjsciowe\n",
    "X = df_p.get_coordinates()[[\"x\"]]\n",
    "X = MinMaxScaler().fit_transform(X)\n",
    "y = df_p.get_coordinates()[[\"y\"]]\n",
    "X.shape, y.shape"
   ],
   "metadata": {
    "collapsed": false,
    "ExecuteTime": {
     "end_time": "2024-02-29T22:25:59.334216100Z",
     "start_time": "2024-02-29T22:25:59.104197Z"
    },
    "pycharm": {
     "name": "#%%\n"
    }
   },
   "id": "baa638afd1b648b8"
  },
  {
   "cell_type": "code",
   "execution_count": 10,
   "outputs": [],
   "source": [
    "X_train, X_test, y_train, y_test  = train_test_split(X, y, \n",
    "                                                     # random_state=42,\n",
    "                                                     test_size=.2)"
   ],
   "metadata": {
    "collapsed": false,
    "ExecuteTime": {
     "end_time": "2024-02-29T22:25:59.334216100Z",
     "start_time": "2024-02-29T22:25:59.212495400Z"
    },
    "pycharm": {
     "name": "#%%\n"
    }
   },
   "id": "b13b24d36e2e49ca"
  },
  {
   "cell_type": "code",
   "execution_count": 11,
   "outputs": [
    {
     "data": {
      "text/plain": "((1038, 1), (260, 1), (1038, 1), (260, 1))"
     },
     "execution_count": 11,
     "metadata": {},
     "output_type": "execute_result"
    }
   ],
   "source": [
    "X_train.shape, X_test.shape, y_train.shape, y_test.shape"
   ],
   "metadata": {
    "collapsed": false,
    "ExecuteTime": {
     "end_time": "2024-02-29T22:25:59.334216100Z",
     "start_time": "2024-02-29T22:25:59.280512600Z"
    },
    "pycharm": {
     "name": "#%%\n"
    }
   },
   "id": "9115bf1af0b75983"
  },
  {
   "cell_type": "markdown",
   "source": [
    "# MODEL"
   ],
   "metadata": {
    "collapsed": false,
    "pycharm": {
     "name": "#%% md\n"
    }
   },
   "id": "ed19d889e2e72ee3"
  },
  {
   "cell_type": "code",
   "execution_count": 12,
   "outputs": [],
   "source": [
    "from numpy import loadtxt\n",
    "from tensorflow.keras.models import Sequential\n",
    "from tensorflow.keras.layers import Input, Dense, Concatenate,Dropout,CategoryEncoding, Embedding, Flatten,Conv2D, LSTM\n",
    "from tensorflow.keras.callbacks import ModelCheckpoint,EarlyStopping\n",
    "from tensorflow.random import set_seed #ustawiam ziarno pseudolosowości\n",
    "from tensorflow.keras.callbacks import TensorBoard\n",
    "from datetime import datetime as dt\n",
    "import os"
   ],
   "metadata": {
    "collapsed": false,
    "ExecuteTime": {
     "end_time": "2024-02-29T22:25:59.334216100Z",
     "start_time": "2024-02-29T22:25:59.290718600Z"
    },
    "pycharm": {
     "name": "#%%\n"
    }
   },
   "id": "2397e40dbf0398f5"
  },
  {
   "cell_type": "code",
   "execution_count": 13,
   "outputs": [],
   "source": [
    "N_TRAIN = int(1e4)\n",
    "BATCH_SIZE = 8\n",
    "STEPS_PER_EPOCH = N_TRAIN//BATCH_SIZE\n",
    "lr_schedule = tf.keras.optimizers.schedules.InverseTimeDecay(\n",
    "  0.0001,\n",
    "  decay_steps=STEPS_PER_EPOCH*1,\n",
    "  decay_rate=1,\n",
    "  staircase=False)\n",
    "\n",
    "def get_optimizer():\n",
    "  return tf.keras.optimizers.experimental.RMSprop(lr_schedule)"
   ],
   "metadata": {
    "collapsed": false,
    "ExecuteTime": {
     "end_time": "2024-02-29T22:25:59.334216100Z",
     "start_time": "2024-02-29T22:25:59.291233700Z"
    },
    "pycharm": {
     "name": "#%%\n"
    }
   },
   "id": "d06f64f776731c7"
  },
  {
   "cell_type": "code",
   "execution_count": 14,
   "outputs": [
    {
     "data": {
      "text/plain": "<Figure size 800x600 with 1 Axes>",
      "image/png": "[encoded data removed]"
     },
     "metadata": {},
     "output_type": "display_data"
    }
   ],
   "source": [
    "step = np.linspace(0,10000)\n",
    "lr = lr_schedule(step)\n",
    "plt.figure(figsize = (8,6))\n",
    "plt.plot(step/STEPS_PER_EPOCH, lr)\n",
    "plt.ylim([0,max(plt.ylim())])\n",
    "plt.xlabel('Epoch')\n",
    "_ = plt.ylabel('Learning Rate')"
   ],
   "metadata": {
    "collapsed": false,
    "ExecuteTime": {
     "end_time": "2024-02-29T22:25:59.707424100Z",
     "start_time": "2024-02-29T22:25:59.298137100Z"
    },
    "pycharm": {
     "name": "#%%\n"
    }
   },
   "id": "8547a4d19256c60a"
  },
  {
   "cell_type": "code",
   "execution_count": 14,
   "outputs": [],
   "source": [],
   "metadata": {
    "collapsed": false,
    "pycharm": {
     "name": "#%%\n"
    }
   }
  },
  {
   "cell_type": "code",
   "execution_count": 15,
   "outputs": [],
   "source": [
    "from keras import regularizers\n",
    "\n",
    "\n",
    "def create_ANN():\n",
    "    set_seed(0)\n",
    "    model = Sequential()\n",
    "    model.add(\n",
    "        Dense(1, activation='relu',\n",
    "              kernel_regularizer=regularizers.l2(0.01), #opcja\n",
    "              kernel_initializer='he_uniform')\n",
    "    )\n",
    "    model.add(Dense(2,activation='relu'))\n",
    "    model.add(\n",
    "        Dense(1, activation='relu',\n",
    "              kernel_regularizer=regularizers.l2(0.01))# opcja\n",
    "    )\n",
    "\n",
    "    model.compile(\n",
    "        loss=tf.keras.losses.MeanSquaredLogarithmicError(),\n",
    "        optimizer=get_optimizer(),\n",
    "        metrics=['accuracy'])\n",
    "\n",
    "    return model"
   ],
   "metadata": {
    "collapsed": false,
    "ExecuteTime": {
     "end_time": "2024-02-29T22:25:59.707424100Z",
     "start_time": "2024-02-29T22:25:59.670727Z"
    },
    "pycharm": {
     "name": "#%%\n"
    }
   },
   "id": "fb1199c5da8a531a"
  },
  {
   "cell_type": "code",
   "execution_count": 16,
   "outputs": [],
   "source": [
    "_filepath = '../.outputs/checkpoint/ann-{epoch:02d}-{loss:.3f}.h5' # for filepath\n",
    "checkpoint = ModelCheckpoint(monitor='loss', filepath='../.outputs/checkpoint/_best-ann.h5', save_best_only=True, verbose=1)\n",
    "es = EarlyStopping(monitor='loss', patience=3, min_delta=0.01, verbose=1)\n",
    "tb = TensorBoard(log_dir='logs/'+dt.now().strftime(\"%Y%m%d-%H%M%S\")) # logi tensor board"
   ],
   "metadata": {
    "collapsed": false,
    "ExecuteTime": {
     "end_time": "2024-02-29T22:25:59.707424100Z",
     "start_time": "2024-02-29T22:25:59.677462700Z"
    },
    "pycharm": {
     "name": "#%%\n"
    }
   },
   "id": "8cbda92e8214dd3b"
  },
  {
   "cell_type": "code",
   "execution_count": 17,
   "outputs": [
    {
     "name": "stdout",
     "output_type": "stream",
     "text": [
      "WARNING:tensorflow:From D:\\OneDrive - Wojskowa Akademia Techniczna\\Pulpit\\mormus\\ai_river_project\\venv\\Lib\\site-packages\\keras\\src\\backend.py:873: The name tf.get_default_graph is deprecated. Please use tf.compat.v1.get_default_graph instead.\n",
      "\n",
      "WARNING:tensorflow:From D:\\OneDrive - Wojskowa Akademia Techniczna\\Pulpit\\mormus\\ai_river_project\\venv\\Lib\\site-packages\\keras\\src\\utils\\tf_utils.py:492: The name tf.ragged.RaggedTensorValue is deprecated. Please use tf.compat.v1.ragged.RaggedTensorValue instead.\n",
      "\n",
      "WARNING:tensorflow:From D:\\OneDrive - Wojskowa Akademia Techniczna\\Pulpit\\mormus\\ai_river_project\\venv\\Lib\\site-packages\\keras\\src\\engine\\base_layer_utils.py:384: The name tf.executing_eagerly_outside_functions is deprecated. Please use tf.compat.v1.executing_eagerly_outside_functions instead.\n",
      "\n",
      "\n",
      "Epoch 1: loss improved from inf to 175.38635, saving model to ../.outputs/checkpoint\\_best-ann.h5\n"
     ]
    },
    {
     "name": "stderr",
     "output_type": "stream",
     "text": [
      "D:\\OneDrive - Wojskowa Akademia Techniczna\\Pulpit\\mormus\\ai_river_project\\venv\\Lib\\site-packages\\keras\\src\\engine\\training.py:3103: UserWarning: You are saving your model as an HDF5 file via `model.save()`. This file format is considered legacy. We recommend using instead the native Keras format, e.g. `model.save('my_model.keras')`.\n",
      "  saving_api.save_model(\n"
     ]
    },
    {
     "name": "stdout",
     "output_type": "stream",
     "text": [
      "\n",
      "Epoch 2: loss improved from 175.38635 to 175.38576, saving model to ../.outputs/checkpoint\\_best-ann.h5\n",
      "\n",
      "Epoch 3: loss improved from 175.38576 to 175.38521, saving model to ../.outputs/checkpoint\\_best-ann.h5\n",
      "\n",
      "Epoch 4: loss improved from 175.38521 to 175.38470, saving model to ../.outputs/checkpoint\\_best-ann.h5\n",
      "\n",
      "Epoch 5: loss improved from 175.38470 to 175.38417, saving model to ../.outputs/checkpoint\\_best-ann.h5\n",
      "\n",
      "Epoch 6: loss improved from 175.38417 to 175.38376, saving model to ../.outputs/checkpoint\\_best-ann.h5\n",
      "\n",
      "Epoch 7: loss improved from 175.38376 to 175.38326, saving model to ../.outputs/checkpoint\\_best-ann.h5\n",
      "\n",
      "Epoch 8: loss improved from 175.38326 to 175.38290, saving model to ../.outputs/checkpoint\\_best-ann.h5\n",
      "\n",
      "Epoch 9: loss improved from 175.38290 to 175.38249, saving model to ../.outputs/checkpoint\\_best-ann.h5\n",
      "\n",
      "Epoch 10: loss improved from 175.38249 to 175.38210, saving model to ../.outputs/checkpoint\\_best-ann.h5\n",
      "\n",
      "Epoch 11: loss improved from 175.38210 to 175.38173, saving model to ../.outputs/checkpoint\\_best-ann.h5\n",
      "\n",
      "Epoch 12: loss improved from 175.38173 to 175.38141, saving model to ../.outputs/checkpoint\\_best-ann.h5\n",
      "\n",
      "Epoch 13: loss improved from 175.38141 to 175.38107, saving model to ../.outputs/checkpoint\\_best-ann.h5\n",
      "\n",
      "Epoch 14: loss improved from 175.38107 to 175.38075, saving model to ../.outputs/checkpoint\\_best-ann.h5\n",
      "\n",
      "Epoch 15: loss improved from 175.38075 to 175.38045, saving model to ../.outputs/checkpoint\\_best-ann.h5\n",
      "\n",
      "Epoch 16: loss improved from 175.38045 to 175.38017, saving model to ../.outputs/checkpoint\\_best-ann.h5\n",
      "\n",
      "Epoch 17: loss improved from 175.38017 to 175.37993, saving model to ../.outputs/checkpoint\\_best-ann.h5\n",
      "\n",
      "Epoch 18: loss improved from 175.37993 to 175.37964, saving model to ../.outputs/checkpoint\\_best-ann.h5\n",
      "\n",
      "Epoch 19: loss improved from 175.37964 to 175.37939, saving model to ../.outputs/checkpoint\\_best-ann.h5\n",
      "\n",
      "Epoch 20: loss improved from 175.37939 to 175.37909, saving model to ../.outputs/checkpoint\\_best-ann.h5\n",
      "\n",
      "Epoch 21: loss improved from 175.37909 to 175.37889, saving model to ../.outputs/checkpoint\\_best-ann.h5\n",
      "\n",
      "Epoch 22: loss improved from 175.37889 to 175.37868, saving model to ../.outputs/checkpoint\\_best-ann.h5\n",
      "\n",
      "Epoch 23: loss improved from 175.37868 to 175.37837, saving model to ../.outputs/checkpoint\\_best-ann.h5\n",
      "\n",
      "Epoch 24: loss improved from 175.37837 to 175.37820, saving model to ../.outputs/checkpoint\\_best-ann.h5\n",
      "\n",
      "Epoch 25: loss improved from 175.37820 to 175.37794, saving model to ../.outputs/checkpoint\\_best-ann.h5\n",
      "\n",
      "Epoch 26: loss improved from 175.37794 to 175.37776, saving model to ../.outputs/checkpoint\\_best-ann.h5\n",
      "\n",
      "Epoch 27: loss improved from 175.37776 to 175.37759, saving model to ../.outputs/checkpoint\\_best-ann.h5\n",
      "\n",
      "Epoch 28: loss improved from 175.37759 to 175.37740, saving model to ../.outputs/checkpoint\\_best-ann.h5\n",
      "\n",
      "Epoch 29: loss improved from 175.37740 to 175.37718, saving model to ../.outputs/checkpoint\\_best-ann.h5\n",
      "\n",
      "Epoch 30: loss improved from 175.37718 to 175.37703, saving model to ../.outputs/checkpoint\\_best-ann.h5\n",
      "\n",
      "Epoch 31: loss improved from 175.37703 to 175.37686, saving model to ../.outputs/checkpoint\\_best-ann.h5\n",
      "\n",
      "Epoch 32: loss improved from 175.37686 to 175.37662, saving model to ../.outputs/checkpoint\\_best-ann.h5\n",
      "\n",
      "Epoch 33: loss improved from 175.37662 to 175.37648, saving model to ../.outputs/checkpoint\\_best-ann.h5\n",
      "\n",
      "Epoch 34: loss improved from 175.37648 to 175.37633, saving model to ../.outputs/checkpoint\\_best-ann.h5\n",
      "\n",
      "Epoch 35: loss improved from 175.37633 to 175.37616, saving model to ../.outputs/checkpoint\\_best-ann.h5\n",
      "\n",
      "Epoch 36: loss improved from 175.37616 to 175.37602, saving model to ../.outputs/checkpoint\\_best-ann.h5\n",
      "\n",
      "Epoch 37: loss improved from 175.37602 to 175.37582, saving model to ../.outputs/checkpoint\\_best-ann.h5\n",
      "\n",
      "Epoch 38: loss improved from 175.37582 to 175.37567, saving model to ../.outputs/checkpoint\\_best-ann.h5\n",
      "\n",
      "Epoch 39: loss improved from 175.37567 to 175.37560, saving model to ../.outputs/checkpoint\\_best-ann.h5\n",
      "\n",
      "Epoch 40: loss improved from 175.37560 to 175.37540, saving model to ../.outputs/checkpoint\\_best-ann.h5\n",
      "\n",
      "Epoch 41: loss improved from 175.37540 to 175.37526, saving model to ../.outputs/checkpoint\\_best-ann.h5\n",
      "\n",
      "Epoch 42: loss improved from 175.37526 to 175.37511, saving model to ../.outputs/checkpoint\\_best-ann.h5\n",
      "\n",
      "Epoch 43: loss improved from 175.37511 to 175.37497, saving model to ../.outputs/checkpoint\\_best-ann.h5\n",
      "\n",
      "Epoch 44: loss improved from 175.37497 to 175.37483, saving model to ../.outputs/checkpoint\\_best-ann.h5\n",
      "\n",
      "Epoch 45: loss improved from 175.37483 to 175.37471, saving model to ../.outputs/checkpoint\\_best-ann.h5\n",
      "\n",
      "Epoch 46: loss improved from 175.37471 to 175.37454, saving model to ../.outputs/checkpoint\\_best-ann.h5\n",
      "\n",
      "Epoch 47: loss improved from 175.37454 to 175.37437, saving model to ../.outputs/checkpoint\\_best-ann.h5\n",
      "\n",
      "Epoch 48: loss improved from 175.37437 to 175.37433, saving model to ../.outputs/checkpoint\\_best-ann.h5\n",
      "\n",
      "Epoch 49: loss improved from 175.37433 to 175.37418, saving model to ../.outputs/checkpoint\\_best-ann.h5\n",
      "\n",
      "Epoch 50: loss improved from 175.37418 to 175.37410, saving model to ../.outputs/checkpoint\\_best-ann.h5\n",
      "\n",
      "Epoch 51: loss improved from 175.37410 to 175.37396, saving model to ../.outputs/checkpoint\\_best-ann.h5\n",
      "\n",
      "Epoch 52: loss improved from 175.37396 to 175.37383, saving model to ../.outputs/checkpoint\\_best-ann.h5\n",
      "\n",
      "Epoch 53: loss improved from 175.37383 to 175.37370, saving model to ../.outputs/checkpoint\\_best-ann.h5\n",
      "\n",
      "Epoch 54: loss improved from 175.37370 to 175.37363, saving model to ../.outputs/checkpoint\\_best-ann.h5\n",
      "\n",
      "Epoch 55: loss improved from 175.37363 to 175.37352, saving model to ../.outputs/checkpoint\\_best-ann.h5\n",
      "\n",
      "Epoch 56: loss improved from 175.37352 to 175.37341, saving model to ../.outputs/checkpoint\\_best-ann.h5\n",
      "\n",
      "Epoch 57: loss improved from 175.37341 to 175.37331, saving model to ../.outputs/checkpoint\\_best-ann.h5\n",
      "\n",
      "Epoch 58: loss improved from 175.37331 to 175.37323, saving model to ../.outputs/checkpoint\\_best-ann.h5\n",
      "\n",
      "Epoch 59: loss improved from 175.37323 to 175.37309, saving model to ../.outputs/checkpoint\\_best-ann.h5\n",
      "\n",
      "Epoch 60: loss improved from 175.37309 to 175.37297, saving model to ../.outputs/checkpoint\\_best-ann.h5\n",
      "\n",
      "Epoch 61: loss improved from 175.37297 to 175.37283, saving model to ../.outputs/checkpoint\\_best-ann.h5\n",
      "\n",
      "Epoch 62: loss improved from 175.37283 to 175.37279, saving model to ../.outputs/checkpoint\\_best-ann.h5\n",
      "\n",
      "Epoch 63: loss improved from 175.37279 to 175.37267, saving model to ../.outputs/checkpoint\\_best-ann.h5\n",
      "\n",
      "Epoch 64: loss improved from 175.37267 to 175.37259, saving model to ../.outputs/checkpoint\\_best-ann.h5\n",
      "\n",
      "Epoch 65: loss improved from 175.37259 to 175.37248, saving model to ../.outputs/checkpoint\\_best-ann.h5\n",
      "\n",
      "Epoch 66: loss improved from 175.37248 to 175.37239, saving model to ../.outputs/checkpoint\\_best-ann.h5\n",
      "\n",
      "Epoch 67: loss improved from 175.37239 to 175.37233, saving model to ../.outputs/checkpoint\\_best-ann.h5\n",
      "\n",
      "Epoch 68: loss improved from 175.37233 to 175.37221, saving model to ../.outputs/checkpoint\\_best-ann.h5\n",
      "\n",
      "Epoch 69: loss improved from 175.37221 to 175.37215, saving model to ../.outputs/checkpoint\\_best-ann.h5\n",
      "\n",
      "Epoch 70: loss improved from 175.37215 to 175.37206, saving model to ../.outputs/checkpoint\\_best-ann.h5\n",
      "\n",
      "Epoch 71: loss improved from 175.37206 to 175.37195, saving model to ../.outputs/checkpoint\\_best-ann.h5\n",
      "\n",
      "Epoch 72: loss improved from 175.37195 to 175.37190, saving model to ../.outputs/checkpoint\\_best-ann.h5\n",
      "\n",
      "Epoch 73: loss improved from 175.37190 to 175.37180, saving model to ../.outputs/checkpoint\\_best-ann.h5\n",
      "\n",
      "Epoch 74: loss improved from 175.37180 to 175.37172, saving model to ../.outputs/checkpoint\\_best-ann.h5\n",
      "\n",
      "Epoch 75: loss improved from 175.37172 to 175.37163, saving model to ../.outputs/checkpoint\\_best-ann.h5\n",
      "\n",
      "Epoch 76: loss improved from 175.37163 to 175.37155, saving model to ../.outputs/checkpoint\\_best-ann.h5\n",
      "\n",
      "Epoch 77: loss improved from 175.37155 to 175.37146, saving model to ../.outputs/checkpoint\\_best-ann.h5\n",
      "\n",
      "Epoch 78: loss improved from 175.37146 to 175.37135, saving model to ../.outputs/checkpoint\\_best-ann.h5\n",
      "\n",
      "Epoch 79: loss improved from 175.37135 to 175.37126, saving model to ../.outputs/checkpoint\\_best-ann.h5\n",
      "\n",
      "Epoch 80: loss improved from 175.37126 to 175.37120, saving model to ../.outputs/checkpoint\\_best-ann.h5\n",
      "\n",
      "Epoch 81: loss improved from 175.37120 to 175.37117, saving model to ../.outputs/checkpoint\\_best-ann.h5\n",
      "\n",
      "Epoch 82: loss improved from 175.37117 to 175.37105, saving model to ../.outputs/checkpoint\\_best-ann.h5\n",
      "\n",
      "Epoch 83: loss improved from 175.37105 to 175.37100, saving model to ../.outputs/checkpoint\\_best-ann.h5\n",
      "\n",
      "Epoch 84: loss improved from 175.37100 to 175.37088, saving model to ../.outputs/checkpoint\\_best-ann.h5\n",
      "\n",
      "Epoch 85: loss improved from 175.37088 to 175.37085, saving model to ../.outputs/checkpoint\\_best-ann.h5\n",
      "\n",
      "Epoch 86: loss improved from 175.37085 to 175.37080, saving model to ../.outputs/checkpoint\\_best-ann.h5\n",
      "\n",
      "Epoch 87: loss improved from 175.37080 to 175.37077, saving model to ../.outputs/checkpoint\\_best-ann.h5\n",
      "\n",
      "Epoch 88: loss improved from 175.37077 to 175.37061, saving model to ../.outputs/checkpoint\\_best-ann.h5\n",
      "\n",
      "Epoch 89: loss improved from 175.37061 to 175.37056, saving model to ../.outputs/checkpoint\\_best-ann.h5\n",
      "\n",
      "Epoch 90: loss improved from 175.37056 to 175.37045, saving model to ../.outputs/checkpoint\\_best-ann.h5\n",
      "\n",
      "Epoch 91: loss improved from 175.37045 to 175.37038, saving model to ../.outputs/checkpoint\\_best-ann.h5\n",
      "\n",
      "Epoch 92: loss improved from 175.37038 to 175.37035, saving model to ../.outputs/checkpoint\\_best-ann.h5\n",
      "\n",
      "Epoch 93: loss improved from 175.37035 to 175.37029, saving model to ../.outputs/checkpoint\\_best-ann.h5\n",
      "\n",
      "Epoch 94: loss improved from 175.37029 to 175.37024, saving model to ../.outputs/checkpoint\\_best-ann.h5\n",
      "\n",
      "Epoch 95: loss improved from 175.37024 to 175.37012, saving model to ../.outputs/checkpoint\\_best-ann.h5\n",
      "\n",
      "Epoch 96: loss improved from 175.37012 to 175.37010, saving model to ../.outputs/checkpoint\\_best-ann.h5\n",
      "\n",
      "Epoch 97: loss improved from 175.37010 to 175.37001, saving model to ../.outputs/checkpoint\\_best-ann.h5\n",
      "\n",
      "Epoch 98: loss improved from 175.37001 to 175.37000, saving model to ../.outputs/checkpoint\\_best-ann.h5\n",
      "\n",
      "Epoch 99: loss improved from 175.37000 to 175.36993, saving model to ../.outputs/checkpoint\\_best-ann.h5\n",
      "\n",
      "Epoch 100: loss improved from 175.36993 to 175.36983, saving model to ../.outputs/checkpoint\\_best-ann.h5\n",
      "\n",
      "Epoch 101: loss improved from 175.36983 to 175.36980, saving model to ../.outputs/checkpoint\\_best-ann.h5\n",
      "\n",
      "Epoch 102: loss improved from 175.36980 to 175.36977, saving model to ../.outputs/checkpoint\\_best-ann.h5\n",
      "\n",
      "Epoch 103: loss improved from 175.36977 to 175.36964, saving model to ../.outputs/checkpoint\\_best-ann.h5\n",
      "\n",
      "Epoch 104: loss improved from 175.36964 to 175.36958, saving model to ../.outputs/checkpoint\\_best-ann.h5\n",
      "\n",
      "Epoch 105: loss improved from 175.36958 to 175.36954, saving model to ../.outputs/checkpoint\\_best-ann.h5\n",
      "\n",
      "Epoch 106: loss did not improve from 175.36954\n",
      "\n",
      "Epoch 107: loss improved from 175.36954 to 175.36943, saving model to ../.outputs/checkpoint\\_best-ann.h5\n",
      "\n",
      "Epoch 108: loss improved from 175.36943 to 175.36937, saving model to ../.outputs/checkpoint\\_best-ann.h5\n",
      "\n",
      "Epoch 109: loss improved from 175.36937 to 175.36932, saving model to ../.outputs/checkpoint\\_best-ann.h5\n",
      "\n",
      "Epoch 110: loss improved from 175.36932 to 175.36928, saving model to ../.outputs/checkpoint\\_best-ann.h5\n",
      "\n",
      "Epoch 111: loss improved from 175.36928 to 175.36917, saving model to ../.outputs/checkpoint\\_best-ann.h5\n",
      "\n",
      "Epoch 112: loss did not improve from 175.36917\n",
      "\n",
      "Epoch 113: loss improved from 175.36917 to 175.36909, saving model to ../.outputs/checkpoint\\_best-ann.h5\n",
      "\n",
      "Epoch 114: loss improved from 175.36909 to 175.36906, saving model to ../.outputs/checkpoint\\_best-ann.h5\n",
      "\n",
      "Epoch 115: loss improved from 175.36906 to 175.36900, saving model to ../.outputs/checkpoint\\_best-ann.h5\n",
      "\n",
      "Epoch 116: loss improved from 175.36900 to 175.36896, saving model to ../.outputs/checkpoint\\_best-ann.h5\n",
      "\n",
      "Epoch 117: loss improved from 175.36896 to 175.36885, saving model to ../.outputs/checkpoint\\_best-ann.h5\n",
      "\n",
      "Epoch 118: loss improved from 175.36885 to 175.36884, saving model to ../.outputs/checkpoint\\_best-ann.h5\n",
      "\n",
      "Epoch 119: loss improved from 175.36884 to 175.36874, saving model to ../.outputs/checkpoint\\_best-ann.h5\n",
      "\n",
      "Epoch 120: loss improved from 175.36874 to 175.36871, saving model to ../.outputs/checkpoint\\_best-ann.h5\n",
      "\n",
      "Epoch 121: loss improved from 175.36871 to 175.36864, saving model to ../.outputs/checkpoint\\_best-ann.h5\n",
      "\n",
      "Epoch 122: loss improved from 175.36864 to 175.36862, saving model to ../.outputs/checkpoint\\_best-ann.h5\n",
      "\n",
      "Epoch 123: loss improved from 175.36862 to 175.36856, saving model to ../.outputs/checkpoint\\_best-ann.h5\n",
      "\n",
      "Epoch 124: loss improved from 175.36856 to 175.36850, saving model to ../.outputs/checkpoint\\_best-ann.h5\n",
      "\n",
      "Epoch 125: loss improved from 175.36850 to 175.36845, saving model to ../.outputs/checkpoint\\_best-ann.h5\n",
      "\n",
      "Epoch 126: loss improved from 175.36845 to 175.36838, saving model to ../.outputs/checkpoint\\_best-ann.h5\n",
      "\n",
      "Epoch 127: loss improved from 175.36838 to 175.36833, saving model to ../.outputs/checkpoint\\_best-ann.h5\n",
      "\n",
      "Epoch 128: loss improved from 175.36833 to 175.36830, saving model to ../.outputs/checkpoint\\_best-ann.h5\n",
      "\n",
      "Epoch 129: loss improved from 175.36830 to 175.36827, saving model to ../.outputs/checkpoint\\_best-ann.h5\n",
      "\n",
      "Epoch 130: loss improved from 175.36827 to 175.36819, saving model to ../.outputs/checkpoint\\_best-ann.h5\n",
      "\n",
      "Epoch 131: loss improved from 175.36819 to 175.36818, saving model to ../.outputs/checkpoint\\_best-ann.h5\n",
      "\n",
      "Epoch 132: loss improved from 175.36818 to 175.36813, saving model to ../.outputs/checkpoint\\_best-ann.h5\n",
      "\n",
      "Epoch 133: loss improved from 175.36813 to 175.36809, saving model to ../.outputs/checkpoint\\_best-ann.h5\n",
      "\n",
      "Epoch 134: loss improved from 175.36809 to 175.36803, saving model to ../.outputs/checkpoint\\_best-ann.h5\n",
      "\n",
      "Epoch 135: loss improved from 175.36803 to 175.36797, saving model to ../.outputs/checkpoint\\_best-ann.h5\n",
      "\n",
      "Epoch 136: loss improved from 175.36797 to 175.36792, saving model to ../.outputs/checkpoint\\_best-ann.h5\n",
      "\n",
      "Epoch 137: loss improved from 175.36792 to 175.36789, saving model to ../.outputs/checkpoint\\_best-ann.h5\n",
      "\n",
      "Epoch 138: loss improved from 175.36789 to 175.36786, saving model to ../.outputs/checkpoint\\_best-ann.h5\n",
      "\n",
      "Epoch 139: loss improved from 175.36786 to 175.36778, saving model to ../.outputs/checkpoint\\_best-ann.h5\n",
      "\n",
      "Epoch 140: loss improved from 175.36778 to 175.36777, saving model to ../.outputs/checkpoint\\_best-ann.h5\n",
      "\n",
      "Epoch 141: loss improved from 175.36777 to 175.36771, saving model to ../.outputs/checkpoint\\_best-ann.h5\n",
      "\n",
      "Epoch 142: loss improved from 175.36771 to 175.36765, saving model to ../.outputs/checkpoint\\_best-ann.h5\n",
      "\n",
      "Epoch 143: loss improved from 175.36765 to 175.36761, saving model to ../.outputs/checkpoint\\_best-ann.h5\n",
      "\n",
      "Epoch 144: loss improved from 175.36761 to 175.36760, saving model to ../.outputs/checkpoint\\_best-ann.h5\n",
      "\n",
      "Epoch 145: loss improved from 175.36760 to 175.36757, saving model to ../.outputs/checkpoint\\_best-ann.h5\n",
      "\n",
      "Epoch 146: loss improved from 175.36757 to 175.36751, saving model to ../.outputs/checkpoint\\_best-ann.h5\n",
      "\n",
      "Epoch 147: loss improved from 175.36751 to 175.36749, saving model to ../.outputs/checkpoint\\_best-ann.h5\n",
      "\n",
      "Epoch 148: loss improved from 175.36749 to 175.36743, saving model to ../.outputs/checkpoint\\_best-ann.h5\n",
      "\n",
      "Epoch 149: loss improved from 175.36743 to 175.36740, saving model to ../.outputs/checkpoint\\_best-ann.h5\n",
      "\n",
      "Epoch 150: loss improved from 175.36740 to 175.36736, saving model to ../.outputs/checkpoint\\_best-ann.h5\n",
      "\n",
      "Epoch 151: loss improved from 175.36736 to 175.36728, saving model to ../.outputs/checkpoint\\_best-ann.h5\n",
      "\n",
      "Epoch 152: loss did not improve from 175.36728\n",
      "\n",
      "Epoch 153: loss improved from 175.36728 to 175.36725, saving model to ../.outputs/checkpoint\\_best-ann.h5\n",
      "\n",
      "Epoch 154: loss improved from 175.36725 to 175.36717, saving model to ../.outputs/checkpoint\\_best-ann.h5\n",
      "\n",
      "Epoch 155: loss improved from 175.36717 to 175.36711, saving model to ../.outputs/checkpoint\\_best-ann.h5\n",
      "\n",
      "Epoch 156: loss did not improve from 175.36711\n",
      "\n",
      "Epoch 157: loss improved from 175.36711 to 175.36702, saving model to ../.outputs/checkpoint\\_best-ann.h5\n",
      "\n",
      "Epoch 158: loss did not improve from 175.36702\n",
      "\n",
      "Epoch 159: loss improved from 175.36702 to 175.36699, saving model to ../.outputs/checkpoint\\_best-ann.h5\n",
      "\n",
      "Epoch 160: loss improved from 175.36699 to 175.36694, saving model to ../.outputs/checkpoint\\_best-ann.h5\n",
      "\n",
      "Epoch 161: loss improved from 175.36694 to 175.36688, saving model to ../.outputs/checkpoint\\_best-ann.h5\n",
      "\n",
      "Epoch 162: loss did not improve from 175.36688\n",
      "\n",
      "Epoch 163: loss improved from 175.36688 to 175.36679, saving model to ../.outputs/checkpoint\\_best-ann.h5\n",
      "\n",
      "Epoch 164: loss did not improve from 175.36679\n",
      "\n",
      "Epoch 165: loss improved from 175.36679 to 175.36673, saving model to ../.outputs/checkpoint\\_best-ann.h5\n",
      "\n",
      "Epoch 166: loss did not improve from 175.36673\n",
      "\n",
      "Epoch 167: loss improved from 175.36673 to 175.36670, saving model to ../.outputs/checkpoint\\_best-ann.h5\n",
      "\n",
      "Epoch 168: loss did not improve from 175.36670\n",
      "\n",
      "Epoch 169: loss improved from 175.36670 to 175.36659, saving model to ../.outputs/checkpoint\\_best-ann.h5\n",
      "\n",
      "Epoch 170: loss did not improve from 175.36659\n",
      "\n",
      "Epoch 171: loss improved from 175.36659 to 175.36656, saving model to ../.outputs/checkpoint\\_best-ann.h5\n",
      "\n",
      "Epoch 172: loss improved from 175.36656 to 175.36653, saving model to ../.outputs/checkpoint\\_best-ann.h5\n",
      "\n",
      "Epoch 173: loss improved from 175.36653 to 175.36646, saving model to ../.outputs/checkpoint\\_best-ann.h5\n",
      "\n",
      "Epoch 174: loss improved from 175.36646 to 175.36642, saving model to ../.outputs/checkpoint\\_best-ann.h5\n",
      "\n",
      "Epoch 175: loss improved from 175.36642 to 175.36641, saving model to ../.outputs/checkpoint\\_best-ann.h5\n",
      "\n",
      "Epoch 176: loss improved from 175.36641 to 175.36636, saving model to ../.outputs/checkpoint\\_best-ann.h5\n",
      "\n",
      "Epoch 177: loss did not improve from 175.36636\n",
      "\n",
      "Epoch 178: loss improved from 175.36636 to 175.36630, saving model to ../.outputs/checkpoint\\_best-ann.h5\n",
      "\n",
      "Epoch 179: loss improved from 175.36630 to 175.36629, saving model to ../.outputs/checkpoint\\_best-ann.h5\n",
      "\n",
      "Epoch 180: loss improved from 175.36629 to 175.36623, saving model to ../.outputs/checkpoint\\_best-ann.h5\n",
      "\n",
      "Epoch 181: loss improved from 175.36623 to 175.36620, saving model to ../.outputs/checkpoint\\_best-ann.h5\n",
      "\n",
      "Epoch 182: loss did not improve from 175.36620\n",
      "\n",
      "Epoch 183: loss improved from 175.36620 to 175.36615, saving model to ../.outputs/checkpoint\\_best-ann.h5\n",
      "\n",
      "Epoch 184: loss improved from 175.36615 to 175.36612, saving model to ../.outputs/checkpoint\\_best-ann.h5\n",
      "\n",
      "Epoch 185: loss improved from 175.36612 to 175.36607, saving model to ../.outputs/checkpoint\\_best-ann.h5\n",
      "\n",
      "Epoch 186: loss improved from 175.36607 to 175.36604, saving model to ../.outputs/checkpoint\\_best-ann.h5\n",
      "\n",
      "Epoch 187: loss improved from 175.36604 to 175.36598, saving model to ../.outputs/checkpoint\\_best-ann.h5\n",
      "\n",
      "Epoch 188: loss did not improve from 175.36598\n",
      "\n",
      "Epoch 189: loss did not improve from 175.36598\n",
      "\n",
      "Epoch 190: loss improved from 175.36598 to 175.36589, saving model to ../.outputs/checkpoint\\_best-ann.h5\n",
      "\n",
      "Epoch 191: loss did not improve from 175.36589\n",
      "\n",
      "Epoch 192: loss improved from 175.36589 to 175.36584, saving model to ../.outputs/checkpoint\\_best-ann.h5\n",
      "\n",
      "Epoch 193: loss improved from 175.36584 to 175.36580, saving model to ../.outputs/checkpoint\\_best-ann.h5\n",
      "\n",
      "Epoch 194: loss improved from 175.36580 to 175.36577, saving model to ../.outputs/checkpoint\\_best-ann.h5\n",
      "\n",
      "Epoch 195: loss improved from 175.36577 to 175.36574, saving model to ../.outputs/checkpoint\\_best-ann.h5\n",
      "\n",
      "Epoch 196: loss did not improve from 175.36574\n",
      "\n",
      "Epoch 197: loss improved from 175.36574 to 175.36572, saving model to ../.outputs/checkpoint\\_best-ann.h5\n",
      "\n",
      "Epoch 198: loss improved from 175.36572 to 175.36562, saving model to ../.outputs/checkpoint\\_best-ann.h5\n",
      "\n",
      "Epoch 199: loss did not improve from 175.36562\n",
      "\n",
      "Epoch 200: loss improved from 175.36562 to 175.36560, saving model to ../.outputs/checkpoint\\_best-ann.h5\n"
     ]
    }
   ],
   "source": [
    "model = create_ANN()\n",
    "\n",
    "result = model.fit(\n",
    "    X_train, y_train,\n",
    "    epochs=200,\n",
    "    batch_size=BATCH_SIZE,\n",
    "    shuffle=True,\n",
    "    class_weight=None,\n",
    "    sample_weight=None,\n",
    "    validation_split=.3,\n",
    "    callbacks=[checkpoint, tb],\n",
    "    verbose=0,\n",
    ")"
   ],
   "metadata": {
    "collapsed": false,
    "ExecuteTime": {
     "end_time": "2024-02-29T22:43:08.604481500Z",
     "start_time": "2024-02-29T22:25:59.689821200Z"
    },
    "pycharm": {
     "name": "#%%\n"
    }
   },
   "id": "7a3dac08c4f0ce2"
  },
  {
   "cell_type": "markdown",
   "source": [],
   "metadata": {
    "collapsed": false,
    "pycharm": {
     "name": "#%% md\n"
    }
   },
   "id": "6bcb91482f08437a"
  },
  {
   "cell_type": "code",
   "execution_count": 131,
   "outputs": [
    {
     "name": "stdout",
     "output_type": "stream",
     "text": [
      "Model: \"sequential_13\"\n",
      "_________________________________________________________________\n",
      " Layer (type)                Output Shape              Param #   \n",
      "=================================================================\n",
      " dense_38 (Dense)            (None, 1)                 2         \n",
      "                                                                 \n",
      " dense_39 (Dense)            (None, 2)                 4         \n",
      "                                                                 \n",
      " dense_40 (Dense)            (None, 1)                 3         \n",
      "                                                                 \n",
      "=================================================================\n",
      "Total params: 9 (36.00 Byte)\n",
      "Trainable params: 9 (36.00 Byte)\n",
      "Non-trainable params: 0 (0.00 Byte)\n",
      "_________________________________________________________________\n",
      "You must install pydot (`pip install pydot`) and install graphviz (see instructions at https://graphviz.gitlab.io/download/) for plot_model to work.\n"
     ]
    }
   ],
   "source": [
    "model.summary()\n",
    "from tensorflow.keras.utils import plot_model\n",
    "plot_model(model, to_file='model_plot.png', show_shapes=True, show_layer_names=True)"
   ],
   "metadata": {
    "collapsed": false,
    "ExecuteTime": {
     "end_time": "2024-02-29T22:43:08.920482400Z",
     "start_time": "2024-02-29T22:43:08.616298300Z"
    },
    "pycharm": {
     "name": "#%%\n"
    }
   },
   "id": "2e7c67134e9c7adf"
  },
  {
   "cell_type": "markdown",
   "source": [
    "\n"
   ],
   "metadata": {
    "collapsed": false,
    "pycharm": {
     "name": "#%% md\n"
    }
   }
  },
  {
   "cell_type": "code",
   "execution_count": 102,
   "outputs": [
    {
     "name": "stdout",
     "output_type": "stream",
     "text": [
      "9/9 [==============================] - 0s 2ms/step - loss: 175.3392 - mae: 563053.5000 - mse: 317029285888.0000\n",
      "loss:175.33920288085938, \n",
      "mse: 317029285888.0\n"
     ]
    }
   ],
   "source": [
    "# evaluate the keras model\n",
    "loss,  mae , mse = model.evaluate(X_test, y_test)\n",
    "print(f'loss:{loss}, \\nmse: {mse}')"
   ],
   "metadata": {
    "collapsed": false,
    "ExecuteTime": {
     "end_time": "2024-02-29T22:43:09.550563100Z",
     "start_time": "2024-02-29T22:43:08.920482400Z"
    },
    "pycharm": {
     "name": "#%%\n"
    }
   },
   "id": "fe980dd28e10ddd9"
  },
  {
   "cell_type": "code",
   "execution_count": 103,
   "outputs": [
    {
     "data": {
      "text/plain": "Text(0.5, 0, 'Epoka')"
     },
     "execution_count": 103,
     "metadata": {},
     "output_type": "execute_result"
    },
    {
     "data": {
      "text/plain": "<Figure size 1000x1000 with 1 Axes>",
      "image/png": "[encoded data removed]"
     },
     "metadata": {},
     "output_type": "display_data"
    }
   ],
   "source": [
    "df_results = pd.DataFrame(result.history)\n",
    "df_results.plot(figsize=(10,10))\n",
    "plt.title('Wykres zbiorczy błędów uczenia w kolejnych epokach')\n",
    "plt.xlabel('Epoka')"
   ],
   "metadata": {
    "collapsed": false,
    "ExecuteTime": {
     "end_time": "2024-02-29T22:43:09.928278100Z",
     "start_time": "2024-02-29T22:43:09.543147200Z"
    },
    "pycharm": {
     "name": "#%%\n"
    }
   },
   "id": "3137e261574861d5"
  },
  {
   "cell_type": "code",
   "execution_count": 104,
   "outputs": [
    {
     "data": {
      "text/plain": "           loss          mae           mse    val_loss     val_mae  \\\n0    175.374100  563068.0625  3.170460e+11  175.372559  563048.125   \n1    175.372971  563068.1250  3.170459e+11  175.371414  563048.125   \n2    175.371765  563068.3125  3.170460e+11  175.370361  563048.125   \n3    175.370834  563068.3125  3.170459e+11  175.369385  563048.125   \n4    175.369858  563068.2500  3.170460e+11  175.368469  563048.125   \n..          ...          ...           ...         ...         ...   \n195  175.340042  563068.3125  3.170459e+11  175.339111  563048.125   \n196  175.340012  563068.3750  3.170459e+11  175.339035  563048.125   \n197  175.339966  563068.3750  3.170460e+11  175.339020  563048.125   \n198  175.339981  563068.3750  3.170459e+11  175.338974  563048.125   \n199  175.339966  563068.3750  3.170458e+11  175.338928  563048.125   \n\n          val_mse  \n0    3.170232e+11  \n1    3.170232e+11  \n2    3.170232e+11  \n3    3.170232e+11  \n4    3.170232e+11  \n..            ...  \n195  3.170232e+11  \n196  3.170232e+11  \n197  3.170232e+11  \n198  3.170232e+11  \n199  3.170232e+11  \n\n[200 rows x 6 columns]",
      "text/html": "<div>\n<style scoped>\n    .dataframe tbody tr th:only-of-type {\n        vertical-align: middle;\n    }\n\n    .dataframe tbody tr th {\n        vertical-align: top;\n    }\n\n    .dataframe thead th {\n        text-align: right;\n    }\n</style>\n<table border=\"1\" class=\"dataframe\">\n  <thead>\n    <tr style=\"text-align: right;\">\n      <th></th>\n      <th>loss</th>\n      <th>mae</th>\n      <th>mse</th>\n      <th>val_loss</th>\n      <th>val_mae</th>\n      <th>val_mse</th>\n    </tr>\n  </thead>\n  <tbody>\n    <tr>\n      <th>0</th>\n      <td>175.374100</td>\n      <td>563068.0625</td>\n      <td>3.170460e+11</td>\n      <td>175.372559</td>\n      <td>563048.125</td>\n      <td>3.170232e+11</td>\n    </tr>\n    <tr>\n      <th>1</th>\n      <td>175.372971</td>\n      <td>563068.1250</td>\n      <td>3.170459e+11</td>\n      <td>175.371414</td>\n      <td>563048.125</td>\n      <td>3.170232e+11</td>\n    </tr>\n    <tr>\n      <th>2</th>\n      <td>175.371765</td>\n      <td>563068.3125</td>\n      <td>3.170460e+11</td>\n      <td>175.370361</td>\n      <td>563048.125</td>\n      <td>3.170232e+11</td>\n    </tr>\n    <tr>\n      <th>3</th>\n      <td>175.370834</td>\n      <td>563068.3125</td>\n      <td>3.170459e+11</td>\n      <td>175.369385</td>\n      <td>563048.125</td>\n      <td>3.170232e+11</td>\n    </tr>\n    <tr>\n      <th>4</th>\n      <td>175.369858</td>\n      <td>563068.2500</td>\n      <td>3.170460e+11</td>\n      <td>175.368469</td>\n      <td>563048.125</td>\n      <td>3.170232e+11</td>\n    </tr>\n    <tr>\n      <th>...</th>\n      <td>...</td>\n      <td>...</td>\n      <td>...</td>\n      <td>...</td>\n      <td>...</td>\n      <td>...</td>\n    </tr>\n    <tr>\n      <th>195</th>\n      <td>175.340042</td>\n      <td>563068.3125</td>\n      <td>3.170459e+11</td>\n      <td>175.339111</td>\n      <td>563048.125</td>\n      <td>3.170232e+11</td>\n    </tr>\n    <tr>\n      <th>196</th>\n      <td>175.340012</td>\n      <td>563068.3750</td>\n      <td>3.170459e+11</td>\n      <td>175.339035</td>\n      <td>563048.125</td>\n      <td>3.170232e+11</td>\n    </tr>\n    <tr>\n      <th>197</th>\n      <td>175.339966</td>\n      <td>563068.3750</td>\n      <td>3.170460e+11</td>\n      <td>175.339020</td>\n      <td>563048.125</td>\n      <td>3.170232e+11</td>\n    </tr>\n    <tr>\n      <th>198</th>\n      <td>175.339981</td>\n      <td>563068.3750</td>\n      <td>3.170459e+11</td>\n      <td>175.338974</td>\n      <td>563048.125</td>\n      <td>3.170232e+11</td>\n    </tr>\n    <tr>\n      <th>199</th>\n      <td>175.339966</td>\n      <td>563068.3750</td>\n      <td>3.170458e+11</td>\n      <td>175.338928</td>\n      <td>563048.125</td>\n      <td>3.170232e+11</td>\n    </tr>\n  </tbody>\n</table>\n<p>200 rows × 6 columns</p>\n</div>"
     },
     "execution_count": 104,
     "metadata": {},
     "output_type": "execute_result"
    }
   ],
   "source": [
    "df_results"
   ],
   "metadata": {
    "collapsed": false,
    "ExecuteTime": {
     "end_time": "2024-02-29T22:43:09.949324800Z",
     "start_time": "2024-02-29T22:43:09.933158800Z"
    },
    "pycharm": {
     "name": "#%%\n"
    }
   },
   "id": "44ee62408363a907"
  },
  {
   "cell_type": "code",
   "execution_count": 105,
   "outputs": [
    {
     "name": "stdout",
     "output_type": "stream",
     "text": [
      "9/9 [==============================] - 0s 2ms/step\n"
     ]
    }
   ],
   "source": [
    "y_predicted = model.predict(X_test)"
   ],
   "metadata": {
    "collapsed": false,
    "ExecuteTime": {
     "end_time": "2024-02-29T22:43:10.672173800Z",
     "start_time": "2024-02-29T22:43:09.955904300Z"
    },
    "pycharm": {
     "name": "#%%\n"
    }
   },
   "id": "48d55dfafc73f8c4"
  },
  {
   "cell_type": "code",
   "execution_count": 106,
   "outputs": [
    {
     "ename": "AttributeError",
     "evalue": "'DataFrame' object has no attribute 'distance'",
     "output_type": "error",
     "traceback": [
      "\u001B[1;31m---------------------------------------------------------------------------\u001B[0m",
      "\u001B[1;31mAttributeError\u001B[0m                            Traceback (most recent call last)",
      "\u001B[1;32m~\\AppData\\Local\\Temp\\ipykernel_20628\\3885147117.py\u001B[0m in \u001B[0;36m?\u001B[1;34m()\u001B[0m\n\u001B[0;32m      1\u001B[0m \u001B[0mdf__a\u001B[0m \u001B[1;33m=\u001B[0m \u001B[0mpd\u001B[0m\u001B[1;33m.\u001B[0m\u001B[0mDataFrame\u001B[0m\u001B[1;33m(\u001B[0m\u001B[0my_test\u001B[0m\u001B[1;33m)\u001B[0m\u001B[1;33m\u001B[0m\u001B[1;33m\u001B[0m\u001B[0m\n\u001B[0;32m      2\u001B[0m \u001B[0mdf__a\u001B[0m\u001B[1;33m[\u001B[0m\u001B[1;34m'y_predicted'\u001B[0m\u001B[1;33m]\u001B[0m\u001B[1;33m=\u001B[0m\u001B[0my_predicted\u001B[0m\u001B[1;33m\u001B[0m\u001B[1;33m\u001B[0m\u001B[0m\n\u001B[1;32m----> 3\u001B[1;33m \u001B[0mdf__a\u001B[0m\u001B[1;33m[\u001B[0m\u001B[1;34m'diff'\u001B[0m\u001B[1;33m]\u001B[0m\u001B[1;33m=\u001B[0m\u001B[0mdf__a\u001B[0m\u001B[1;33m.\u001B[0m\u001B[0my_predicted\u001B[0m\u001B[1;33m-\u001B[0m\u001B[0mdf__a\u001B[0m\u001B[1;33m.\u001B[0m\u001B[0mdistance\u001B[0m\u001B[1;33m\u001B[0m\u001B[1;33m\u001B[0m\u001B[0m\n\u001B[0m\u001B[0;32m      4\u001B[0m \u001B[0mdf__a\u001B[0m\u001B[1;33m[\u001B[0m\u001B[1;34m'abs_diff'\u001B[0m\u001B[1;33m]\u001B[0m \u001B[1;33m=\u001B[0m \u001B[0mabs\u001B[0m\u001B[1;33m(\u001B[0m\u001B[0mdf__a\u001B[0m\u001B[1;33m[\u001B[0m\u001B[1;34m'diff'\u001B[0m\u001B[1;33m]\u001B[0m\u001B[1;33m)\u001B[0m\u001B[1;33m\u001B[0m\u001B[1;33m\u001B[0m\u001B[0m\n\u001B[0;32m      5\u001B[0m \u001B[0mdf__a\u001B[0m\u001B[1;33m[\u001B[0m\u001B[1;34m'diff_pow'\u001B[0m\u001B[1;33m]\u001B[0m\u001B[1;33m=\u001B[0m\u001B[0mdf__a\u001B[0m\u001B[1;33m[\u001B[0m\u001B[1;34m'diff'\u001B[0m\u001B[1;33m]\u001B[0m\u001B[1;33m*\u001B[0m\u001B[0mdf__a\u001B[0m\u001B[1;33m[\u001B[0m\u001B[1;34m'diff'\u001B[0m\u001B[1;33m]\u001B[0m\u001B[1;33m\u001B[0m\u001B[1;33m\u001B[0m\u001B[0m\n\u001B[0;32m      6\u001B[0m \u001B[0mdf__a\u001B[0m\u001B[1;33m.\u001B[0m\u001B[0mtail\u001B[0m\u001B[1;33m(\u001B[0m\u001B[1;33m)\u001B[0m\u001B[1;33m\u001B[0m\u001B[1;33m\u001B[0m\u001B[0m\n",
      "\u001B[1;32mD:\\OneDrive - Wojskowa Akademia Techniczna\\Pulpit\\mormus\\ai_river_project\\venv\\Lib\\site-packages\\pandas\\core\\generic.py\u001B[0m in \u001B[0;36m?\u001B[1;34m(self, name)\u001B[0m\n\u001B[0;32m   6200\u001B[0m             \u001B[1;32mand\u001B[0m \u001B[0mname\u001B[0m \u001B[1;32mnot\u001B[0m \u001B[1;32min\u001B[0m \u001B[0mself\u001B[0m\u001B[1;33m.\u001B[0m\u001B[0m_accessors\u001B[0m\u001B[1;33m\u001B[0m\u001B[1;33m\u001B[0m\u001B[0m\n\u001B[0;32m   6201\u001B[0m             \u001B[1;32mand\u001B[0m \u001B[0mself\u001B[0m\u001B[1;33m.\u001B[0m\u001B[0m_info_axis\u001B[0m\u001B[1;33m.\u001B[0m\u001B[0m_can_hold_identifiers_and_holds_name\u001B[0m\u001B[1;33m(\u001B[0m\u001B[0mname\u001B[0m\u001B[1;33m)\u001B[0m\u001B[1;33m\u001B[0m\u001B[1;33m\u001B[0m\u001B[0m\n\u001B[0;32m   6202\u001B[0m         ):\n\u001B[0;32m   6203\u001B[0m             \u001B[1;32mreturn\u001B[0m \u001B[0mself\u001B[0m\u001B[1;33m[\u001B[0m\u001B[0mname\u001B[0m\u001B[1;33m]\u001B[0m\u001B[1;33m\u001B[0m\u001B[1;33m\u001B[0m\u001B[0m\n\u001B[1;32m-> 6204\u001B[1;33m         \u001B[1;32mreturn\u001B[0m \u001B[0mobject\u001B[0m\u001B[1;33m.\u001B[0m\u001B[0m__getattribute__\u001B[0m\u001B[1;33m(\u001B[0m\u001B[0mself\u001B[0m\u001B[1;33m,\u001B[0m \u001B[0mname\u001B[0m\u001B[1;33m)\u001B[0m\u001B[1;33m\u001B[0m\u001B[1;33m\u001B[0m\u001B[0m\n\u001B[0m",
      "\u001B[1;31mAttributeError\u001B[0m: 'DataFrame' object has no attribute 'distance'"
     ]
    }
   ],
   "source": [
    "df__a = pd.DataFrame(y_test)\n",
    "df__a['y_predicted']=y_predicted\n",
    "df__a['diff']=df__a.y_predicted-df__a.distance\n",
    "df__a['abs_diff'] = abs(df__a['diff'])\n",
    "df__a['diff_pow']=df__a['diff']*df__a['diff']\n",
    "df__a.tail()"
   ],
   "metadata": {
    "collapsed": false,
    "ExecuteTime": {
     "end_time": "2024-02-29T22:43:10.696319100Z",
     "start_time": "2024-02-29T22:43:10.672173800Z"
    },
    "pycharm": {
     "name": "#%%\n"
    }
   },
   "id": "5ee8b07fa3a70eac"
  },
  {
   "cell_type": "code",
   "execution_count": 107,
   "outputs": [
    {
     "ename": "KeyError",
     "evalue": "'distance'",
     "output_type": "error",
     "traceback": [
      "\u001B[1;31m---------------------------------------------------------------------------\u001B[0m",
      "\u001B[1;31mKeyError\u001B[0m                                  Traceback (most recent call last)",
      "File \u001B[1;32mD:\\OneDrive - Wojskowa Akademia Techniczna\\Pulpit\\mormus\\ai_river_project\\venv\\Lib\\site-packages\\pandas\\core\\indexes\\base.py:3790\u001B[0m, in \u001B[0;36mIndex.get_loc\u001B[1;34m(self, key)\u001B[0m\n\u001B[0;32m   3789\u001B[0m \u001B[38;5;28;01mtry\u001B[39;00m:\n\u001B[1;32m-> 3790\u001B[0m     \u001B[38;5;28;01mreturn\u001B[39;00m \u001B[38;5;28;43mself\u001B[39;49m\u001B[38;5;241;43m.\u001B[39;49m\u001B[43m_engine\u001B[49m\u001B[38;5;241;43m.\u001B[39;49m\u001B[43mget_loc\u001B[49m\u001B[43m(\u001B[49m\u001B[43mcasted_key\u001B[49m\u001B[43m)\u001B[49m\n\u001B[0;32m   3791\u001B[0m \u001B[38;5;28;01mexcept\u001B[39;00m \u001B[38;5;167;01mKeyError\u001B[39;00m \u001B[38;5;28;01mas\u001B[39;00m err:\n",
      "File \u001B[1;32mindex.pyx:152\u001B[0m, in \u001B[0;36mpandas._libs.index.IndexEngine.get_loc\u001B[1;34m()\u001B[0m\n",
      "File \u001B[1;32mindex.pyx:181\u001B[0m, in \u001B[0;36mpandas._libs.index.IndexEngine.get_loc\u001B[1;34m()\u001B[0m\n",
      "File \u001B[1;32mpandas\\_libs\\hashtable_class_helper.pxi:7080\u001B[0m, in \u001B[0;36mpandas._libs.hashtable.PyObjectHashTable.get_item\u001B[1;34m()\u001B[0m\n",
      "File \u001B[1;32mpandas\\_libs\\hashtable_class_helper.pxi:7088\u001B[0m, in \u001B[0;36mpandas._libs.hashtable.PyObjectHashTable.get_item\u001B[1;34m()\u001B[0m\n",
      "\u001B[1;31mKeyError\u001B[0m: 'distance'",
      "\nThe above exception was the direct cause of the following exception:\n",
      "\u001B[1;31mKeyError\u001B[0m                                  Traceback (most recent call last)",
      "Cell \u001B[1;32mIn[107], line 2\u001B[0m\n\u001B[0;32m      1\u001B[0m \u001B[38;5;28;01mimport\u001B[39;00m \u001B[38;5;21;01mmath\u001B[39;00m\n\u001B[1;32m----> 2\u001B[0m mean_ref \u001B[38;5;241m=\u001B[39m \u001B[43mdf__a\u001B[49m\u001B[43m[\u001B[49m\u001B[38;5;124;43m'\u001B[39;49m\u001B[38;5;124;43mdistance\u001B[39;49m\u001B[38;5;124;43m'\u001B[39;49m\u001B[43m]\u001B[49m\u001B[38;5;241m.\u001B[39mdescribe()[\u001B[38;5;241m1\u001B[39m]\n\u001B[0;32m      3\u001B[0m bias \u001B[38;5;241m=\u001B[39m df__a[\u001B[38;5;124m'\u001B[39m\u001B[38;5;124mdiff\u001B[39m\u001B[38;5;124m'\u001B[39m]\u001B[38;5;241m.\u001B[39mdescribe()[\u001B[38;5;241m1\u001B[39m]\n\u001B[0;32m      4\u001B[0m mae \u001B[38;5;241m=\u001B[39mdf__a[\u001B[38;5;124m'\u001B[39m\u001B[38;5;124mabs_diff\u001B[39m\u001B[38;5;124m'\u001B[39m]\u001B[38;5;241m.\u001B[39mdescribe()[\u001B[38;5;241m1\u001B[39m]\n",
      "File \u001B[1;32mD:\\OneDrive - Wojskowa Akademia Techniczna\\Pulpit\\mormus\\ai_river_project\\venv\\Lib\\site-packages\\pandas\\core\\frame.py:3893\u001B[0m, in \u001B[0;36mDataFrame.__getitem__\u001B[1;34m(self, key)\u001B[0m\n\u001B[0;32m   3891\u001B[0m \u001B[38;5;28;01mif\u001B[39;00m \u001B[38;5;28mself\u001B[39m\u001B[38;5;241m.\u001B[39mcolumns\u001B[38;5;241m.\u001B[39mnlevels \u001B[38;5;241m>\u001B[39m \u001B[38;5;241m1\u001B[39m:\n\u001B[0;32m   3892\u001B[0m     \u001B[38;5;28;01mreturn\u001B[39;00m \u001B[38;5;28mself\u001B[39m\u001B[38;5;241m.\u001B[39m_getitem_multilevel(key)\n\u001B[1;32m-> 3893\u001B[0m indexer \u001B[38;5;241m=\u001B[39m \u001B[38;5;28;43mself\u001B[39;49m\u001B[38;5;241;43m.\u001B[39;49m\u001B[43mcolumns\u001B[49m\u001B[38;5;241;43m.\u001B[39;49m\u001B[43mget_loc\u001B[49m\u001B[43m(\u001B[49m\u001B[43mkey\u001B[49m\u001B[43m)\u001B[49m\n\u001B[0;32m   3894\u001B[0m \u001B[38;5;28;01mif\u001B[39;00m is_integer(indexer):\n\u001B[0;32m   3895\u001B[0m     indexer \u001B[38;5;241m=\u001B[39m [indexer]\n",
      "File \u001B[1;32mD:\\OneDrive - Wojskowa Akademia Techniczna\\Pulpit\\mormus\\ai_river_project\\venv\\Lib\\site-packages\\pandas\\core\\indexes\\base.py:3797\u001B[0m, in \u001B[0;36mIndex.get_loc\u001B[1;34m(self, key)\u001B[0m\n\u001B[0;32m   3792\u001B[0m     \u001B[38;5;28;01mif\u001B[39;00m \u001B[38;5;28misinstance\u001B[39m(casted_key, \u001B[38;5;28mslice\u001B[39m) \u001B[38;5;129;01mor\u001B[39;00m (\n\u001B[0;32m   3793\u001B[0m         \u001B[38;5;28misinstance\u001B[39m(casted_key, abc\u001B[38;5;241m.\u001B[39mIterable)\n\u001B[0;32m   3794\u001B[0m         \u001B[38;5;129;01mand\u001B[39;00m \u001B[38;5;28many\u001B[39m(\u001B[38;5;28misinstance\u001B[39m(x, \u001B[38;5;28mslice\u001B[39m) \u001B[38;5;28;01mfor\u001B[39;00m x \u001B[38;5;129;01min\u001B[39;00m casted_key)\n\u001B[0;32m   3795\u001B[0m     ):\n\u001B[0;32m   3796\u001B[0m         \u001B[38;5;28;01mraise\u001B[39;00m InvalidIndexError(key)\n\u001B[1;32m-> 3797\u001B[0m     \u001B[38;5;28;01mraise\u001B[39;00m \u001B[38;5;167;01mKeyError\u001B[39;00m(key) \u001B[38;5;28;01mfrom\u001B[39;00m \u001B[38;5;21;01merr\u001B[39;00m\n\u001B[0;32m   3798\u001B[0m \u001B[38;5;28;01mexcept\u001B[39;00m \u001B[38;5;167;01mTypeError\u001B[39;00m:\n\u001B[0;32m   3799\u001B[0m     \u001B[38;5;66;03m# If we have a listlike key, _check_indexing_error will raise\u001B[39;00m\n\u001B[0;32m   3800\u001B[0m     \u001B[38;5;66;03m#  InvalidIndexError. Otherwise we fall through and re-raise\u001B[39;00m\n\u001B[0;32m   3801\u001B[0m     \u001B[38;5;66;03m#  the TypeError.\u001B[39;00m\n\u001B[0;32m   3802\u001B[0m     \u001B[38;5;28mself\u001B[39m\u001B[38;5;241m.\u001B[39m_check_indexing_error(key)\n",
      "\u001B[1;31mKeyError\u001B[0m: 'distance'"
     ]
    }
   ],
   "source": [
    "import math\n",
    "mean_ref = df__a['distance'].describe()[1]\n",
    "bias = df__a['diff'].describe()[1]\n",
    "mae =df__a['abs_diff'].describe()[1]\n",
    "RMSE = math.sqrt(df__a['diff_pow'].sum()/df__a.shape[0])\n",
    "print(\n",
    "    f'mean_ref: {mean_ref},'\n",
    "    f'\\nbias: {bias}, \\nbias_%: {bias/mean_ref*100}, '\n",
    "    f'\\nmae: {mae}, \\nmae_%: {mae/mean_ref*100}, '\n",
    "    f'\\nRMSE: {RMSE} \\nRMSE %: {RMSE/mean_ref*100}'\n",
    ")"
   ],
   "metadata": {
    "collapsed": false,
    "ExecuteTime": {
     "end_time": "2024-02-29T22:43:10.732484100Z",
     "start_time": "2024-02-29T22:43:10.696319100Z"
    },
    "pycharm": {
     "name": "#%%\n"
    }
   },
   "id": "218ddd5182a4e739"
  },
  {
   "cell_type": "code",
   "execution_count": 108,
   "outputs": [
    {
     "ename": "AttributeError",
     "evalue": "'DataFrame' object has no attribute 'distance'",
     "output_type": "error",
     "traceback": [
      "\u001B[1;31m---------------------------------------------------------------------------\u001B[0m",
      "\u001B[1;31mAttributeError\u001B[0m                            Traceback (most recent call last)",
      "\u001B[1;32m~\\AppData\\Local\\Temp\\ipykernel_20628\\1870363907.py\u001B[0m in \u001B[0;36m?\u001B[1;34m()\u001B[0m\n\u001B[0;32m      1\u001B[0m \u001B[1;31m# rozkład błedów\u001B[0m\u001B[1;33m\u001B[0m\u001B[1;33m\u001B[0m\u001B[0m\n\u001B[1;32m----> 2\u001B[1;33m \u001B[0merror\u001B[0m \u001B[1;33m=\u001B[0m \u001B[0mdf__a\u001B[0m\u001B[1;33m.\u001B[0m\u001B[0my_predicted\u001B[0m\u001B[1;33m-\u001B[0m\u001B[0mdf__a\u001B[0m\u001B[1;33m.\u001B[0m\u001B[0mdistance\u001B[0m\u001B[1;33m\u001B[0m\u001B[1;33m\u001B[0m\u001B[0m\n\u001B[0m\u001B[0;32m      3\u001B[0m \u001B[0mplt\u001B[0m\u001B[1;33m.\u001B[0m\u001B[0mfigure\u001B[0m\u001B[1;33m(\u001B[0m\u001B[0mfigsize\u001B[0m \u001B[1;33m=\u001B[0m \u001B[1;33m(\u001B[0m\u001B[1;36m6\u001B[0m\u001B[1;33m,\u001B[0m\u001B[1;36m6\u001B[0m\u001B[1;33m)\u001B[0m\u001B[1;33m)\u001B[0m\u001B[1;33m\u001B[0m\u001B[1;33m\u001B[0m\u001B[0m\n\u001B[0;32m      4\u001B[0m \u001B[0mplt\u001B[0m\u001B[1;33m.\u001B[0m\u001B[0mhist\u001B[0m\u001B[1;33m(\u001B[0m\u001B[0merror\u001B[0m\u001B[1;33m,\u001B[0m \u001B[0mbins\u001B[0m\u001B[1;33m=\u001B[0m\u001B[1;36m25\u001B[0m\u001B[1;33m)\u001B[0m\u001B[1;33m\u001B[0m\u001B[1;33m\u001B[0m\u001B[0m\n\u001B[0;32m      5\u001B[0m \u001B[0mplt\u001B[0m\u001B[1;33m.\u001B[0m\u001B[0mxlabel\u001B[0m\u001B[1;33m(\u001B[0m\u001B[1;34m'Prediction Error'\u001B[0m\u001B[1;33m)\u001B[0m\u001B[1;33m\u001B[0m\u001B[1;33m\u001B[0m\u001B[0m\n",
      "\u001B[1;32mD:\\OneDrive - Wojskowa Akademia Techniczna\\Pulpit\\mormus\\ai_river_project\\venv\\Lib\\site-packages\\pandas\\core\\generic.py\u001B[0m in \u001B[0;36m?\u001B[1;34m(self, name)\u001B[0m\n\u001B[0;32m   6200\u001B[0m             \u001B[1;32mand\u001B[0m \u001B[0mname\u001B[0m \u001B[1;32mnot\u001B[0m \u001B[1;32min\u001B[0m \u001B[0mself\u001B[0m\u001B[1;33m.\u001B[0m\u001B[0m_accessors\u001B[0m\u001B[1;33m\u001B[0m\u001B[1;33m\u001B[0m\u001B[0m\n\u001B[0;32m   6201\u001B[0m             \u001B[1;32mand\u001B[0m \u001B[0mself\u001B[0m\u001B[1;33m.\u001B[0m\u001B[0m_info_axis\u001B[0m\u001B[1;33m.\u001B[0m\u001B[0m_can_hold_identifiers_and_holds_name\u001B[0m\u001B[1;33m(\u001B[0m\u001B[0mname\u001B[0m\u001B[1;33m)\u001B[0m\u001B[1;33m\u001B[0m\u001B[1;33m\u001B[0m\u001B[0m\n\u001B[0;32m   6202\u001B[0m         ):\n\u001B[0;32m   6203\u001B[0m             \u001B[1;32mreturn\u001B[0m \u001B[0mself\u001B[0m\u001B[1;33m[\u001B[0m\u001B[0mname\u001B[0m\u001B[1;33m]\u001B[0m\u001B[1;33m\u001B[0m\u001B[1;33m\u001B[0m\u001B[0m\n\u001B[1;32m-> 6204\u001B[1;33m         \u001B[1;32mreturn\u001B[0m \u001B[0mobject\u001B[0m\u001B[1;33m.\u001B[0m\u001B[0m__getattribute__\u001B[0m\u001B[1;33m(\u001B[0m\u001B[0mself\u001B[0m\u001B[1;33m,\u001B[0m \u001B[0mname\u001B[0m\u001B[1;33m)\u001B[0m\u001B[1;33m\u001B[0m\u001B[1;33m\u001B[0m\u001B[0m\n\u001B[0m",
      "\u001B[1;31mAttributeError\u001B[0m: 'DataFrame' object has no attribute 'distance'"
     ]
    }
   ],
   "source": [
    "# rozkład błedów\n",
    "error = df__a.y_predicted-df__a.distance\n",
    "plt.figure(figsize = (6,6))\n",
    "plt.hist(error, bins=25)\n",
    "plt.xlabel('Prediction Error')\n",
    "_ = plt.ylabel('Count')"
   ],
   "metadata": {
    "collapsed": false,
    "ExecuteTime": {
     "end_time": "2024-02-29T22:43:11.076667300Z",
     "start_time": "2024-02-29T22:43:10.716698900Z"
    },
    "pycharm": {
     "name": "#%%\n"
    }
   },
   "id": "5de947c502e12c8a"
  },
  {
   "cell_type": "code",
   "execution_count": 167,
   "outputs": [
    {
     "ename": "KeyError",
     "evalue": "'distance'",
     "output_type": "error",
     "traceback": [
      "\u001B[1;31m---------------------------------------------------------------------------\u001B[0m",
      "\u001B[1;31mKeyError\u001B[0m                                  Traceback (most recent call last)",
      "File \u001B[1;32mD:\\OneDrive - Wojskowa Akademia Techniczna\\Pulpit\\mormus\\ai_river_project\\venv\\Lib\\site-packages\\pandas\\core\\indexes\\base.py:3790\u001B[0m, in \u001B[0;36mIndex.get_loc\u001B[1;34m(self, key)\u001B[0m\n\u001B[0;32m   3789\u001B[0m \u001B[38;5;28;01mtry\u001B[39;00m:\n\u001B[1;32m-> 3790\u001B[0m     \u001B[38;5;28;01mreturn\u001B[39;00m \u001B[38;5;28;43mself\u001B[39;49m\u001B[38;5;241;43m.\u001B[39;49m\u001B[43m_engine\u001B[49m\u001B[38;5;241;43m.\u001B[39;49m\u001B[43mget_loc\u001B[49m\u001B[43m(\u001B[49m\u001B[43mcasted_key\u001B[49m\u001B[43m)\u001B[49m\n\u001B[0;32m   3791\u001B[0m \u001B[38;5;28;01mexcept\u001B[39;00m \u001B[38;5;167;01mKeyError\u001B[39;00m \u001B[38;5;28;01mas\u001B[39;00m err:\n",
      "File \u001B[1;32mindex.pyx:152\u001B[0m, in \u001B[0;36mpandas._libs.index.IndexEngine.get_loc\u001B[1;34m()\u001B[0m\n",
      "File \u001B[1;32mindex.pyx:181\u001B[0m, in \u001B[0;36mpandas._libs.index.IndexEngine.get_loc\u001B[1;34m()\u001B[0m\n",
      "File \u001B[1;32mpandas\\_libs\\hashtable_class_helper.pxi:7080\u001B[0m, in \u001B[0;36mpandas._libs.hashtable.PyObjectHashTable.get_item\u001B[1;34m()\u001B[0m\n",
      "File \u001B[1;32mpandas\\_libs\\hashtable_class_helper.pxi:7088\u001B[0m, in \u001B[0;36mpandas._libs.hashtable.PyObjectHashTable.get_item\u001B[1;34m()\u001B[0m\n",
      "\u001B[1;31mKeyError\u001B[0m: 'distance'",
      "\nThe above exception was the direct cause of the following exception:\n",
      "\u001B[1;31mKeyError\u001B[0m                                  Traceback (most recent call last)",
      "Cell \u001B[1;32mIn[167], line 2\u001B[0m\n\u001B[0;32m      1\u001B[0m plt\u001B[38;5;241m.\u001B[39mfigure(figsize \u001B[38;5;241m=\u001B[39m (\u001B[38;5;241m8\u001B[39m,\u001B[38;5;241m8\u001B[39m))\n\u001B[1;32m----> 2\u001B[0m \u001B[43mdf__a\u001B[49m\u001B[38;5;241;43m.\u001B[39;49m\u001B[43mplot\u001B[49m\u001B[38;5;241;43m.\u001B[39;49m\u001B[43mscatter\u001B[49m\u001B[43m(\u001B[49m\u001B[43my\u001B[49m\u001B[38;5;241;43m=\u001B[39;49m\u001B[38;5;124;43m'\u001B[39;49m\u001B[38;5;124;43my_predicted\u001B[39;49m\u001B[38;5;124;43m'\u001B[39;49m\u001B[43m,\u001B[49m\u001B[43m \u001B[49m\u001B[43mx\u001B[49m\u001B[38;5;241;43m=\u001B[39;49m\u001B[38;5;124;43m'\u001B[39;49m\u001B[38;5;124;43mdistance\u001B[39;49m\u001B[38;5;124;43m'\u001B[39;49m\u001B[43m)\u001B[49m\n\u001B[0;32m      3\u001B[0m plt\u001B[38;5;241m.\u001B[39mplot(\u001B[38;5;28mrange\u001B[39m(\u001B[38;5;241m5\u001B[39m), color\u001B[38;5;241m=\u001B[39m\u001B[38;5;124m'\u001B[39m\u001B[38;5;124morange\u001B[39m\u001B[38;5;124m'\u001B[39m)\n\u001B[0;32m      4\u001B[0m plt\u001B[38;5;241m.\u001B[39mxlim(\u001B[38;5;241m50\u001B[39m, \u001B[38;5;241m350\u001B[39m)\n",
      "File \u001B[1;32mD:\\OneDrive - Wojskowa Akademia Techniczna\\Pulpit\\mormus\\ai_river_project\\venv\\Lib\\site-packages\\pandas\\plotting\\_core.py:1751\u001B[0m, in \u001B[0;36mPlotAccessor.scatter\u001B[1;34m(self, x, y, s, c, **kwargs)\u001B[0m\n\u001B[0;32m   1663\u001B[0m \u001B[38;5;28;01mdef\u001B[39;00m \u001B[38;5;21mscatter\u001B[39m(\n\u001B[0;32m   1664\u001B[0m     \u001B[38;5;28mself\u001B[39m,\n\u001B[0;32m   1665\u001B[0m     x: Hashable,\n\u001B[1;32m   (...)\u001B[0m\n\u001B[0;32m   1669\u001B[0m     \u001B[38;5;241m*\u001B[39m\u001B[38;5;241m*\u001B[39mkwargs,\n\u001B[0;32m   1670\u001B[0m ) \u001B[38;5;241m-\u001B[39m\u001B[38;5;241m>\u001B[39m PlotAccessor:\n\u001B[0;32m   1671\u001B[0m \u001B[38;5;250m    \u001B[39m\u001B[38;5;124;03m\"\"\"\u001B[39;00m\n\u001B[0;32m   1672\u001B[0m \u001B[38;5;124;03m    Create a scatter plot with varying marker point size and color.\u001B[39;00m\n\u001B[0;32m   1673\u001B[0m \n\u001B[1;32m   (...)\u001B[0m\n\u001B[0;32m   1749\u001B[0m \u001B[38;5;124;03m        ...                       colormap='viridis')\u001B[39;00m\n\u001B[0;32m   1750\u001B[0m \u001B[38;5;124;03m    \"\"\"\u001B[39;00m\n\u001B[1;32m-> 1751\u001B[0m     \u001B[38;5;28;01mreturn\u001B[39;00m \u001B[38;5;28;43mself\u001B[39;49m\u001B[43m(\u001B[49m\u001B[43mkind\u001B[49m\u001B[38;5;241;43m=\u001B[39;49m\u001B[38;5;124;43m\"\u001B[39;49m\u001B[38;5;124;43mscatter\u001B[39;49m\u001B[38;5;124;43m\"\u001B[39;49m\u001B[43m,\u001B[49m\u001B[43m \u001B[49m\u001B[43mx\u001B[49m\u001B[38;5;241;43m=\u001B[39;49m\u001B[43mx\u001B[49m\u001B[43m,\u001B[49m\u001B[43m \u001B[49m\u001B[43my\u001B[49m\u001B[38;5;241;43m=\u001B[39;49m\u001B[43my\u001B[49m\u001B[43m,\u001B[49m\u001B[43m \u001B[49m\u001B[43ms\u001B[49m\u001B[38;5;241;43m=\u001B[39;49m\u001B[43ms\u001B[49m\u001B[43m,\u001B[49m\u001B[43m \u001B[49m\u001B[43mc\u001B[49m\u001B[38;5;241;43m=\u001B[39;49m\u001B[43mc\u001B[49m\u001B[43m,\u001B[49m\u001B[43m \u001B[49m\u001B[38;5;241;43m*\u001B[39;49m\u001B[38;5;241;43m*\u001B[39;49m\u001B[43mkwargs\u001B[49m\u001B[43m)\u001B[49m\n",
      "File \u001B[1;32mD:\\OneDrive - Wojskowa Akademia Techniczna\\Pulpit\\mormus\\ai_river_project\\venv\\Lib\\site-packages\\pandas\\plotting\\_core.py:976\u001B[0m, in \u001B[0;36mPlotAccessor.__call__\u001B[1;34m(self, *args, **kwargs)\u001B[0m\n\u001B[0;32m    974\u001B[0m \u001B[38;5;28;01mif\u001B[39;00m kind \u001B[38;5;129;01min\u001B[39;00m \u001B[38;5;28mself\u001B[39m\u001B[38;5;241m.\u001B[39m_dataframe_kinds:\n\u001B[0;32m    975\u001B[0m     \u001B[38;5;28;01mif\u001B[39;00m \u001B[38;5;28misinstance\u001B[39m(data, ABCDataFrame):\n\u001B[1;32m--> 976\u001B[0m         \u001B[38;5;28;01mreturn\u001B[39;00m \u001B[43mplot_backend\u001B[49m\u001B[38;5;241;43m.\u001B[39;49m\u001B[43mplot\u001B[49m\u001B[43m(\u001B[49m\u001B[43mdata\u001B[49m\u001B[43m,\u001B[49m\u001B[43m \u001B[49m\u001B[43mx\u001B[49m\u001B[38;5;241;43m=\u001B[39;49m\u001B[43mx\u001B[49m\u001B[43m,\u001B[49m\u001B[43m \u001B[49m\u001B[43my\u001B[49m\u001B[38;5;241;43m=\u001B[39;49m\u001B[43my\u001B[49m\u001B[43m,\u001B[49m\u001B[43m \u001B[49m\u001B[43mkind\u001B[49m\u001B[38;5;241;43m=\u001B[39;49m\u001B[43mkind\u001B[49m\u001B[43m,\u001B[49m\u001B[43m \u001B[49m\u001B[38;5;241;43m*\u001B[39;49m\u001B[38;5;241;43m*\u001B[39;49m\u001B[43mkwargs\u001B[49m\u001B[43m)\u001B[49m\n\u001B[0;32m    977\u001B[0m     \u001B[38;5;28;01melse\u001B[39;00m:\n\u001B[0;32m    978\u001B[0m         \u001B[38;5;28;01mraise\u001B[39;00m \u001B[38;5;167;01mValueError\u001B[39;00m(\u001B[38;5;124mf\u001B[39m\u001B[38;5;124m\"\u001B[39m\u001B[38;5;124mplot kind \u001B[39m\u001B[38;5;132;01m{\u001B[39;00mkind\u001B[38;5;132;01m}\u001B[39;00m\u001B[38;5;124m can only be used for data frames\u001B[39m\u001B[38;5;124m\"\u001B[39m)\n",
      "File \u001B[1;32mD:\\OneDrive - Wojskowa Akademia Techniczna\\Pulpit\\mormus\\ai_river_project\\venv\\Lib\\site-packages\\pandas\\plotting\\_matplotlib\\__init__.py:71\u001B[0m, in \u001B[0;36mplot\u001B[1;34m(data, kind, **kwargs)\u001B[0m\n\u001B[0;32m     69\u001B[0m         kwargs[\u001B[38;5;124m\"\u001B[39m\u001B[38;5;124max\u001B[39m\u001B[38;5;124m\"\u001B[39m] \u001B[38;5;241m=\u001B[39m \u001B[38;5;28mgetattr\u001B[39m(ax, \u001B[38;5;124m\"\u001B[39m\u001B[38;5;124mleft_ax\u001B[39m\u001B[38;5;124m\"\u001B[39m, ax)\n\u001B[0;32m     70\u001B[0m plot_obj \u001B[38;5;241m=\u001B[39m PLOT_CLASSES[kind](data, \u001B[38;5;241m*\u001B[39m\u001B[38;5;241m*\u001B[39mkwargs)\n\u001B[1;32m---> 71\u001B[0m \u001B[43mplot_obj\u001B[49m\u001B[38;5;241;43m.\u001B[39;49m\u001B[43mgenerate\u001B[49m\u001B[43m(\u001B[49m\u001B[43m)\u001B[49m\n\u001B[0;32m     72\u001B[0m plot_obj\u001B[38;5;241m.\u001B[39mdraw()\n\u001B[0;32m     73\u001B[0m \u001B[38;5;28;01mreturn\u001B[39;00m plot_obj\u001B[38;5;241m.\u001B[39mresult\n",
      "File \u001B[1;32mD:\\OneDrive - Wojskowa Akademia Techniczna\\Pulpit\\mormus\\ai_river_project\\venv\\Lib\\site-packages\\pandas\\plotting\\_matplotlib\\core.py:453\u001B[0m, in \u001B[0;36mMPLPlot.generate\u001B[1;34m(self)\u001B[0m\n\u001B[0;32m    451\u001B[0m \u001B[38;5;28mself\u001B[39m\u001B[38;5;241m.\u001B[39m_compute_plot_data()\n\u001B[0;32m    452\u001B[0m \u001B[38;5;28mself\u001B[39m\u001B[38;5;241m.\u001B[39m_setup_subplots()\n\u001B[1;32m--> 453\u001B[0m \u001B[38;5;28;43mself\u001B[39;49m\u001B[38;5;241;43m.\u001B[39;49m\u001B[43m_make_plot\u001B[49m\u001B[43m(\u001B[49m\u001B[43m)\u001B[49m\n\u001B[0;32m    454\u001B[0m \u001B[38;5;28mself\u001B[39m\u001B[38;5;241m.\u001B[39m_add_table()\n\u001B[0;32m    455\u001B[0m \u001B[38;5;28mself\u001B[39m\u001B[38;5;241m.\u001B[39m_make_legend()\n",
      "File \u001B[1;32mD:\\OneDrive - Wojskowa Akademia Techniczna\\Pulpit\\mormus\\ai_river_project\\venv\\Lib\\site-packages\\pandas\\plotting\\_matplotlib\\core.py:1267\u001B[0m, in \u001B[0;36mScatterPlot._make_plot\u001B[1;34m(self)\u001B[0m\n\u001B[0;32m   1264\u001B[0m \u001B[38;5;28;01melse\u001B[39;00m:\n\u001B[0;32m   1265\u001B[0m     label \u001B[38;5;241m=\u001B[39m \u001B[38;5;28;01mNone\u001B[39;00m\n\u001B[0;32m   1266\u001B[0m scatter \u001B[38;5;241m=\u001B[39m ax\u001B[38;5;241m.\u001B[39mscatter(\n\u001B[1;32m-> 1267\u001B[0m     \u001B[43mdata\u001B[49m\u001B[43m[\u001B[49m\u001B[43mx\u001B[49m\u001B[43m]\u001B[49m\u001B[38;5;241m.\u001B[39mvalues,\n\u001B[0;32m   1268\u001B[0m     data[y]\u001B[38;5;241m.\u001B[39mvalues,\n\u001B[0;32m   1269\u001B[0m     c\u001B[38;5;241m=\u001B[39mc_values,\n\u001B[0;32m   1270\u001B[0m     label\u001B[38;5;241m=\u001B[39mlabel,\n\u001B[0;32m   1271\u001B[0m     cmap\u001B[38;5;241m=\u001B[39mcmap,\n\u001B[0;32m   1272\u001B[0m     norm\u001B[38;5;241m=\u001B[39mnorm,\n\u001B[0;32m   1273\u001B[0m     \u001B[38;5;241m*\u001B[39m\u001B[38;5;241m*\u001B[39m\u001B[38;5;28mself\u001B[39m\u001B[38;5;241m.\u001B[39mkwds,\n\u001B[0;32m   1274\u001B[0m )\n\u001B[0;32m   1275\u001B[0m \u001B[38;5;28;01mif\u001B[39;00m cb:\n\u001B[0;32m   1276\u001B[0m     cbar_label \u001B[38;5;241m=\u001B[39m c \u001B[38;5;28;01mif\u001B[39;00m c_is_column \u001B[38;5;28;01melse\u001B[39;00m \u001B[38;5;124m\"\u001B[39m\u001B[38;5;124m\"\u001B[39m\n",
      "File \u001B[1;32mD:\\OneDrive - Wojskowa Akademia Techniczna\\Pulpit\\mormus\\ai_river_project\\venv\\Lib\\site-packages\\pandas\\core\\frame.py:3893\u001B[0m, in \u001B[0;36mDataFrame.__getitem__\u001B[1;34m(self, key)\u001B[0m\n\u001B[0;32m   3891\u001B[0m \u001B[38;5;28;01mif\u001B[39;00m \u001B[38;5;28mself\u001B[39m\u001B[38;5;241m.\u001B[39mcolumns\u001B[38;5;241m.\u001B[39mnlevels \u001B[38;5;241m>\u001B[39m \u001B[38;5;241m1\u001B[39m:\n\u001B[0;32m   3892\u001B[0m     \u001B[38;5;28;01mreturn\u001B[39;00m \u001B[38;5;28mself\u001B[39m\u001B[38;5;241m.\u001B[39m_getitem_multilevel(key)\n\u001B[1;32m-> 3893\u001B[0m indexer \u001B[38;5;241m=\u001B[39m \u001B[38;5;28;43mself\u001B[39;49m\u001B[38;5;241;43m.\u001B[39;49m\u001B[43mcolumns\u001B[49m\u001B[38;5;241;43m.\u001B[39;49m\u001B[43mget_loc\u001B[49m\u001B[43m(\u001B[49m\u001B[43mkey\u001B[49m\u001B[43m)\u001B[49m\n\u001B[0;32m   3894\u001B[0m \u001B[38;5;28;01mif\u001B[39;00m is_integer(indexer):\n\u001B[0;32m   3895\u001B[0m     indexer \u001B[38;5;241m=\u001B[39m [indexer]\n",
      "File \u001B[1;32mD:\\OneDrive - Wojskowa Akademia Techniczna\\Pulpit\\mormus\\ai_river_project\\venv\\Lib\\site-packages\\pandas\\core\\indexes\\base.py:3797\u001B[0m, in \u001B[0;36mIndex.get_loc\u001B[1;34m(self, key)\u001B[0m\n\u001B[0;32m   3792\u001B[0m     \u001B[38;5;28;01mif\u001B[39;00m \u001B[38;5;28misinstance\u001B[39m(casted_key, \u001B[38;5;28mslice\u001B[39m) \u001B[38;5;129;01mor\u001B[39;00m (\n\u001B[0;32m   3793\u001B[0m         \u001B[38;5;28misinstance\u001B[39m(casted_key, abc\u001B[38;5;241m.\u001B[39mIterable)\n\u001B[0;32m   3794\u001B[0m         \u001B[38;5;129;01mand\u001B[39;00m \u001B[38;5;28many\u001B[39m(\u001B[38;5;28misinstance\u001B[39m(x, \u001B[38;5;28mslice\u001B[39m) \u001B[38;5;28;01mfor\u001B[39;00m x \u001B[38;5;129;01min\u001B[39;00m casted_key)\n\u001B[0;32m   3795\u001B[0m     ):\n\u001B[0;32m   3796\u001B[0m         \u001B[38;5;28;01mraise\u001B[39;00m InvalidIndexError(key)\n\u001B[1;32m-> 3797\u001B[0m     \u001B[38;5;28;01mraise\u001B[39;00m \u001B[38;5;167;01mKeyError\u001B[39;00m(key) \u001B[38;5;28;01mfrom\u001B[39;00m \u001B[38;5;21;01merr\u001B[39;00m\n\u001B[0;32m   3798\u001B[0m \u001B[38;5;28;01mexcept\u001B[39;00m \u001B[38;5;167;01mTypeError\u001B[39;00m:\n\u001B[0;32m   3799\u001B[0m     \u001B[38;5;66;03m# If we have a listlike key, _check_indexing_error will raise\u001B[39;00m\n\u001B[0;32m   3800\u001B[0m     \u001B[38;5;66;03m#  InvalidIndexError. Otherwise we fall through and re-raise\u001B[39;00m\n\u001B[0;32m   3801\u001B[0m     \u001B[38;5;66;03m#  the TypeError.\u001B[39;00m\n\u001B[0;32m   3802\u001B[0m     \u001B[38;5;28mself\u001B[39m\u001B[38;5;241m.\u001B[39m_check_indexing_error(key)\n",
      "\u001B[1;31mKeyError\u001B[0m: 'distance'"
     ]
    },
    {
     "data": {
      "text/plain": "<Figure size 800x800 with 0 Axes>"
     },
     "metadata": {},
     "output_type": "display_data"
    },
    {
     "data": {
      "text/plain": "<Figure size 640x480 with 1 Axes>",
      "image/png": "[encoded data removed]"
     },
     "metadata": {},
     "output_type": "display_data"
    }
   ],
   "source": [
    "plt.figure(figsize = (8,8))\n",
    "df__a.plot.scatter(y='y_predicted', x='distance')\n",
    "plt.plot(range(5), color='orange')\n",
    "plt.xlim(50, 350)\n",
    "plt.ylim(100, 250)\n",
    "ax = plt.gca()\n",
    "ax.set_aspect('equal', adjustable='box')\n",
    "plt.xlabel('y_ref')\n",
    "plt.ylabel('y_pred')\n",
    "plt.draw()"
   ],
   "metadata": {
    "collapsed": false,
    "ExecuteTime": {
     "end_time": "2024-02-29T22:43:11.453032800Z",
     "start_time": "2024-02-29T22:43:11.084132300Z"
    },
    "pycharm": {
     "name": "#%%\n"
    }
   },
   "id": "7b0ea2245912459d"
  },
  {
   "cell_type": "code",
   "execution_count": null,
   "outputs": [],
   "source": [
    "# print(y_predicted)"
   ],
   "metadata": {
    "collapsed": false,
    "ExecuteTime": {
     "end_time": "2024-02-29T22:43:11.463749400Z",
     "start_time": "2024-02-29T22:43:11.457764Z"
    },
    "pycharm": {
     "name": "#%%\n"
    }
   },
   "id": "14f7ad8255e39a20"
  },
  {
   "cell_type": "code",
   "execution_count": 110,
   "outputs": [],
   "source": [
    "\n",
    "# df__a = pd.merge(df__a, df_p[['ID', 'angle']], left_index=True, right_index=True)\n",
    "# print(df__a)\n"
   ],
   "metadata": {
    "collapsed": false,
    "ExecuteTime": {
     "end_time": "2024-02-29T22:43:11.476639600Z",
     "start_time": "2024-02-29T22:43:11.463749400Z"
    },
    "pycharm": {
     "name": "#%%\n"
    }
   },
   "id": "fa9634ba14f414ae"
  },
  {
   "cell_type": "code",
   "execution_count": 1,
   "outputs": [],
   "source": [
    "# df__a.to_csv(path_or_buf=\"./results.csv\",index=False,quoting=3,sep=';')\n"
   ],
   "metadata": {
    "collapsed": false,
    "ExecuteTime": {
     "end_time": "2024-02-29T22:43:11.488635900Z",
     "start_time": "2024-02-29T22:43:11.471360400Z"
    },
    "pycharm": {
     "name": "#%%\n"
    }
   },
   "id": "e37bbd437a74cd0a"
  },
  {
   "cell_type": "code",
   "execution_count": 18,
   "outputs": [
    {
     "name": "stdout",
     "output_type": "stream",
     "text": [
      "WARNING:tensorflow:From D:\\OneDrive - Wojskowa Akademia Techniczna\\Pulpit\\mormus\\ai_river_project\\venv\\Lib\\site-packages\\keras\\src\\optimizers\\__init__.py:309: The name tf.train.Optimizer is deprecated. Please use tf.compat.v1.train.Optimizer instead.\n",
      "\n",
      "4/4 [==============================] - 0s 5ms/step\n"
     ]
    },
    {
     "data": {
      "text/plain": "<Figure size 640x480 with 1 Axes>",
      "image/png": "[encoded data removed]"
     },
     "metadata": {},
     "output_type": "display_data"
    }
   ],
   "source": [
    "import numpy as np\n",
    "import tensorflow as tf\n",
    "import matplotlib.pyplot as plt\n",
    "\n",
    "# Tworzenie danych x i y, przy założeniu zależności wielomianowej 10. stopnia\n",
    "x_train = np.linspace(-1, 1, 100)[:, np.newaxis]\n",
    "y_train = np.sin(2 * np.pi * x_train) + np.random.normal(0, 0.1, size=x_train.shape)\n",
    "\n",
    "# Definicja modelu sieci neuronowej z wielomianem 10. stopnia\n",
    "model = tf.keras.Sequential([\n",
    "    tf.keras.layers.Dense(20, input_shape=(1,), activation='relu'),\n",
    "    tf.keras.layers.Dense(20, activation='relu'),\n",
    "    tf.keras.layers.Dense(1)\n",
    "])\n",
    "\n",
    "# Kompilacja modelu\n",
    "model.compile(optimizer='adam', loss='mse')\n",
    "\n",
    "# Trenowanie modelu\n",
    "model.fit(x_train, y_train, epochs=1000, verbose=0)\n",
    "\n",
    "# Przewidywanie wartości y dla danych x\n",
    "x_test = np.linspace(-1, 1, 100)[:, np.newaxis]\n",
    "y_pred = model.predict(x_test)\n",
    "\n",
    "# Wyświetlenie danych i dopasowania modelu\n",
    "plt.scatter(x_train, y_train, label='Dane treningowe')\n",
    "plt.plot(x_test, y_pred, 'r-', label='Dopasowanie modelu')\n",
    "plt.xlabel('x')\n",
    "plt.ylabel('y')\n",
    "plt.legend()\n",
    "plt.show()"
   ],
   "metadata": {
    "collapsed": false,
    "pycharm": {
     "name": "#%%\n"
    }
   }
  },
  {
   "cell_type": "code",
   "execution_count": 28,
   "outputs": [
    {
     "data": {
      "text/plain": "0    661651.040108\n0    661652.571296\n0    661653.451200\n0    661653.980606\n0    661654.375077\n         ...      \n0    662126.823064\n0    662127.821638\n0    662129.519327\n0    662131.007094\n0    662131.991669\nName: x, Length: 1026, dtype: float64"
     },
     "execution_count": 28,
     "metadata": {},
     "output_type": "execute_result"
    }
   ],
   "source": [
    "df_p.geometry.get_coordinates().x[0].dropna()"
   ],
   "metadata": {
    "collapsed": false,
    "pycharm": {
     "name": "#%%\n"
    }
   }
  },
  {
   "cell_type": "code",
   "execution_count": 29,
   "outputs": [
    {
     "name": "stdout",
     "output_type": "stream",
     "text": [
      "33/33 [==============================] - 0s 2ms/step\n"
     ]
    },
    {
     "data": {
      "text/plain": "<Figure size 640x480 with 1 Axes>",
      "image/png": "[encoded data removed]"
     },
     "metadata": {},
     "output_type": "display_data"
    }
   ],
   "source": [
    "import numpy as np\n",
    "import tensorflow as tf\n",
    "import matplotlib.pyplot as plt\n",
    "\n",
    "# Tworzenie danych x i y, przy założeniu zależności wielomianowej 10. stopnia\n",
    "x_train = df_p.geometry.get_coordinates().x[0].dropna()\n",
    "y_train = df_p.geometry.get_coordinates().y[0].dropna()\n",
    "\n",
    "# Definicja modelu sieci neuronowej z wielomianem 10. stopnia\n",
    "model = tf.keras.Sequential([\n",
    "    tf.keras.layers.Dense(20, input_shape=(1,), activation='relu'),\n",
    "    tf.keras.layers.Dense(20, activation='relu'),\n",
    "    tf.keras.layers.Dense(1)\n",
    "])\n",
    "\n",
    "# Kompilacja modelu\n",
    "model.compile(optimizer='adam', loss='mse')\n",
    "\n",
    "# Trenowanie modelu\n",
    "model.fit(x_train, y_train, epochs=1000, verbose=0)\n",
    "\n",
    "# Przewidywanie wartości y dla danych x\n",
    "x_test = x_train\n",
    "y_pred = model.predict(x_test)\n",
    "\n",
    "# Wyświetlenie danych i dopasowania modelu\n",
    "plt.scatter(x_train, y_train, label='Dane treningowe')\n",
    "plt.plot(x_test, y_pred, 'r-', label='Dopasowanie modelu')\n",
    "plt.xlabel('x')\n",
    "plt.ylabel('y')\n",
    "plt.legend()\n",
    "plt.show()"
   ],
   "metadata": {
    "collapsed": false,
    "pycharm": {
     "name": "#%%\n"
    }
   }
  },
  {
   "cell_type": "code",
   "execution_count": null,
   "outputs": [],
   "source": [],
   "metadata": {
    "collapsed": false,
    "pycharm": {
     "name": "#%%\n"
    }
   }
  }
 ],
 "metadata": {
  "kernelspec": {
   "display_name": "Python 3",
   "language": "python",
   "name": "python3"
  },
  "language_info": {
   "codemirror_mode": {
    "name": "ipython",
    "version": 2
   },
   "file_extension": ".py",
   "mimetype": "text/x-python",
   "name": "python",
   "nbconvert_exporter": "python",
   "pygments_lexer": "ipython2",
   "version": "2.7.6"
  }
 },
 "nbformat": 4,
 "nbformat_minor": 5
}