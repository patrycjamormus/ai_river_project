{
 "cells": [
  {
   "cell_type": "code",
   "execution_count": 1,
   "id": "initial_id",
   "metadata": {
    "collapsed": true,
    "ExecuteTime": {
     "end_time": "2024-02-29T22:25:55.536991600Z",
     "start_time": "2024-02-29T22:25:55.450792800Z"
    },
    "pycharm": {
     "name": "#%%\n"
    }
   },
   "outputs": [
    {
     "name": "stdout",
     "output_type": "stream",
     "text": [
      "WARNING:tensorflow:From D:\\OneDrive - Wojskowa Akademia Techniczna\\Pulpit\\mormus\\ai_river_project\\venv\\Lib\\site-packages\\keras\\src\\losses.py:2976: The name tf.losses.sparse_softmax_cross_entropy is deprecated. Please use tf.compat.v1.losses.sparse_softmax_cross_entropy instead.\n",
      "\n"
     ]
    }
   ],
   "source": [
    "import pandas as pd\n",
    "import geopandas as gpd\n",
    "import tensorflow as tf\n",
    "from sklearn.preprocessing import MinMaxScaler\n",
    "from sklearn.model_selection import train_test_split\n",
    "import matplotlib.pyplot as plt\n",
    "%matplotlib inline\n",
    "import missingno as msno\n",
    "import numpy as np"
   ]
  },
  {
   "cell_type": "code",
   "execution_count": 94,
   "outputs": [],
   "source": [
    "# !pip install tensorflow\n",
    "# !pip install scikit-learn\n",
    "# !pip install matplotlib\n",
    "# !pip install seaborn\n",
    "# !pip install missingno"
   ],
   "metadata": {
    "collapsed": false,
    "ExecuteTime": {
     "end_time": "2024-02-29T22:25:55.552772Z",
     "start_time": "2024-02-29T22:25:55.468131400Z"
    },
    "pycharm": {
     "name": "#%%\n"
    }
   },
   "id": "376e23cf07a1f484"
  },
  {
   "cell_type": "code",
   "execution_count": 37,
   "outputs": [],
   "source": [
    "path = '../.outputs/data_model_xy.geojson'\n",
    "df_p = gpd.read_file(path)"
   ],
   "metadata": {
    "collapsed": false,
    "ExecuteTime": {
     "end_time": "2024-02-29T22:25:58.813276300Z",
     "start_time": "2024-02-29T22:25:55.473729500Z"
    },
    "pycharm": {
     "name": "#%%\n"
    }
   },
   "id": "75f63cc79842dd76"
  },
  {
   "cell_type": "code",
   "execution_count": 38,
   "outputs": [
    {
     "data": {
      "text/plain": "<Axes: >"
     },
     "execution_count": 38,
     "metadata": {},
     "output_type": "execute_result"
    },
    {
     "data": {
      "text/plain": "<Figure size 1000x400 with 2 Axes>",
      "image/png": "[encoded data removed]"
     },
     "metadata": {},
     "output_type": "display_data"
    }
   ],
   "source": [
    "msno.matrix(df_p, figsize=(10,4)) # test pustych wierszy\n",
    "# df_p =df_p.fillna(0) # wypełnianie Nan zerami\n"
   ],
   "metadata": {
    "collapsed": false,
    "ExecuteTime": {
     "end_time": "2024-02-29T22:25:59.044003200Z",
     "start_time": "2024-02-29T22:25:58.817802Z"
    },
    "pycharm": {
     "name": "#%%\n"
    }
   },
   "id": "67b99ee4507c6500"
  },
  {
   "cell_type": "code",
   "execution_count": 39,
   "outputs": [
    {
     "data": {
      "text/plain": "    count  mean  std  min  25%  50%  75%  max\nid    3.0   1.0  0.0  1.0  1.0  1.0  1.0  1.0",
      "text/html": "<div>\n<style scoped>\n    .dataframe tbody tr th:only-of-type {\n        vertical-align: middle;\n    }\n\n    .dataframe tbody tr th {\n        vertical-align: top;\n    }\n\n    .dataframe thead th {\n        text-align: right;\n    }\n</style>\n<table border=\"1\" class=\"dataframe\">\n  <thead>\n    <tr style=\"text-align: right;\">\n      <th></th>\n      <th>count</th>\n      <th>mean</th>\n      <th>std</th>\n      <th>min</th>\n      <th>25%</th>\n      <th>50%</th>\n      <th>75%</th>\n      <th>max</th>\n    </tr>\n  </thead>\n  <tbody>\n    <tr>\n      <th>id</th>\n      <td>3.0</td>\n      <td>1.0</td>\n      <td>0.0</td>\n      <td>1.0</td>\n      <td>1.0</td>\n      <td>1.0</td>\n      <td>1.0</td>\n      <td>1.0</td>\n    </tr>\n  </tbody>\n</table>\n</div>"
     },
     "execution_count": 39,
     "metadata": {},
     "output_type": "execute_result"
    }
   ],
   "source": [
    "df_p.describe().transpose()"
   ],
   "metadata": {
    "collapsed": false,
    "ExecuteTime": {
     "end_time": "2024-02-29T22:25:59.070746200Z",
     "start_time": "2024-02-29T22:25:59.044003200Z"
    },
    "pycharm": {
     "name": "#%%\n"
    }
   },
   "id": "e6d46256d2f86855"
  },
  {
   "cell_type": "code",
   "execution_count": 40,
   "outputs": [
    {
     "data": {
      "text/plain": "   id                                           geometry\n0   1  LINESTRING (661651.040 563319.409, 661652.571 ...\n1   1  LINESTRING (662144.578 562932.642, 662143.396 ...\n2   1  LINESTRING (662131.992 562825.761, 662132.398 ...",
      "text/html": "<div>\n<style scoped>\n    .dataframe tbody tr th:only-of-type {\n        vertical-align: middle;\n    }\n\n    .dataframe tbody tr th {\n        vertical-align: top;\n    }\n\n    .dataframe thead th {\n        text-align: right;\n    }\n</style>\n<table border=\"1\" class=\"dataframe\">\n  <thead>\n    <tr style=\"text-align: right;\">\n      <th></th>\n      <th>id</th>\n      <th>geometry</th>\n    </tr>\n  </thead>\n  <tbody>\n    <tr>\n      <th>0</th>\n      <td>1</td>\n      <td>LINESTRING (661651.040 563319.409, 661652.571 ...</td>\n    </tr>\n    <tr>\n      <th>1</th>\n      <td>1</td>\n      <td>LINESTRING (662144.578 562932.642, 662143.396 ...</td>\n    </tr>\n    <tr>\n      <th>2</th>\n      <td>1</td>\n      <td>LINESTRING (662131.992 562825.761, 662132.398 ...</td>\n    </tr>\n  </tbody>\n</table>\n</div>"
     },
     "execution_count": 40,
     "metadata": {},
     "output_type": "execute_result"
    }
   ],
   "source": [
    "df_p.explode(ignore_index=True)"
   ],
   "metadata": {
    "collapsed": false,
    "ExecuteTime": {
     "end_time": "2024-02-29T22:25:59.334216100Z",
     "start_time": "2024-02-29T22:25:59.070746200Z"
    },
    "pycharm": {
     "name": "#%%\n"
    }
   },
   "id": "de1543b41d869a1b"
  },
  {
   "cell_type": "code",
   "execution_count": 41,
   "outputs": [
    {
     "data": {
      "text/plain": "(3, 2)"
     },
     "execution_count": 41,
     "metadata": {},
     "output_type": "execute_result"
    }
   ],
   "source": [
    "df_p.shape"
   ],
   "metadata": {
    "collapsed": false,
    "ExecuteTime": {
     "end_time": "2024-02-29T22:25:59.334216100Z",
     "start_time": "2024-02-29T22:25:59.086795800Z"
    },
    "pycharm": {
     "name": "#%%\n"
    }
   },
   "id": "2873a098f746fd15"
  },
  {
   "cell_type": "code",
   "execution_count": 42,
   "outputs": [
    {
     "data": {
      "text/plain": "((1298, 1), (1298, 1))"
     },
     "execution_count": 42,
     "metadata": {},
     "output_type": "execute_result"
    }
   ],
   "source": [
    "#normalizacja i podzial na dane wejsciowe i wyjsciowe\n",
    "X = df_p.get_coordinates()[[\"x\"]]\n",
    "X = MinMaxScaler().fit_transform(X)\n",
    "y = df_p.get_coordinates()[[\"y\"]]\n",
    "X.shape, y.shape"
   ],
   "metadata": {
    "collapsed": false,
    "ExecuteTime": {
     "end_time": "2024-02-29T22:25:59.334216100Z",
     "start_time": "2024-02-29T22:25:59.104197Z"
    },
    "pycharm": {
     "name": "#%%\n"
    }
   },
   "id": "baa638afd1b648b8"
  },
  {
   "cell_type": "code",
   "execution_count": 43,
   "outputs": [],
   "source": [
    "X_train, X_test, y_train, y_test  = train_test_split(X, y, \n",
    "                                                     # random_state=42,\n",
    "                                                     test_size=.2)"
   ],
   "metadata": {
    "collapsed": false,
    "ExecuteTime": {
     "end_time": "2024-02-29T22:25:59.334216100Z",
     "start_time": "2024-02-29T22:25:59.212495400Z"
    },
    "pycharm": {
     "name": "#%%\n"
    }
   },
   "id": "b13b24d36e2e49ca"
  },
  {
   "cell_type": "code",
   "execution_count": 44,
   "outputs": [
    {
     "data": {
      "text/plain": "((1038, 1), (260, 1), (1038, 1), (260, 1))"
     },
     "execution_count": 44,
     "metadata": {},
     "output_type": "execute_result"
    }
   ],
   "source": [
    "X_train.shape, X_test.shape, y_train.shape, y_test.shape"
   ],
   "metadata": {
    "collapsed": false,
    "ExecuteTime": {
     "end_time": "2024-02-29T22:25:59.334216100Z",
     "start_time": "2024-02-29T22:25:59.280512600Z"
    },
    "pycharm": {
     "name": "#%%\n"
    }
   },
   "id": "9115bf1af0b75983"
  },
  {
   "cell_type": "markdown",
   "source": [
    "# MODEL"
   ],
   "metadata": {
    "collapsed": false,
    "pycharm": {
     "name": "#%% md\n"
    }
   },
   "id": "ed19d889e2e72ee3"
  },
  {
   "cell_type": "code",
   "execution_count": 50,
   "outputs": [],
   "source": [
    "from numpy import loadtxt\n",
    "from tensorflow.keras.models import Sequential\n",
    "from tensorflow.keras.layers import Input, Dense, Concatenate,Dropout,CategoryEncoding, Embedding, Flatten,Conv2D, LSTM\n",
    "from tensorflow.keras.callbacks import ModelCheckpoint,EarlyStopping\n",
    "from tensorflow.random import set_seed #ustawiam ziarno pseudolosowości\n",
    "from tensorflow.keras.callbacks import TensorBoard\n",
    "from datetime import datetime as dt\n",
    "import os"
   ],
   "metadata": {
    "collapsed": false,
    "ExecuteTime": {
     "end_time": "2024-02-29T22:25:59.334216100Z",
     "start_time": "2024-02-29T22:25:59.290718600Z"
    },
    "pycharm": {
     "name": "#%%\n"
    }
   },
   "id": "2397e40dbf0398f5"
  },
  {
   "cell_type": "code",
   "execution_count": 123,
   "outputs": [],
   "source": [
    "N_TRAIN = int(1e4)\n",
    "BATCH_SIZE = 8\n",
    "STEPS_PER_EPOCH = N_TRAIN//BATCH_SIZE\n",
    "lr_schedule = tf.keras.optimizers.schedules.InverseTimeDecay(\n",
    "  0.0001,\n",
    "  decay_steps=STEPS_PER_EPOCH*1,\n",
    "  decay_rate=1,\n",
    "  staircase=False)\n",
    "\n",
    "def get_optimizer():\n",
    "  return tf.keras.optimizers.experimental.RMSprop(lr_schedule)"
   ],
   "metadata": {
    "collapsed": false,
    "ExecuteTime": {
     "end_time": "2024-02-29T22:25:59.334216100Z",
     "start_time": "2024-02-29T22:25:59.291233700Z"
    },
    "pycharm": {
     "name": "#%%\n"
    }
   },
   "id": "d06f64f776731c7"
  },
  {
   "cell_type": "code",
   "execution_count": 124,
   "outputs": [
    {
     "data": {
      "text/plain": "<Figure size 800x600 with 1 Axes>",
      "image/png": "[encoded data removed]"
     },
     "metadata": {},
     "output_type": "display_data"
    }
   ],
   "source": [
    "step = np.linspace(0,10000)\n",
    "lr = lr_schedule(step)\n",
    "plt.figure(figsize = (8,6))\n",
    "plt.plot(step/STEPS_PER_EPOCH, lr)\n",
    "plt.ylim([0,max(plt.ylim())])\n",
    "plt.xlabel('Epoch')\n",
    "_ = plt.ylabel('Learning Rate')"
   ],
   "metadata": {
    "collapsed": false,
    "ExecuteTime": {
     "end_time": "2024-02-29T22:25:59.707424100Z",
     "start_time": "2024-02-29T22:25:59.298137100Z"
    },
    "pycharm": {
     "name": "#%%\n"
    }
   },
   "id": "8547a4d19256c60a"
  },
  {
   "cell_type": "code",
   "execution_count": 124,
   "outputs": [],
   "source": [],
   "metadata": {
    "collapsed": false,
    "pycharm": {
     "name": "#%%\n"
    }
   }
  },
  {
   "cell_type": "code",
   "execution_count": 128,
   "outputs": [],
   "source": [
    "from keras import regularizers\n",
    "\n",
    "\n",
    "def create_ANN():\n",
    "    set_seed(0)\n",
    "    model = Sequential()\n",
    "    model.add(\n",
    "        Dense(1, activation='relu',\n",
    "              kernel_regularizer=regularizers.l2(0.01), #opcja\n",
    "              kernel_initializer='he_uniform')\n",
    "    )\n",
    "    model.add(Dense(2,activation='relu'))\n",
    "    model.add(\n",
    "        Dense(1, activation='relu',\n",
    "              kernel_regularizer=regularizers.l2(0.01))# opcja\n",
    "    )\n",
    "\n",
    "    model.compile(\n",
    "        loss=tf.keras.losses.MeanSquaredLogarithmicError(),\n",
    "        optimizer=get_optimizer(),\n",
    "        metrics=['accuracy'])\n",
    "\n",
    "    return model"
   ],
   "metadata": {
    "collapsed": false,
    "ExecuteTime": {
     "end_time": "2024-02-29T22:25:59.707424100Z",
     "start_time": "2024-02-29T22:25:59.670727Z"
    },
    "pycharm": {
     "name": "#%%\n"
    }
   },
   "id": "fb1199c5da8a531a"
  },
  {
   "cell_type": "code",
   "execution_count": 129,
   "outputs": [],
   "source": [
    "_filepath = '../.outputs/checkpoint/ann-{epoch:02d}-{loss:.3f}.h5' # for filepath\n",
    "checkpoint = ModelCheckpoint(monitor='loss', filepath='../.outputs/checkpoint/_best-ann.h5', save_best_only=True, verbose=1)\n",
    "es = EarlyStopping(monitor='loss', patience=3, min_delta=0.01, verbose=1)\n",
    "tb = TensorBoard(log_dir='logs/'+dt.now().strftime(\"%Y%m%d-%H%M%S\")) # logi tensor board"
   ],
   "metadata": {
    "collapsed": false,
    "ExecuteTime": {
     "end_time": "2024-02-29T22:25:59.707424100Z",
     "start_time": "2024-02-29T22:25:59.677462700Z"
    },
    "pycharm": {
     "name": "#%%\n"
    }
   },
   "id": "8cbda92e8214dd3b"
  },
  {
   "cell_type": "code",
   "execution_count": 130,
   "outputs": [
    {
     "name": "stdout",
     "output_type": "stream",
     "text": [
      "\n",
      "Epoch 1: loss improved from inf to 175.33723, saving model to .outputs/model_checkpoint\\_best-ann.h5\n"
     ]
    },
    {
     "name": "stderr",
     "output_type": "stream",
     "text": [
      "D:\\OneDrive - Wojskowa Akademia Techniczna\\Pulpit\\mormus\\ai_river_project\\venv\\Lib\\site-packages\\keras\\src\\engine\\training.py:3103: UserWarning: You are saving your model as an HDF5 file via `model.save()`. This file format is considered legacy. We recommend using instead the native Keras format, e.g. `model.save('my_model.keras')`.\n",
      "  saving_api.save_model(\n"
     ]
    },
    {
     "name": "stdout",
     "output_type": "stream",
     "text": [
      "\n",
      "Epoch 2: loss improved from 175.33723 to 175.33698, saving model to .outputs/model_checkpoint\\_best-ann.h5\n",
      "\n",
      "Epoch 3: loss improved from 175.33698 to 175.33676, saving model to .outputs/model_checkpoint\\_best-ann.h5\n",
      "\n",
      "Epoch 4: loss improved from 175.33676 to 175.33646, saving model to .outputs/model_checkpoint\\_best-ann.h5\n",
      "\n",
      "Epoch 5: loss improved from 175.33646 to 175.33624, saving model to .outputs/model_checkpoint\\_best-ann.h5\n",
      "\n",
      "Epoch 6: loss improved from 175.33624 to 175.33606, saving model to .outputs/model_checkpoint\\_best-ann.h5\n",
      "\n",
      "Epoch 7: loss improved from 175.33606 to 175.33588, saving model to .outputs/model_checkpoint\\_best-ann.h5\n",
      "\n",
      "Epoch 8: loss improved from 175.33588 to 175.33569, saving model to .outputs/model_checkpoint\\_best-ann.h5\n",
      "\n",
      "Epoch 9: loss improved from 175.33569 to 175.33551, saving model to .outputs/model_checkpoint\\_best-ann.h5\n",
      "\n",
      "Epoch 10: loss improved from 175.33551 to 175.33537, saving model to .outputs/model_checkpoint\\_best-ann.h5\n",
      "\n",
      "Epoch 11: loss improved from 175.33537 to 175.33519, saving model to .outputs/model_checkpoint\\_best-ann.h5\n",
      "\n",
      "Epoch 12: loss improved from 175.33519 to 175.33508, saving model to .outputs/model_checkpoint\\_best-ann.h5\n",
      "\n",
      "Epoch 13: loss improved from 175.33508 to 175.33495, saving model to .outputs/model_checkpoint\\_best-ann.h5\n",
      "\n",
      "Epoch 14: loss improved from 175.33495 to 175.33482, saving model to .outputs/model_checkpoint\\_best-ann.h5\n",
      "\n",
      "Epoch 15: loss improved from 175.33482 to 175.33472, saving model to .outputs/model_checkpoint\\_best-ann.h5\n",
      "\n",
      "Epoch 16: loss improved from 175.33472 to 175.33458, saving model to .outputs/model_checkpoint\\_best-ann.h5\n",
      "\n",
      "Epoch 17: loss improved from 175.33458 to 175.33447, saving model to .outputs/model_checkpoint\\_best-ann.h5\n",
      "\n",
      "Epoch 18: loss improved from 175.33447 to 175.33437, saving model to .outputs/model_checkpoint\\_best-ann.h5\n",
      "\n",
      "Epoch 19: loss improved from 175.33437 to 175.33426, saving model to .outputs/model_checkpoint\\_best-ann.h5\n",
      "\n",
      "Epoch 20: loss improved from 175.33426 to 175.33418, saving model to .outputs/model_checkpoint\\_best-ann.h5\n",
      "\n",
      "Epoch 21: loss improved from 175.33418 to 175.33408, saving model to .outputs/model_checkpoint\\_best-ann.h5\n",
      "\n",
      "Epoch 22: loss improved from 175.33408 to 175.33398, saving model to .outputs/model_checkpoint\\_best-ann.h5\n",
      "\n",
      "Epoch 23: loss improved from 175.33398 to 175.33391, saving model to .outputs/model_checkpoint\\_best-ann.h5\n",
      "\n",
      "Epoch 24: loss improved from 175.33391 to 175.33382, saving model to .outputs/model_checkpoint\\_best-ann.h5\n",
      "\n",
      "Epoch 25: loss improved from 175.33382 to 175.33372, saving model to .outputs/model_checkpoint\\_best-ann.h5\n",
      "\n",
      "Epoch 26: loss improved from 175.33372 to 175.33365, saving model to .outputs/model_checkpoint\\_best-ann.h5\n",
      "\n",
      "Epoch 27: loss improved from 175.33365 to 175.33359, saving model to .outputs/model_checkpoint\\_best-ann.h5\n",
      "\n",
      "Epoch 28: loss improved from 175.33359 to 175.33351, saving model to .outputs/model_checkpoint\\_best-ann.h5\n",
      "\n",
      "Epoch 29: loss improved from 175.33351 to 175.33344, saving model to .outputs/model_checkpoint\\_best-ann.h5\n",
      "\n",
      "Epoch 30: loss improved from 175.33344 to 175.33336, saving model to .outputs/model_checkpoint\\_best-ann.h5\n",
      "\n",
      "Epoch 31: loss improved from 175.33336 to 175.33331, saving model to .outputs/model_checkpoint\\_best-ann.h5\n",
      "\n",
      "Epoch 32: loss improved from 175.33331 to 175.33324, saving model to .outputs/model_checkpoint\\_best-ann.h5\n",
      "\n",
      "Epoch 33: loss improved from 175.33324 to 175.33316, saving model to .outputs/model_checkpoint\\_best-ann.h5\n",
      "\n",
      "Epoch 34: loss improved from 175.33316 to 175.33311, saving model to .outputs/model_checkpoint\\_best-ann.h5\n",
      "\n",
      "Epoch 35: loss improved from 175.33311 to 175.33304, saving model to .outputs/model_checkpoint\\_best-ann.h5\n",
      "\n",
      "Epoch 36: loss improved from 175.33304 to 175.33299, saving model to .outputs/model_checkpoint\\_best-ann.h5\n",
      "\n",
      "Epoch 37: loss improved from 175.33299 to 175.33289, saving model to .outputs/model_checkpoint\\_best-ann.h5\n",
      "\n",
      "Epoch 38: loss did not improve from 175.33289\n",
      "\n",
      "Epoch 39: loss improved from 175.33289 to 175.33286, saving model to .outputs/model_checkpoint\\_best-ann.h5\n",
      "\n",
      "Epoch 40: loss improved from 175.33286 to 175.33275, saving model to .outputs/model_checkpoint\\_best-ann.h5\n",
      "\n",
      "Epoch 41: loss did not improve from 175.33275\n",
      "\n",
      "Epoch 42: loss improved from 175.33275 to 175.33266, saving model to .outputs/model_checkpoint\\_best-ann.h5\n",
      "\n",
      "Epoch 43: loss improved from 175.33266 to 175.33261, saving model to .outputs/model_checkpoint\\_best-ann.h5\n",
      "\n",
      "Epoch 44: loss improved from 175.33261 to 175.33257, saving model to .outputs/model_checkpoint\\_best-ann.h5\n",
      "\n",
      "Epoch 45: loss did not improve from 175.33257\n",
      "\n",
      "Epoch 46: loss improved from 175.33257 to 175.33249, saving model to .outputs/model_checkpoint\\_best-ann.h5\n",
      "\n",
      "Epoch 47: loss improved from 175.33249 to 175.33244, saving model to .outputs/model_checkpoint\\_best-ann.h5\n",
      "\n",
      "Epoch 48: loss improved from 175.33244 to 175.33235, saving model to .outputs/model_checkpoint\\_best-ann.h5\n",
      "\n",
      "Epoch 49: loss improved from 175.33235 to 175.33232, saving model to .outputs/model_checkpoint\\_best-ann.h5\n",
      "\n",
      "Epoch 50: loss improved from 175.33232 to 175.33231, saving model to .outputs/model_checkpoint\\_best-ann.h5\n",
      "\n",
      "Epoch 51: loss improved from 175.33231 to 175.33229, saving model to .outputs/model_checkpoint\\_best-ann.h5\n",
      "\n",
      "Epoch 52: loss improved from 175.33229 to 175.33223, saving model to .outputs/model_checkpoint\\_best-ann.h5\n",
      "\n",
      "Epoch 53: loss improved from 175.33223 to 175.33220, saving model to .outputs/model_checkpoint\\_best-ann.h5\n",
      "\n",
      "Epoch 54: loss improved from 175.33220 to 175.33214, saving model to .outputs/model_checkpoint\\_best-ann.h5\n",
      "\n",
      "Epoch 55: loss did not improve from 175.33214\n",
      "\n",
      "Epoch 56: loss improved from 175.33214 to 175.33205, saving model to .outputs/model_checkpoint\\_best-ann.h5\n",
      "\n",
      "Epoch 57: loss improved from 175.33205 to 175.33202, saving model to .outputs/model_checkpoint\\_best-ann.h5\n",
      "\n",
      "Epoch 58: loss did not improve from 175.33202\n",
      "\n",
      "Epoch 59: loss improved from 175.33202 to 175.33194, saving model to .outputs/model_checkpoint\\_best-ann.h5\n",
      "\n",
      "Epoch 60: loss improved from 175.33194 to 175.33191, saving model to .outputs/model_checkpoint\\_best-ann.h5\n",
      "\n",
      "Epoch 61: loss improved from 175.33191 to 175.33186, saving model to .outputs/model_checkpoint\\_best-ann.h5\n",
      "\n",
      "Epoch 62: loss did not improve from 175.33186\n",
      "\n",
      "Epoch 63: loss improved from 175.33186 to 175.33182, saving model to .outputs/model_checkpoint\\_best-ann.h5\n",
      "\n",
      "Epoch 64: loss improved from 175.33182 to 175.33179, saving model to .outputs/model_checkpoint\\_best-ann.h5\n",
      "\n",
      "Epoch 65: loss improved from 175.33179 to 175.33176, saving model to .outputs/model_checkpoint\\_best-ann.h5\n",
      "\n",
      "Epoch 66: loss improved from 175.33176 to 175.33173, saving model to .outputs/model_checkpoint\\_best-ann.h5\n",
      "\n",
      "Epoch 67: loss did not improve from 175.33173\n",
      "\n",
      "Epoch 68: loss improved from 175.33173 to 175.33167, saving model to .outputs/model_checkpoint\\_best-ann.h5\n",
      "\n",
      "Epoch 69: loss did not improve from 175.33167\n",
      "\n",
      "Epoch 70: loss improved from 175.33167 to 175.33163, saving model to .outputs/model_checkpoint\\_best-ann.h5\n",
      "\n",
      "Epoch 71: loss improved from 175.33163 to 175.33157, saving model to .outputs/model_checkpoint\\_best-ann.h5\n",
      "\n",
      "Epoch 72: loss did not improve from 175.33157\n",
      "\n",
      "Epoch 73: loss improved from 175.33157 to 175.33154, saving model to .outputs/model_checkpoint\\_best-ann.h5\n",
      "\n",
      "Epoch 74: loss improved from 175.33154 to 175.33150, saving model to .outputs/model_checkpoint\\_best-ann.h5\n",
      "\n",
      "Epoch 75: loss improved from 175.33150 to 175.33145, saving model to .outputs/model_checkpoint\\_best-ann.h5\n",
      "\n",
      "Epoch 76: loss did not improve from 175.33145\n",
      "\n",
      "Epoch 77: loss improved from 175.33145 to 175.33142, saving model to .outputs/model_checkpoint\\_best-ann.h5\n",
      "\n",
      "Epoch 78: loss improved from 175.33142 to 175.33139, saving model to .outputs/model_checkpoint\\_best-ann.h5\n",
      "\n",
      "Epoch 79: loss did not improve from 175.33139\n",
      "\n",
      "Epoch 80: loss did not improve from 175.33139\n",
      "\n",
      "Epoch 81: loss improved from 175.33139 to 175.33133, saving model to .outputs/model_checkpoint\\_best-ann.h5\n",
      "\n",
      "Epoch 82: loss improved from 175.33133 to 175.33128, saving model to .outputs/model_checkpoint\\_best-ann.h5\n",
      "\n",
      "Epoch 83: loss did not improve from 175.33128\n",
      "\n",
      "Epoch 84: loss improved from 175.33128 to 175.33127, saving model to .outputs/model_checkpoint\\_best-ann.h5\n",
      "\n",
      "Epoch 85: loss improved from 175.33127 to 175.33125, saving model to .outputs/model_checkpoint\\_best-ann.h5\n",
      "\n",
      "Epoch 86: loss improved from 175.33125 to 175.33119, saving model to .outputs/model_checkpoint\\_best-ann.h5\n",
      "\n",
      "Epoch 87: loss did not improve from 175.33119\n",
      "\n",
      "Epoch 88: loss did not improve from 175.33119\n",
      "\n",
      "Epoch 89: loss improved from 175.33119 to 175.33118, saving model to .outputs/model_checkpoint\\_best-ann.h5\n",
      "\n",
      "Epoch 90: loss improved from 175.33118 to 175.33113, saving model to .outputs/model_checkpoint\\_best-ann.h5\n",
      "\n",
      "Epoch 91: loss improved from 175.33113 to 175.33109, saving model to .outputs/model_checkpoint\\_best-ann.h5\n",
      "\n",
      "Epoch 92: loss improved from 175.33109 to 175.33107, saving model to .outputs/model_checkpoint\\_best-ann.h5\n",
      "\n",
      "Epoch 93: loss did not improve from 175.33107\n",
      "\n",
      "Epoch 94: loss improved from 175.33107 to 175.33104, saving model to .outputs/model_checkpoint\\_best-ann.h5\n",
      "\n",
      "Epoch 95: loss improved from 175.33104 to 175.33101, saving model to .outputs/model_checkpoint\\_best-ann.h5\n",
      "\n",
      "Epoch 96: loss did not improve from 175.33101\n",
      "\n",
      "Epoch 97: loss improved from 175.33101 to 175.33098, saving model to .outputs/model_checkpoint\\_best-ann.h5\n",
      "\n",
      "Epoch 98: loss improved from 175.33098 to 175.33095, saving model to .outputs/model_checkpoint\\_best-ann.h5\n",
      "\n",
      "Epoch 99: loss did not improve from 175.33095\n",
      "\n",
      "Epoch 100: loss did not improve from 175.33095\n",
      "\n",
      "Epoch 101: loss improved from 175.33095 to 175.33092, saving model to .outputs/model_checkpoint\\_best-ann.h5\n",
      "\n",
      "Epoch 102: loss improved from 175.33092 to 175.33086, saving model to .outputs/model_checkpoint\\_best-ann.h5\n",
      "\n",
      "Epoch 103: loss did not improve from 175.33086\n",
      "\n",
      "Epoch 104: loss did not improve from 175.33086\n",
      "\n",
      "Epoch 105: loss did not improve from 175.33086\n",
      "\n",
      "Epoch 106: loss improved from 175.33086 to 175.33080, saving model to .outputs/model_checkpoint\\_best-ann.h5\n",
      "\n",
      "Epoch 107: loss did not improve from 175.33080\n",
      "\n",
      "Epoch 108: loss did not improve from 175.33080\n",
      "\n",
      "Epoch 109: loss improved from 175.33080 to 175.33076, saving model to .outputs/model_checkpoint\\_best-ann.h5\n",
      "\n",
      "Epoch 110: loss did not improve from 175.33076\n",
      "\n",
      "Epoch 111: loss did not improve from 175.33076\n",
      "\n",
      "Epoch 112: loss improved from 175.33076 to 175.33073, saving model to .outputs/model_checkpoint\\_best-ann.h5\n",
      "\n",
      "Epoch 113: loss improved from 175.33073 to 175.33070, saving model to .outputs/model_checkpoint\\_best-ann.h5\n",
      "\n",
      "Epoch 114: loss did not improve from 175.33070\n",
      "\n",
      "Epoch 115: loss improved from 175.33070 to 175.33069, saving model to .outputs/model_checkpoint\\_best-ann.h5\n",
      "\n",
      "Epoch 116: loss did not improve from 175.33069\n",
      "\n",
      "Epoch 117: loss improved from 175.33069 to 175.33066, saving model to .outputs/model_checkpoint\\_best-ann.h5\n",
      "\n",
      "Epoch 118: loss improved from 175.33066 to 175.33064, saving model to .outputs/model_checkpoint\\_best-ann.h5\n",
      "\n",
      "Epoch 119: loss improved from 175.33064 to 175.33058, saving model to .outputs/model_checkpoint\\_best-ann.h5\n",
      "\n",
      "Epoch 120: loss did not improve from 175.33058\n",
      "\n",
      "Epoch 121: loss did not improve from 175.33058\n",
      "\n",
      "Epoch 122: loss did not improve from 175.33058\n",
      "\n",
      "Epoch 123: loss improved from 175.33058 to 175.33057, saving model to .outputs/model_checkpoint\\_best-ann.h5\n",
      "\n",
      "Epoch 124: loss did not improve from 175.33057\n",
      "\n",
      "Epoch 125: loss improved from 175.33057 to 175.33054, saving model to .outputs/model_checkpoint\\_best-ann.h5\n",
      "\n",
      "Epoch 126: loss did not improve from 175.33054\n",
      "\n",
      "Epoch 127: loss improved from 175.33054 to 175.33051, saving model to .outputs/model_checkpoint\\_best-ann.h5\n",
      "\n",
      "Epoch 128: loss did not improve from 175.33051\n",
      "\n",
      "Epoch 129: loss improved from 175.33051 to 175.33049, saving model to .outputs/model_checkpoint\\_best-ann.h5\n",
      "\n",
      "Epoch 130: loss improved from 175.33049 to 175.33044, saving model to .outputs/model_checkpoint\\_best-ann.h5\n",
      "\n",
      "Epoch 131: loss did not improve from 175.33044\n",
      "\n",
      "Epoch 132: loss did not improve from 175.33044\n",
      "\n",
      "Epoch 133: loss improved from 175.33044 to 175.33041, saving model to .outputs/model_checkpoint\\_best-ann.h5\n",
      "\n",
      "Epoch 134: loss did not improve from 175.33041\n",
      "\n",
      "Epoch 135: loss did not improve from 175.33041\n",
      "\n",
      "Epoch 136: loss did not improve from 175.33041\n",
      "\n",
      "Epoch 137: loss improved from 175.33041 to 175.33040, saving model to .outputs/model_checkpoint\\_best-ann.h5\n",
      "\n",
      "Epoch 138: loss improved from 175.33040 to 175.33037, saving model to .outputs/model_checkpoint\\_best-ann.h5\n",
      "\n",
      "Epoch 139: loss did not improve from 175.33037\n",
      "\n",
      "Epoch 140: loss did not improve from 175.33037\n",
      "\n",
      "Epoch 141: loss improved from 175.33037 to 175.33034, saving model to .outputs/model_checkpoint\\_best-ann.h5\n",
      "\n",
      "Epoch 142: loss improved from 175.33034 to 175.33031, saving model to .outputs/model_checkpoint\\_best-ann.h5\n",
      "\n",
      "Epoch 143: loss did not improve from 175.33031\n",
      "\n",
      "Epoch 144: loss did not improve from 175.33031\n",
      "\n",
      "Epoch 145: loss improved from 175.33031 to 175.33029, saving model to .outputs/model_checkpoint\\_best-ann.h5\n",
      "\n",
      "Epoch 146: loss improved from 175.33029 to 175.33028, saving model to .outputs/model_checkpoint\\_best-ann.h5\n",
      "\n",
      "Epoch 147: loss did not improve from 175.33028\n",
      "\n",
      "Epoch 148: loss improved from 175.33028 to 175.33023, saving model to .outputs/model_checkpoint\\_best-ann.h5\n",
      "\n",
      "Epoch 149: loss did not improve from 175.33023\n",
      "\n",
      "Epoch 150: loss did not improve from 175.33023\n",
      "\n",
      "Epoch 151: loss did not improve from 175.33023\n",
      "\n",
      "Epoch 152: loss improved from 175.33023 to 175.33022, saving model to .outputs/model_checkpoint\\_best-ann.h5\n",
      "\n",
      "Epoch 153: loss did not improve from 175.33022\n",
      "\n",
      "Epoch 154: loss did not improve from 175.33022\n",
      "\n",
      "Epoch 155: loss improved from 175.33022 to 175.33018, saving model to .outputs/model_checkpoint\\_best-ann.h5\n",
      "\n",
      "Epoch 156: loss improved from 175.33018 to 175.33017, saving model to .outputs/model_checkpoint\\_best-ann.h5\n",
      "\n",
      "Epoch 157: loss improved from 175.33017 to 175.33015, saving model to .outputs/model_checkpoint\\_best-ann.h5\n",
      "\n",
      "Epoch 158: loss did not improve from 175.33015\n",
      "\n",
      "Epoch 159: loss did not improve from 175.33015\n",
      "\n",
      "Epoch 160: loss did not improve from 175.33015\n",
      "\n",
      "Epoch 161: loss improved from 175.33015 to 175.33011, saving model to .outputs/model_checkpoint\\_best-ann.h5\n",
      "\n",
      "Epoch 162: loss did not improve from 175.33011\n",
      "\n",
      "Epoch 163: loss did not improve from 175.33011\n",
      "\n",
      "Epoch 164: loss improved from 175.33011 to 175.33008, saving model to .outputs/model_checkpoint\\_best-ann.h5\n",
      "\n",
      "Epoch 165: loss did not improve from 175.33008\n",
      "\n",
      "Epoch 166: loss did not improve from 175.33008\n",
      "\n",
      "Epoch 167: loss did not improve from 175.33008\n",
      "\n",
      "Epoch 168: loss improved from 175.33008 to 175.33000, saving model to .outputs/model_checkpoint\\_best-ann.h5\n",
      "\n",
      "Epoch 169: loss did not improve from 175.33000\n",
      "\n",
      "Epoch 170: loss did not improve from 175.33000\n",
      "\n",
      "Epoch 171: loss did not improve from 175.33000\n",
      "\n",
      "Epoch 172: loss did not improve from 175.33000\n",
      "\n",
      "Epoch 173: loss did not improve from 175.33000\n",
      "\n",
      "Epoch 174: loss did not improve from 175.33000\n",
      "\n",
      "Epoch 175: loss improved from 175.33000 to 175.32997, saving model to .outputs/model_checkpoint\\_best-ann.h5\n",
      "\n",
      "Epoch 176: loss did not improve from 175.32997\n",
      "\n",
      "Epoch 177: loss did not improve from 175.32997\n",
      "\n",
      "Epoch 178: loss did not improve from 175.32997\n",
      "\n",
      "Epoch 179: loss improved from 175.32997 to 175.32996, saving model to .outputs/model_checkpoint\\_best-ann.h5\n",
      "\n",
      "Epoch 180: loss did not improve from 175.32996\n",
      "\n",
      "Epoch 181: loss did not improve from 175.32996\n",
      "\n",
      "Epoch 182: loss did not improve from 175.32996\n",
      "\n",
      "Epoch 183: loss improved from 175.32996 to 175.32993, saving model to .outputs/model_checkpoint\\_best-ann.h5\n",
      "\n",
      "Epoch 184: loss improved from 175.32993 to 175.32990, saving model to .outputs/model_checkpoint\\_best-ann.h5\n",
      "\n",
      "Epoch 185: loss did not improve from 175.32990\n",
      "\n",
      "Epoch 186: loss did not improve from 175.32990\n",
      "\n",
      "Epoch 187: loss did not improve from 175.32990\n",
      "\n",
      "Epoch 188: loss did not improve from 175.32990\n",
      "\n",
      "Epoch 189: loss improved from 175.32990 to 175.32986, saving model to .outputs/model_checkpoint\\_best-ann.h5\n",
      "\n",
      "Epoch 190: loss did not improve from 175.32986\n",
      "\n",
      "Epoch 191: loss did not improve from 175.32986\n",
      "\n",
      "Epoch 192: loss improved from 175.32986 to 175.32985, saving model to .outputs/model_checkpoint\\_best-ann.h5\n",
      "\n",
      "Epoch 193: loss improved from 175.32985 to 175.32982, saving model to .outputs/model_checkpoint\\_best-ann.h5\n",
      "\n",
      "Epoch 194: loss did not improve from 175.32982\n",
      "\n",
      "Epoch 195: loss did not improve from 175.32982\n",
      "\n",
      "Epoch 196: loss did not improve from 175.32982\n",
      "\n",
      "Epoch 197: loss improved from 175.32982 to 175.32979, saving model to .outputs/model_checkpoint\\_best-ann.h5\n",
      "\n",
      "Epoch 198: loss did not improve from 175.32979\n",
      "\n",
      "Epoch 199: loss did not improve from 175.32979\n",
      "\n",
      "Epoch 200: loss did not improve from 175.32979\n"
     ]
    }
   ],
   "source": [
    "model = create_ANN()\n",
    "\n",
    "result = model.fit(\n",
    "    X_train, y_train,\n",
    "    epochs=200,\n",
    "    batch_size=BATCH_SIZE,\n",
    "    shuffle=True,\n",
    "    class_weight=None,\n",
    "    sample_weight=None,\n",
    "    validation_split=.3,\n",
    "    callbacks=[checkpoint, tb],\n",
    "    verbose=0,\n",
    ")"
   ],
   "metadata": {
    "collapsed": false,
    "ExecuteTime": {
     "end_time": "2024-02-29T22:43:08.604481500Z",
     "start_time": "2024-02-29T22:25:59.689821200Z"
    },
    "pycharm": {
     "name": "#%%\n"
    }
   },
   "id": "7a3dac08c4f0ce2"
  },
  {
   "cell_type": "markdown",
   "source": [],
   "metadata": {
    "collapsed": false,
    "pycharm": {
     "name": "#%% md\n"
    }
   },
   "id": "6bcb91482f08437a"
  },
  {
   "cell_type": "code",
   "execution_count": 131,
   "outputs": [
    {
     "name": "stdout",
     "output_type": "stream",
     "text": [
      "Model: \"sequential_13\"\n",
      "_________________________________________________________________\n",
      " Layer (type)                Output Shape              Param #   \n",
      "=================================================================\n",
      " dense_38 (Dense)            (None, 1)                 2         \n",
      "                                                                 \n",
      " dense_39 (Dense)            (None, 2)                 4         \n",
      "                                                                 \n",
      " dense_40 (Dense)            (None, 1)                 3         \n",
      "                                                                 \n",
      "=================================================================\n",
      "Total params: 9 (36.00 Byte)\n",
      "Trainable params: 9 (36.00 Byte)\n",
      "Non-trainable params: 0 (0.00 Byte)\n",
      "_________________________________________________________________\n",
      "You must install pydot (`pip install pydot`) and install graphviz (see instructions at https://graphviz.gitlab.io/download/) for plot_model to work.\n"
     ]
    }
   ],
   "source": [
    "model.summary()\n",
    "from tensorflow.keras.utils import plot_model\n",
    "plot_model(model, to_file='model_plot.png', show_shapes=True, show_layer_names=True)"
   ],
   "metadata": {
    "collapsed": false,
    "ExecuteTime": {
     "end_time": "2024-02-29T22:43:08.920482400Z",
     "start_time": "2024-02-29T22:43:08.616298300Z"
    },
    "pycharm": {
     "name": "#%%\n"
    }
   },
   "id": "2e7c67134e9c7adf"
  },
  {
   "cell_type": "markdown",
   "source": [
    "\n"
   ],
   "metadata": {
    "collapsed": false,
    "pycharm": {
     "name": "#%% md\n"
    }
   }
  },
  {
   "cell_type": "code",
   "execution_count": 102,
   "outputs": [
    {
     "name": "stdout",
     "output_type": "stream",
     "text": [
      "9/9 [==============================] - 0s 2ms/step - loss: 175.3392 - mae: 563053.5000 - mse: 317029285888.0000\n",
      "loss:175.33920288085938, \n",
      "mse: 317029285888.0\n"
     ]
    }
   ],
   "source": [
    "# evaluate the keras model\n",
    "loss,  mae , mse = model.evaluate(X_test, y_test)\n",
    "print(f'loss:{loss}, \\nmse: {mse}')"
   ],
   "metadata": {
    "collapsed": false,
    "ExecuteTime": {
     "end_time": "2024-02-29T22:43:09.550563100Z",
     "start_time": "2024-02-29T22:43:08.920482400Z"
    },
    "pycharm": {
     "name": "#%%\n"
    }
   },
   "id": "fe980dd28e10ddd9"
  },
  {
   "cell_type": "code",
   "execution_count": 103,
   "outputs": [
    {
     "data": {
      "text/plain": "Text(0.5, 0, 'Epoka')"
     },
     "execution_count": 103,
     "metadata": {},
     "output_type": "execute_result"
    },
    {
     "data": {
      "text/plain": "<Figure size 1000x1000 with 1 Axes>",
      "image/png": "[encoded data removed]"
     },
     "metadata": {},
     "output_type": "display_data"
    }
   ],
   "source": [
    "df_results = pd.DataFrame(result.history)\n",
    "df_results.plot(figsize=(10,10))\n",
    "plt.title('Wykres zbiorczy błędów uczenia w kolejnych epokach')\n",
    "plt.xlabel('Epoka')"
   ],
   "metadata": {
    "collapsed": false,
    "ExecuteTime": {
     "end_time": "2024-02-29T22:43:09.928278100Z",
     "start_time": "2024-02-29T22:43:09.543147200Z"
    },
    "pycharm": {
     "name": "#%%\n"
    }
   },
   "id": "3137e261574861d5"
  },
  {
   "cell_type": "code",
   "execution_count": 104,
   "outputs": [
    {
     "data": {
      "text/plain": "           loss          mae           mse    val_loss     val_mae  \\\n0    175.374100  563068.0625  3.170460e+11  175.372559  563048.125   \n1    175.372971  563068.1250  3.170459e+11  175.371414  563048.125   \n2    175.371765  563068.3125  3.170460e+11  175.370361  563048.125   \n3    175.370834  563068.3125  3.170459e+11  175.369385  563048.125   \n4    175.369858  563068.2500  3.170460e+11  175.368469  563048.125   \n..          ...          ...           ...         ...         ...   \n195  175.340042  563068.3125  3.170459e+11  175.339111  563048.125   \n196  175.340012  563068.3750  3.170459e+11  175.339035  563048.125   \n197  175.339966  563068.3750  3.170460e+11  175.339020  563048.125   \n198  175.339981  563068.3750  3.170459e+11  175.338974  563048.125   \n199  175.339966  563068.3750  3.170458e+11  175.338928  563048.125   \n\n          val_mse  \n0    3.170232e+11  \n1    3.170232e+11  \n2    3.170232e+11  \n3    3.170232e+11  \n4    3.170232e+11  \n..            ...  \n195  3.170232e+11  \n196  3.170232e+11  \n197  3.170232e+11  \n198  3.170232e+11  \n199  3.170232e+11  \n\n[200 rows x 6 columns]",
      "text/html": "<div>\n<style scoped>\n    .dataframe tbody tr th:only-of-type {\n        vertical-align: middle;\n    }\n\n    .dataframe tbody tr th {\n        vertical-align: top;\n    }\n\n    .dataframe thead th {\n        text-align: right;\n    }\n</style>\n<table border=\"1\" class=\"dataframe\">\n  <thead>\n    <tr style=\"text-align: right;\">\n      <th></th>\n      <th>loss</th>\n      <th>mae</th>\n      <th>mse</th>\n      <th>val_loss</th>\n      <th>val_mae</th>\n      <th>val_mse</th>\n    </tr>\n  </thead>\n  <tbody>\n    <tr>\n      <th>0</th>\n      <td>175.374100</td>\n      <td>563068.0625</td>\n      <td>3.170460e+11</td>\n      <td>175.372559</td>\n      <td>563048.125</td>\n      <td>3.170232e+11</td>\n    </tr>\n    <tr>\n      <th>1</th>\n      <td>175.372971</td>\n      <td>563068.1250</td>\n      <td>3.170459e+11</td>\n      <td>175.371414</td>\n      <td>563048.125</td>\n      <td>3.170232e+11</td>\n    </tr>\n    <tr>\n      <th>2</th>\n      <td>175.371765</td>\n      <td>563068.3125</td>\n      <td>3.170460e+11</td>\n      <td>175.370361</td>\n      <td>563048.125</td>\n      <td>3.170232e+11</td>\n    </tr>\n    <tr>\n      <th>3</th>\n      <td>175.370834</td>\n      <td>563068.3125</td>\n      <td>3.170459e+11</td>\n      <td>175.369385</td>\n      <td>563048.125</td>\n      <td>3.170232e+11</td>\n    </tr>\n    <tr>\n      <th>4</th>\n      <td>175.369858</td>\n      <td>563068.2500</td>\n      <td>3.170460e+11</td>\n      <td>175.368469</td>\n      <td>563048.125</td>\n      <td>3.170232e+11</td>\n    </tr>\n    <tr>\n      <th>...</th>\n      <td>...</td>\n      <td>...</td>\n      <td>...</td>\n      <td>...</td>\n      <td>...</td>\n      <td>...</td>\n    </tr>\n    <tr>\n      <th>195</th>\n      <td>175.340042</td>\n      <td>563068.3125</td>\n      <td>3.170459e+11</td>\n      <td>175.339111</td>\n      <td>563048.125</td>\n      <td>3.170232e+11</td>\n    </tr>\n    <tr>\n      <th>196</th>\n      <td>175.340012</td>\n      <td>563068.3750</td>\n      <td>3.170459e+11</td>\n      <td>175.339035</td>\n      <td>563048.125</td>\n      <td>3.170232e+11</td>\n    </tr>\n    <tr>\n      <th>197</th>\n      <td>175.339966</td>\n      <td>563068.3750</td>\n      <td>3.170460e+11</td>\n      <td>175.339020</td>\n      <td>563048.125</td>\n      <td>3.170232e+11</td>\n    </tr>\n    <tr>\n      <th>198</th>\n      <td>175.339981</td>\n      <td>563068.3750</td>\n      <td>3.170459e+11</td>\n      <td>175.338974</td>\n      <td>563048.125</td>\n      <td>3.170232e+11</td>\n    </tr>\n    <tr>\n      <th>199</th>\n      <td>175.339966</td>\n      <td>563068.3750</td>\n      <td>3.170458e+11</td>\n      <td>175.338928</td>\n      <td>563048.125</td>\n      <td>3.170232e+11</td>\n    </tr>\n  </tbody>\n</table>\n<p>200 rows × 6 columns</p>\n</div>"
     },
     "execution_count": 104,
     "metadata": {},
     "output_type": "execute_result"
    }
   ],
   "source": [
    "df_results"
   ],
   "metadata": {
    "collapsed": false,
    "ExecuteTime": {
     "end_time": "2024-02-29T22:43:09.949324800Z",
     "start_time": "2024-02-29T22:43:09.933158800Z"
    },
    "pycharm": {
     "name": "#%%\n"
    }
   },
   "id": "44ee62408363a907"
  },
  {
   "cell_type": "code",
   "execution_count": 105,
   "outputs": [
    {
     "name": "stdout",
     "output_type": "stream",
     "text": [
      "9/9 [==============================] - 0s 2ms/step\n"
     ]
    }
   ],
   "source": [
    "y_predicted = model.predict(X_test)"
   ],
   "metadata": {
    "collapsed": false,
    "ExecuteTime": {
     "end_time": "2024-02-29T22:43:10.672173800Z",
     "start_time": "2024-02-29T22:43:09.955904300Z"
    },
    "pycharm": {
     "name": "#%%\n"
    }
   },
   "id": "48d55dfafc73f8c4"
  },
  {
   "cell_type": "code",
   "execution_count": 106,
   "outputs": [
    {
     "ename": "AttributeError",
     "evalue": "'DataFrame' object has no attribute 'distance'",
     "output_type": "error",
     "traceback": [
      "\u001B[1;31m---------------------------------------------------------------------------\u001B[0m",
      "\u001B[1;31mAttributeError\u001B[0m                            Traceback (most recent call last)",
      "\u001B[1;32m~\\AppData\\Local\\Temp\\ipykernel_20628\\3885147117.py\u001B[0m in \u001B[0;36m?\u001B[1;34m()\u001B[0m\n\u001B[0;32m      1\u001B[0m \u001B[0mdf__a\u001B[0m \u001B[1;33m=\u001B[0m \u001B[0mpd\u001B[0m\u001B[1;33m.\u001B[0m\u001B[0mDataFrame\u001B[0m\u001B[1;33m(\u001B[0m\u001B[0my_test\u001B[0m\u001B[1;33m)\u001B[0m\u001B[1;33m\u001B[0m\u001B[1;33m\u001B[0m\u001B[0m\n\u001B[0;32m      2\u001B[0m \u001B[0mdf__a\u001B[0m\u001B[1;33m[\u001B[0m\u001B[1;34m'y_predicted'\u001B[0m\u001B[1;33m]\u001B[0m\u001B[1;33m=\u001B[0m\u001B[0my_predicted\u001B[0m\u001B[1;33m\u001B[0m\u001B[1;33m\u001B[0m\u001B[0m\n\u001B[1;32m----> 3\u001B[1;33m \u001B[0mdf__a\u001B[0m\u001B[1;33m[\u001B[0m\u001B[1;34m'diff'\u001B[0m\u001B[1;33m]\u001B[0m\u001B[1;33m=\u001B[0m\u001B[0mdf__a\u001B[0m\u001B[1;33m.\u001B[0m\u001B[0my_predicted\u001B[0m\u001B[1;33m-\u001B[0m\u001B[0mdf__a\u001B[0m\u001B[1;33m.\u001B[0m\u001B[0mdistance\u001B[0m\u001B[1;33m\u001B[0m\u001B[1;33m\u001B[0m\u001B[0m\n\u001B[0m\u001B[0;32m      4\u001B[0m \u001B[0mdf__a\u001B[0m\u001B[1;33m[\u001B[0m\u001B[1;34m'abs_diff'\u001B[0m\u001B[1;33m]\u001B[0m \u001B[1;33m=\u001B[0m \u001B[0mabs\u001B[0m\u001B[1;33m(\u001B[0m\u001B[0mdf__a\u001B[0m\u001B[1;33m[\u001B[0m\u001B[1;34m'diff'\u001B[0m\u001B[1;33m]\u001B[0m\u001B[1;33m)\u001B[0m\u001B[1;33m\u001B[0m\u001B[1;33m\u001B[0m\u001B[0m\n\u001B[0;32m      5\u001B[0m \u001B[0mdf__a\u001B[0m\u001B[1;33m[\u001B[0m\u001B[1;34m'diff_pow'\u001B[0m\u001B[1;33m]\u001B[0m\u001B[1;33m=\u001B[0m\u001B[0mdf__a\u001B[0m\u001B[1;33m[\u001B[0m\u001B[1;34m'diff'\u001B[0m\u001B[1;33m]\u001B[0m\u001B[1;33m*\u001B[0m\u001B[0mdf__a\u001B[0m\u001B[1;33m[\u001B[0m\u001B[1;34m'diff'\u001B[0m\u001B[1;33m]\u001B[0m\u001B[1;33m\u001B[0m\u001B[1;33m\u001B[0m\u001B[0m\n\u001B[0;32m      6\u001B[0m \u001B[0mdf__a\u001B[0m\u001B[1;33m.\u001B[0m\u001B[0mtail\u001B[0m\u001B[1;33m(\u001B[0m\u001B[1;33m)\u001B[0m\u001B[1;33m\u001B[0m\u001B[1;33m\u001B[0m\u001B[0m\n",
      "\u001B[1;32mD:\\OneDrive - Wojskowa Akademia Techniczna\\Pulpit\\mormus\\ai_river_project\\venv\\Lib\\site-packages\\pandas\\core\\generic.py\u001B[0m in \u001B[0;36m?\u001B[1;34m(self, name)\u001B[0m\n\u001B[0;32m   6200\u001B[0m             \u001B[1;32mand\u001B[0m \u001B[0mname\u001B[0m \u001B[1;32mnot\u001B[0m \u001B[1;32min\u001B[0m \u001B[0mself\u001B[0m\u001B[1;33m.\u001B[0m\u001B[0m_accessors\u001B[0m\u001B[1;33m\u001B[0m\u001B[1;33m\u001B[0m\u001B[0m\n\u001B[0;32m   6201\u001B[0m             \u001B[1;32mand\u001B[0m \u001B[0mself\u001B[0m\u001B[1;33m.\u001B[0m\u001B[0m_info_axis\u001B[0m\u001B[1;33m.\u001B[0m\u001B[0m_can_hold_identifiers_and_holds_name\u001B[0m\u001B[1;33m(\u001B[0m\u001B[0mname\u001B[0m\u001B[1;33m)\u001B[0m\u001B[1;33m\u001B[0m\u001B[1;33m\u001B[0m\u001B[0m\n\u001B[0;32m   6202\u001B[0m         ):\n\u001B[0;32m   6203\u001B[0m             \u001B[1;32mreturn\u001B[0m \u001B[0mself\u001B[0m\u001B[1;33m[\u001B[0m\u001B[0mname\u001B[0m\u001B[1;33m]\u001B[0m\u001B[1;33m\u001B[0m\u001B[1;33m\u001B[0m\u001B[0m\n\u001B[1;32m-> 6204\u001B[1;33m         \u001B[1;32mreturn\u001B[0m \u001B[0mobject\u001B[0m\u001B[1;33m.\u001B[0m\u001B[0m__getattribute__\u001B[0m\u001B[1;33m(\u001B[0m\u001B[0mself\u001B[0m\u001B[1;33m,\u001B[0m \u001B[0mname\u001B[0m\u001B[1;33m)\u001B[0m\u001B[1;33m\u001B[0m\u001B[1;33m\u001B[0m\u001B[0m\n\u001B[0m",
      "\u001B[1;31mAttributeError\u001B[0m: 'DataFrame' object has no attribute 'distance'"
     ]
    }
   ],
   "source": [
    "df__a = pd.DataFrame(y_test)\n",
    "df__a['y_predicted']=y_predicted\n",
    "df__a['diff']=df__a.y_predicted-df__a.distance\n",
    "df__a['abs_diff'] = abs(df__a['diff'])\n",
    "df__a['diff_pow']=df__a['diff']*df__a['diff']\n",
    "df__a.tail()"
   ],
   "metadata": {
    "collapsed": false,
    "ExecuteTime": {
     "end_time": "2024-02-29T22:43:10.696319100Z",
     "start_time": "2024-02-29T22:43:10.672173800Z"
    },
    "pycharm": {
     "name": "#%%\n"
    }
   },
   "id": "5ee8b07fa3a70eac"
  },
  {
   "cell_type": "code",
   "execution_count": 107,
   "outputs": [
    {
     "ename": "KeyError",
     "evalue": "'distance'",
     "output_type": "error",
     "traceback": [
      "\u001B[1;31m---------------------------------------------------------------------------\u001B[0m",
      "\u001B[1;31mKeyError\u001B[0m                                  Traceback (most recent call last)",
      "File \u001B[1;32mD:\\OneDrive - Wojskowa Akademia Techniczna\\Pulpit\\mormus\\ai_river_project\\venv\\Lib\\site-packages\\pandas\\core\\indexes\\base.py:3790\u001B[0m, in \u001B[0;36mIndex.get_loc\u001B[1;34m(self, key)\u001B[0m\n\u001B[0;32m   3789\u001B[0m \u001B[38;5;28;01mtry\u001B[39;00m:\n\u001B[1;32m-> 3790\u001B[0m     \u001B[38;5;28;01mreturn\u001B[39;00m \u001B[38;5;28;43mself\u001B[39;49m\u001B[38;5;241;43m.\u001B[39;49m\u001B[43m_engine\u001B[49m\u001B[38;5;241;43m.\u001B[39;49m\u001B[43mget_loc\u001B[49m\u001B[43m(\u001B[49m\u001B[43mcasted_key\u001B[49m\u001B[43m)\u001B[49m\n\u001B[0;32m   3791\u001B[0m \u001B[38;5;28;01mexcept\u001B[39;00m \u001B[38;5;167;01mKeyError\u001B[39;00m \u001B[38;5;28;01mas\u001B[39;00m err:\n",
      "File \u001B[1;32mindex.pyx:152\u001B[0m, in \u001B[0;36mpandas._libs.index.IndexEngine.get_loc\u001B[1;34m()\u001B[0m\n",
      "File \u001B[1;32mindex.pyx:181\u001B[0m, in \u001B[0;36mpandas._libs.index.IndexEngine.get_loc\u001B[1;34m()\u001B[0m\n",
      "File \u001B[1;32mpandas\\_libs\\hashtable_class_helper.pxi:7080\u001B[0m, in \u001B[0;36mpandas._libs.hashtable.PyObjectHashTable.get_item\u001B[1;34m()\u001B[0m\n",
      "File \u001B[1;32mpandas\\_libs\\hashtable_class_helper.pxi:7088\u001B[0m, in \u001B[0;36mpandas._libs.hashtable.PyObjectHashTable.get_item\u001B[1;34m()\u001B[0m\n",
      "\u001B[1;31mKeyError\u001B[0m: 'distance'",
      "\nThe above exception was the direct cause of the following exception:\n",
      "\u001B[1;31mKeyError\u001B[0m                                  Traceback (most recent call last)",
      "Cell \u001B[1;32mIn[107], line 2\u001B[0m\n\u001B[0;32m      1\u001B[0m \u001B[38;5;28;01mimport\u001B[39;00m \u001B[38;5;21;01mmath\u001B[39;00m\n\u001B[1;32m----> 2\u001B[0m mean_ref \u001B[38;5;241m=\u001B[39m \u001B[43mdf__a\u001B[49m\u001B[43m[\u001B[49m\u001B[38;5;124;43m'\u001B[39;49m\u001B[38;5;124;43mdistance\u001B[39;49m\u001B[38;5;124;43m'\u001B[39;49m\u001B[43m]\u001B[49m\u001B[38;5;241m.\u001B[39mdescribe()[\u001B[38;5;241m1\u001B[39m]\n\u001B[0;32m      3\u001B[0m bias \u001B[38;5;241m=\u001B[39m df__a[\u001B[38;5;124m'\u001B[39m\u001B[38;5;124mdiff\u001B[39m\u001B[38;5;124m'\u001B[39m]\u001B[38;5;241m.\u001B[39mdescribe()[\u001B[38;5;241m1\u001B[39m]\n\u001B[0;32m      4\u001B[0m mae \u001B[38;5;241m=\u001B[39mdf__a[\u001B[38;5;124m'\u001B[39m\u001B[38;5;124mabs_diff\u001B[39m\u001B[38;5;124m'\u001B[39m]\u001B[38;5;241m.\u001B[39mdescribe()[\u001B[38;5;241m1\u001B[39m]\n",
      "File \u001B[1;32mD:\\OneDrive - Wojskowa Akademia Techniczna\\Pulpit\\mormus\\ai_river_project\\venv\\Lib\\site-packages\\pandas\\core\\frame.py:3893\u001B[0m, in \u001B[0;36mDataFrame.__getitem__\u001B[1;34m(self, key)\u001B[0m\n\u001B[0;32m   3891\u001B[0m \u001B[38;5;28;01mif\u001B[39;00m \u001B[38;5;28mself\u001B[39m\u001B[38;5;241m.\u001B[39mcolumns\u001B[38;5;241m.\u001B[39mnlevels \u001B[38;5;241m>\u001B[39m \u001B[38;5;241m1\u001B[39m:\n\u001B[0;32m   3892\u001B[0m     \u001B[38;5;28;01mreturn\u001B[39;00m \u001B[38;5;28mself\u001B[39m\u001B[38;5;241m.\u001B[39m_getitem_multilevel(key)\n\u001B[1;32m-> 3893\u001B[0m indexer \u001B[38;5;241m=\u001B[39m \u001B[38;5;28;43mself\u001B[39;49m\u001B[38;5;241;43m.\u001B[39;49m\u001B[43mcolumns\u001B[49m\u001B[38;5;241;43m.\u001B[39;49m\u001B[43mget_loc\u001B[49m\u001B[43m(\u001B[49m\u001B[43mkey\u001B[49m\u001B[43m)\u001B[49m\n\u001B[0;32m   3894\u001B[0m \u001B[38;5;28;01mif\u001B[39;00m is_integer(indexer):\n\u001B[0;32m   3895\u001B[0m     indexer \u001B[38;5;241m=\u001B[39m [indexer]\n",
      "File \u001B[1;32mD:\\OneDrive - Wojskowa Akademia Techniczna\\Pulpit\\mormus\\ai_river_project\\venv\\Lib\\site-packages\\pandas\\core\\indexes\\base.py:3797\u001B[0m, in \u001B[0;36mIndex.get_loc\u001B[1;34m(self, key)\u001B[0m\n\u001B[0;32m   3792\u001B[0m     \u001B[38;5;28;01mif\u001B[39;00m \u001B[38;5;28misinstance\u001B[39m(casted_key, \u001B[38;5;28mslice\u001B[39m) \u001B[38;5;129;01mor\u001B[39;00m (\n\u001B[0;32m   3793\u001B[0m         \u001B[38;5;28misinstance\u001B[39m(casted_key, abc\u001B[38;5;241m.\u001B[39mIterable)\n\u001B[0;32m   3794\u001B[0m         \u001B[38;5;129;01mand\u001B[39;00m \u001B[38;5;28many\u001B[39m(\u001B[38;5;28misinstance\u001B[39m(x, \u001B[38;5;28mslice\u001B[39m) \u001B[38;5;28;01mfor\u001B[39;00m x \u001B[38;5;129;01min\u001B[39;00m casted_key)\n\u001B[0;32m   3795\u001B[0m     ):\n\u001B[0;32m   3796\u001B[0m         \u001B[38;5;28;01mraise\u001B[39;00m InvalidIndexError(key)\n\u001B[1;32m-> 3797\u001B[0m     \u001B[38;5;28;01mraise\u001B[39;00m \u001B[38;5;167;01mKeyError\u001B[39;00m(key) \u001B[38;5;28;01mfrom\u001B[39;00m \u001B[38;5;21;01merr\u001B[39;00m\n\u001B[0;32m   3798\u001B[0m \u001B[38;5;28;01mexcept\u001B[39;00m \u001B[38;5;167;01mTypeError\u001B[39;00m:\n\u001B[0;32m   3799\u001B[0m     \u001B[38;5;66;03m# If we have a listlike key, _check_indexing_error will raise\u001B[39;00m\n\u001B[0;32m   3800\u001B[0m     \u001B[38;5;66;03m#  InvalidIndexError. Otherwise we fall through and re-raise\u001B[39;00m\n\u001B[0;32m   3801\u001B[0m     \u001B[38;5;66;03m#  the TypeError.\u001B[39;00m\n\u001B[0;32m   3802\u001B[0m     \u001B[38;5;28mself\u001B[39m\u001B[38;5;241m.\u001B[39m_check_indexing_error(key)\n",
      "\u001B[1;31mKeyError\u001B[0m: 'distance'"
     ]
    }
   ],
   "source": [
    "import math\n",
    "mean_ref = df__a['distance'].describe()[1]\n",
    "bias = df__a['diff'].describe()[1]\n",
    "mae =df__a['abs_diff'].describe()[1]\n",
    "RMSE = math.sqrt(df__a['diff_pow'].sum()/df__a.shape[0])\n",
    "print(\n",
    "    f'mean_ref: {mean_ref},'\n",
    "    f'\\nbias: {bias}, \\nbias_%: {bias/mean_ref*100}, '\n",
    "    f'\\nmae: {mae}, \\nmae_%: {mae/mean_ref*100}, '\n",
    "    f'\\nRMSE: {RMSE} \\nRMSE %: {RMSE/mean_ref*100}'\n",
    ")"
   ],
   "metadata": {
    "collapsed": false,
    "ExecuteTime": {
     "end_time": "2024-02-29T22:43:10.732484100Z",
     "start_time": "2024-02-29T22:43:10.696319100Z"
    },
    "pycharm": {
     "name": "#%%\n"
    }
   },
   "id": "218ddd5182a4e739"
  },
  {
   "cell_type": "code",
   "execution_count": 108,
   "outputs": [
    {
     "ename": "AttributeError",
     "evalue": "'DataFrame' object has no attribute 'distance'",
     "output_type": "error",
     "traceback": [
      "\u001B[1;31m---------------------------------------------------------------------------\u001B[0m",
      "\u001B[1;31mAttributeError\u001B[0m                            Traceback (most recent call last)",
      "\u001B[1;32m~\\AppData\\Local\\Temp\\ipykernel_20628\\1870363907.py\u001B[0m in \u001B[0;36m?\u001B[1;34m()\u001B[0m\n\u001B[0;32m      1\u001B[0m \u001B[1;31m# rozkład błedów\u001B[0m\u001B[1;33m\u001B[0m\u001B[1;33m\u001B[0m\u001B[0m\n\u001B[1;32m----> 2\u001B[1;33m \u001B[0merror\u001B[0m \u001B[1;33m=\u001B[0m \u001B[0mdf__a\u001B[0m\u001B[1;33m.\u001B[0m\u001B[0my_predicted\u001B[0m\u001B[1;33m-\u001B[0m\u001B[0mdf__a\u001B[0m\u001B[1;33m.\u001B[0m\u001B[0mdistance\u001B[0m\u001B[1;33m\u001B[0m\u001B[1;33m\u001B[0m\u001B[0m\n\u001B[0m\u001B[0;32m      3\u001B[0m \u001B[0mplt\u001B[0m\u001B[1;33m.\u001B[0m\u001B[0mfigure\u001B[0m\u001B[1;33m(\u001B[0m\u001B[0mfigsize\u001B[0m \u001B[1;33m=\u001B[0m \u001B[1;33m(\u001B[0m\u001B[1;36m6\u001B[0m\u001B[1;33m,\u001B[0m\u001B[1;36m6\u001B[0m\u001B[1;33m)\u001B[0m\u001B[1;33m)\u001B[0m\u001B[1;33m\u001B[0m\u001B[1;33m\u001B[0m\u001B[0m\n\u001B[0;32m      4\u001B[0m \u001B[0mplt\u001B[0m\u001B[1;33m.\u001B[0m\u001B[0mhist\u001B[0m\u001B[1;33m(\u001B[0m\u001B[0merror\u001B[0m\u001B[1;33m,\u001B[0m \u001B[0mbins\u001B[0m\u001B[1;33m=\u001B[0m\u001B[1;36m25\u001B[0m\u001B[1;33m)\u001B[0m\u001B[1;33m\u001B[0m\u001B[1;33m\u001B[0m\u001B[0m\n\u001B[0;32m      5\u001B[0m \u001B[0mplt\u001B[0m\u001B[1;33m.\u001B[0m\u001B[0mxlabel\u001B[0m\u001B[1;33m(\u001B[0m\u001B[1;34m'Prediction Error'\u001B[0m\u001B[1;33m)\u001B[0m\u001B[1;33m\u001B[0m\u001B[1;33m\u001B[0m\u001B[0m\n",
      "\u001B[1;32mD:\\OneDrive - Wojskowa Akademia Techniczna\\Pulpit\\mormus\\ai_river_project\\venv\\Lib\\site-packages\\pandas\\core\\generic.py\u001B[0m in \u001B[0;36m?\u001B[1;34m(self, name)\u001B[0m\n\u001B[0;32m   6200\u001B[0m             \u001B[1;32mand\u001B[0m \u001B[0mname\u001B[0m \u001B[1;32mnot\u001B[0m \u001B[1;32min\u001B[0m \u001B[0mself\u001B[0m\u001B[1;33m.\u001B[0m\u001B[0m_accessors\u001B[0m\u001B[1;33m\u001B[0m\u001B[1;33m\u001B[0m\u001B[0m\n\u001B[0;32m   6201\u001B[0m             \u001B[1;32mand\u001B[0m \u001B[0mself\u001B[0m\u001B[1;33m.\u001B[0m\u001B[0m_info_axis\u001B[0m\u001B[1;33m.\u001B[0m\u001B[0m_can_hold_identifiers_and_holds_name\u001B[0m\u001B[1;33m(\u001B[0m\u001B[0mname\u001B[0m\u001B[1;33m)\u001B[0m\u001B[1;33m\u001B[0m\u001B[1;33m\u001B[0m\u001B[0m\n\u001B[0;32m   6202\u001B[0m         ):\n\u001B[0;32m   6203\u001B[0m             \u001B[1;32mreturn\u001B[0m \u001B[0mself\u001B[0m\u001B[1;33m[\u001B[0m\u001B[0mname\u001B[0m\u001B[1;33m]\u001B[0m\u001B[1;33m\u001B[0m\u001B[1;33m\u001B[0m\u001B[0m\n\u001B[1;32m-> 6204\u001B[1;33m         \u001B[1;32mreturn\u001B[0m \u001B[0mobject\u001B[0m\u001B[1;33m.\u001B[0m\u001B[0m__getattribute__\u001B[0m\u001B[1;33m(\u001B[0m\u001B[0mself\u001B[0m\u001B[1;33m,\u001B[0m \u001B[0mname\u001B[0m\u001B[1;33m)\u001B[0m\u001B[1;33m\u001B[0m\u001B[1;33m\u001B[0m\u001B[0m\n\u001B[0m",
      "\u001B[1;31mAttributeError\u001B[0m: 'DataFrame' object has no attribute 'distance'"
     ]
    }
   ],
   "source": [
    "# rozkład błedów\n",
    "error = df__a.y_predicted-df__a.distance\n",
    "plt.figure(figsize = (6,6))\n",
    "plt.hist(error, bins=25)\n",
    "plt.xlabel('Prediction Error')\n",
    "_ = plt.ylabel('Count')"
   ],
   "metadata": {
    "collapsed": false,
    "ExecuteTime": {
     "end_time": "2024-02-29T22:43:11.076667300Z",
     "start_time": "2024-02-29T22:43:10.716698900Z"
    },
    "pycharm": {
     "name": "#%%\n"
    }
   },
   "id": "5de947c502e12c8a"
  },
  {
   "cell_type": "code",
   "execution_count": 167,
   "outputs": [
    {
     "ename": "KeyError",
     "evalue": "'distance'",
     "output_type": "error",
     "traceback": [
      "\u001B[1;31m---------------------------------------------------------------------------\u001B[0m",
      "\u001B[1;31mKeyError\u001B[0m                                  Traceback (most recent call last)",
      "File \u001B[1;32mD:\\OneDrive - Wojskowa Akademia Techniczna\\Pulpit\\mormus\\ai_river_project\\venv\\Lib\\site-packages\\pandas\\core\\indexes\\base.py:3790\u001B[0m, in \u001B[0;36mIndex.get_loc\u001B[1;34m(self, key)\u001B[0m\n\u001B[0;32m   3789\u001B[0m \u001B[38;5;28;01mtry\u001B[39;00m:\n\u001B[1;32m-> 3790\u001B[0m     \u001B[38;5;28;01mreturn\u001B[39;00m \u001B[38;5;28;43mself\u001B[39;49m\u001B[38;5;241;43m.\u001B[39;49m\u001B[43m_engine\u001B[49m\u001B[38;5;241;43m.\u001B[39;49m\u001B[43mget_loc\u001B[49m\u001B[43m(\u001B[49m\u001B[43mcasted_key\u001B[49m\u001B[43m)\u001B[49m\n\u001B[0;32m   3791\u001B[0m \u001B[38;5;28;01mexcept\u001B[39;00m \u001B[38;5;167;01mKeyError\u001B[39;00m \u001B[38;5;28;01mas\u001B[39;00m err:\n",
      "File \u001B[1;32mindex.pyx:152\u001B[0m, in \u001B[0;36mpandas._libs.index.IndexEngine.get_loc\u001B[1;34m()\u001B[0m\n",
      "File \u001B[1;32mindex.pyx:181\u001B[0m, in \u001B[0;36mpandas._libs.index.IndexEngine.get_loc\u001B[1;34m()\u001B[0m\n",
      "File \u001B[1;32mpandas\\_libs\\hashtable_class_helper.pxi:7080\u001B[0m, in \u001B[0;36mpandas._libs.hashtable.PyObjectHashTable.get_item\u001B[1;34m()\u001B[0m\n",
      "File \u001B[1;32mpandas\\_libs\\hashtable_class_helper.pxi:7088\u001B[0m, in \u001B[0;36mpandas._libs.hashtable.PyObjectHashTable.get_item\u001B[1;34m()\u001B[0m\n",
      "\u001B[1;31mKeyError\u001B[0m: 'distance'",
      "\nThe above exception was the direct cause of the following exception:\n",
      "\u001B[1;31mKeyError\u001B[0m                                  Traceback (most recent call last)",
      "Cell \u001B[1;32mIn[167], line 2\u001B[0m\n\u001B[0;32m      1\u001B[0m plt\u001B[38;5;241m.\u001B[39mfigure(figsize \u001B[38;5;241m=\u001B[39m (\u001B[38;5;241m8\u001B[39m,\u001B[38;5;241m8\u001B[39m))\n\u001B[1;32m----> 2\u001B[0m \u001B[43mdf__a\u001B[49m\u001B[38;5;241;43m.\u001B[39;49m\u001B[43mplot\u001B[49m\u001B[38;5;241;43m.\u001B[39;49m\u001B[43mscatter\u001B[49m\u001B[43m(\u001B[49m\u001B[43my\u001B[49m\u001B[38;5;241;43m=\u001B[39;49m\u001B[38;5;124;43m'\u001B[39;49m\u001B[38;5;124;43my_predicted\u001B[39;49m\u001B[38;5;124;43m'\u001B[39;49m\u001B[43m,\u001B[49m\u001B[43m \u001B[49m\u001B[43mx\u001B[49m\u001B[38;5;241;43m=\u001B[39;49m\u001B[38;5;124;43m'\u001B[39;49m\u001B[38;5;124;43mdistance\u001B[39;49m\u001B[38;5;124;43m'\u001B[39;49m\u001B[43m)\u001B[49m\n\u001B[0;32m      3\u001B[0m plt\u001B[38;5;241m.\u001B[39mplot(\u001B[38;5;28mrange\u001B[39m(\u001B[38;5;241m5\u001B[39m), color\u001B[38;5;241m=\u001B[39m\u001B[38;5;124m'\u001B[39m\u001B[38;5;124morange\u001B[39m\u001B[38;5;124m'\u001B[39m)\n\u001B[0;32m      4\u001B[0m plt\u001B[38;5;241m.\u001B[39mxlim(\u001B[38;5;241m50\u001B[39m, \u001B[38;5;241m350\u001B[39m)\n",
      "File \u001B[1;32mD:\\OneDrive - Wojskowa Akademia Techniczna\\Pulpit\\mormus\\ai_river_project\\venv\\Lib\\site-packages\\pandas\\plotting\\_core.py:1751\u001B[0m, in \u001B[0;36mPlotAccessor.scatter\u001B[1;34m(self, x, y, s, c, **kwargs)\u001B[0m\n\u001B[0;32m   1663\u001B[0m \u001B[38;5;28;01mdef\u001B[39;00m \u001B[38;5;21mscatter\u001B[39m(\n\u001B[0;32m   1664\u001B[0m     \u001B[38;5;28mself\u001B[39m,\n\u001B[0;32m   1665\u001B[0m     x: Hashable,\n\u001B[1;32m   (...)\u001B[0m\n\u001B[0;32m   1669\u001B[0m     \u001B[38;5;241m*\u001B[39m\u001B[38;5;241m*\u001B[39mkwargs,\n\u001B[0;32m   1670\u001B[0m ) \u001B[38;5;241m-\u001B[39m\u001B[38;5;241m>\u001B[39m PlotAccessor:\n\u001B[0;32m   1671\u001B[0m \u001B[38;5;250m    \u001B[39m\u001B[38;5;124;03m\"\"\"\u001B[39;00m\n\u001B[0;32m   1672\u001B[0m \u001B[38;5;124;03m    Create a scatter plot with varying marker point size and color.\u001B[39;00m\n\u001B[0;32m   1673\u001B[0m \n\u001B[1;32m   (...)\u001B[0m\n\u001B[0;32m   1749\u001B[0m \u001B[38;5;124;03m        ...                       colormap='viridis')\u001B[39;00m\n\u001B[0;32m   1750\u001B[0m \u001B[38;5;124;03m    \"\"\"\u001B[39;00m\n\u001B[1;32m-> 1751\u001B[0m     \u001B[38;5;28;01mreturn\u001B[39;00m \u001B[38;5;28;43mself\u001B[39;49m\u001B[43m(\u001B[49m\u001B[43mkind\u001B[49m\u001B[38;5;241;43m=\u001B[39;49m\u001B[38;5;124;43m\"\u001B[39;49m\u001B[38;5;124;43mscatter\u001B[39;49m\u001B[38;5;124;43m\"\u001B[39;49m\u001B[43m,\u001B[49m\u001B[43m \u001B[49m\u001B[43mx\u001B[49m\u001B[38;5;241;43m=\u001B[39;49m\u001B[43mx\u001B[49m\u001B[43m,\u001B[49m\u001B[43m \u001B[49m\u001B[43my\u001B[49m\u001B[38;5;241;43m=\u001B[39;49m\u001B[43my\u001B[49m\u001B[43m,\u001B[49m\u001B[43m \u001B[49m\u001B[43ms\u001B[49m\u001B[38;5;241;43m=\u001B[39;49m\u001B[43ms\u001B[49m\u001B[43m,\u001B[49m\u001B[43m \u001B[49m\u001B[43mc\u001B[49m\u001B[38;5;241;43m=\u001B[39;49m\u001B[43mc\u001B[49m\u001B[43m,\u001B[49m\u001B[43m \u001B[49m\u001B[38;5;241;43m*\u001B[39;49m\u001B[38;5;241;43m*\u001B[39;49m\u001B[43mkwargs\u001B[49m\u001B[43m)\u001B[49m\n",
      "File \u001B[1;32mD:\\OneDrive - Wojskowa Akademia Techniczna\\Pulpit\\mormus\\ai_river_project\\venv\\Lib\\site-packages\\pandas\\plotting\\_core.py:976\u001B[0m, in \u001B[0;36mPlotAccessor.__call__\u001B[1;34m(self, *args, **kwargs)\u001B[0m\n\u001B[0;32m    974\u001B[0m \u001B[38;5;28;01mif\u001B[39;00m kind \u001B[38;5;129;01min\u001B[39;00m \u001B[38;5;28mself\u001B[39m\u001B[38;5;241m.\u001B[39m_dataframe_kinds:\n\u001B[0;32m    975\u001B[0m     \u001B[38;5;28;01mif\u001B[39;00m \u001B[38;5;28misinstance\u001B[39m(data, ABCDataFrame):\n\u001B[1;32m--> 976\u001B[0m         \u001B[38;5;28;01mreturn\u001B[39;00m \u001B[43mplot_backend\u001B[49m\u001B[38;5;241;43m.\u001B[39;49m\u001B[43mplot\u001B[49m\u001B[43m(\u001B[49m\u001B[43mdata\u001B[49m\u001B[43m,\u001B[49m\u001B[43m \u001B[49m\u001B[43mx\u001B[49m\u001B[38;5;241;43m=\u001B[39;49m\u001B[43mx\u001B[49m\u001B[43m,\u001B[49m\u001B[43m \u001B[49m\u001B[43my\u001B[49m\u001B[38;5;241;43m=\u001B[39;49m\u001B[43my\u001B[49m\u001B[43m,\u001B[49m\u001B[43m \u001B[49m\u001B[43mkind\u001B[49m\u001B[38;5;241;43m=\u001B[39;49m\u001B[43mkind\u001B[49m\u001B[43m,\u001B[49m\u001B[43m \u001B[49m\u001B[38;5;241;43m*\u001B[39;49m\u001B[38;5;241;43m*\u001B[39;49m\u001B[43mkwargs\u001B[49m\u001B[43m)\u001B[49m\n\u001B[0;32m    977\u001B[0m     \u001B[38;5;28;01melse\u001B[39;00m:\n\u001B[0;32m    978\u001B[0m         \u001B[38;5;28;01mraise\u001B[39;00m \u001B[38;5;167;01mValueError\u001B[39;00m(\u001B[38;5;124mf\u001B[39m\u001B[38;5;124m\"\u001B[39m\u001B[38;5;124mplot kind \u001B[39m\u001B[38;5;132;01m{\u001B[39;00mkind\u001B[38;5;132;01m}\u001B[39;00m\u001B[38;5;124m can only be used for data frames\u001B[39m\u001B[38;5;124m\"\u001B[39m)\n",
      "File \u001B[1;32mD:\\OneDrive - Wojskowa Akademia Techniczna\\Pulpit\\mormus\\ai_river_project\\venv\\Lib\\site-packages\\pandas\\plotting\\_matplotlib\\__init__.py:71\u001B[0m, in \u001B[0;36mplot\u001B[1;34m(data, kind, **kwargs)\u001B[0m\n\u001B[0;32m     69\u001B[0m         kwargs[\u001B[38;5;124m\"\u001B[39m\u001B[38;5;124max\u001B[39m\u001B[38;5;124m\"\u001B[39m] \u001B[38;5;241m=\u001B[39m \u001B[38;5;28mgetattr\u001B[39m(ax, \u001B[38;5;124m\"\u001B[39m\u001B[38;5;124mleft_ax\u001B[39m\u001B[38;5;124m\"\u001B[39m, ax)\n\u001B[0;32m     70\u001B[0m plot_obj \u001B[38;5;241m=\u001B[39m PLOT_CLASSES[kind](data, \u001B[38;5;241m*\u001B[39m\u001B[38;5;241m*\u001B[39mkwargs)\n\u001B[1;32m---> 71\u001B[0m \u001B[43mplot_obj\u001B[49m\u001B[38;5;241;43m.\u001B[39;49m\u001B[43mgenerate\u001B[49m\u001B[43m(\u001B[49m\u001B[43m)\u001B[49m\n\u001B[0;32m     72\u001B[0m plot_obj\u001B[38;5;241m.\u001B[39mdraw()\n\u001B[0;32m     73\u001B[0m \u001B[38;5;28;01mreturn\u001B[39;00m plot_obj\u001B[38;5;241m.\u001B[39mresult\n",
      "File \u001B[1;32mD:\\OneDrive - Wojskowa Akademia Techniczna\\Pulpit\\mormus\\ai_river_project\\venv\\Lib\\site-packages\\pandas\\plotting\\_matplotlib\\core.py:453\u001B[0m, in \u001B[0;36mMPLPlot.generate\u001B[1;34m(self)\u001B[0m\n\u001B[0;32m    451\u001B[0m \u001B[38;5;28mself\u001B[39m\u001B[38;5;241m.\u001B[39m_compute_plot_data()\n\u001B[0;32m    452\u001B[0m \u001B[38;5;28mself\u001B[39m\u001B[38;5;241m.\u001B[39m_setup_subplots()\n\u001B[1;32m--> 453\u001B[0m \u001B[38;5;28;43mself\u001B[39;49m\u001B[38;5;241;43m.\u001B[39;49m\u001B[43m_make_plot\u001B[49m\u001B[43m(\u001B[49m\u001B[43m)\u001B[49m\n\u001B[0;32m    454\u001B[0m \u001B[38;5;28mself\u001B[39m\u001B[38;5;241m.\u001B[39m_add_table()\n\u001B[0;32m    455\u001B[0m \u001B[38;5;28mself\u001B[39m\u001B[38;5;241m.\u001B[39m_make_legend()\n",
      "File \u001B[1;32mD:\\OneDrive - Wojskowa Akademia Techniczna\\Pulpit\\mormus\\ai_river_project\\venv\\Lib\\site-packages\\pandas\\plotting\\_matplotlib\\core.py:1267\u001B[0m, in \u001B[0;36mScatterPlot._make_plot\u001B[1;34m(self)\u001B[0m\n\u001B[0;32m   1264\u001B[0m \u001B[38;5;28;01melse\u001B[39;00m:\n\u001B[0;32m   1265\u001B[0m     label \u001B[38;5;241m=\u001B[39m \u001B[38;5;28;01mNone\u001B[39;00m\n\u001B[0;32m   1266\u001B[0m scatter \u001B[38;5;241m=\u001B[39m ax\u001B[38;5;241m.\u001B[39mscatter(\n\u001B[1;32m-> 1267\u001B[0m     \u001B[43mdata\u001B[49m\u001B[43m[\u001B[49m\u001B[43mx\u001B[49m\u001B[43m]\u001B[49m\u001B[38;5;241m.\u001B[39mvalues,\n\u001B[0;32m   1268\u001B[0m     data[y]\u001B[38;5;241m.\u001B[39mvalues,\n\u001B[0;32m   1269\u001B[0m     c\u001B[38;5;241m=\u001B[39mc_values,\n\u001B[0;32m   1270\u001B[0m     label\u001B[38;5;241m=\u001B[39mlabel,\n\u001B[0;32m   1271\u001B[0m     cmap\u001B[38;5;241m=\u001B[39mcmap,\n\u001B[0;32m   1272\u001B[0m     norm\u001B[38;5;241m=\u001B[39mnorm,\n\u001B[0;32m   1273\u001B[0m     \u001B[38;5;241m*\u001B[39m\u001B[38;5;241m*\u001B[39m\u001B[38;5;28mself\u001B[39m\u001B[38;5;241m.\u001B[39mkwds,\n\u001B[0;32m   1274\u001B[0m )\n\u001B[0;32m   1275\u001B[0m \u001B[38;5;28;01mif\u001B[39;00m cb:\n\u001B[0;32m   1276\u001B[0m     cbar_label \u001B[38;5;241m=\u001B[39m c \u001B[38;5;28;01mif\u001B[39;00m c_is_column \u001B[38;5;28;01melse\u001B[39;00m \u001B[38;5;124m\"\u001B[39m\u001B[38;5;124m\"\u001B[39m\n",
      "File \u001B[1;32mD:\\OneDrive - Wojskowa Akademia Techniczna\\Pulpit\\mormus\\ai_river_project\\venv\\Lib\\site-packages\\pandas\\core\\frame.py:3893\u001B[0m, in \u001B[0;36mDataFrame.__getitem__\u001B[1;34m(self, key)\u001B[0m\n\u001B[0;32m   3891\u001B[0m \u001B[38;5;28;01mif\u001B[39;00m \u001B[38;5;28mself\u001B[39m\u001B[38;5;241m.\u001B[39mcolumns\u001B[38;5;241m.\u001B[39mnlevels \u001B[38;5;241m>\u001B[39m \u001B[38;5;241m1\u001B[39m:\n\u001B[0;32m   3892\u001B[0m     \u001B[38;5;28;01mreturn\u001B[39;00m \u001B[38;5;28mself\u001B[39m\u001B[38;5;241m.\u001B[39m_getitem_multilevel(key)\n\u001B[1;32m-> 3893\u001B[0m indexer \u001B[38;5;241m=\u001B[39m \u001B[38;5;28;43mself\u001B[39;49m\u001B[38;5;241;43m.\u001B[39;49m\u001B[43mcolumns\u001B[49m\u001B[38;5;241;43m.\u001B[39;49m\u001B[43mget_loc\u001B[49m\u001B[43m(\u001B[49m\u001B[43mkey\u001B[49m\u001B[43m)\u001B[49m\n\u001B[0;32m   3894\u001B[0m \u001B[38;5;28;01mif\u001B[39;00m is_integer(indexer):\n\u001B[0;32m   3895\u001B[0m     indexer \u001B[38;5;241m=\u001B[39m [indexer]\n",
      "File \u001B[1;32mD:\\OneDrive - Wojskowa Akademia Techniczna\\Pulpit\\mormus\\ai_river_project\\venv\\Lib\\site-packages\\pandas\\core\\indexes\\base.py:3797\u001B[0m, in \u001B[0;36mIndex.get_loc\u001B[1;34m(self, key)\u001B[0m\n\u001B[0;32m   3792\u001B[0m     \u001B[38;5;28;01mif\u001B[39;00m \u001B[38;5;28misinstance\u001B[39m(casted_key, \u001B[38;5;28mslice\u001B[39m) \u001B[38;5;129;01mor\u001B[39;00m (\n\u001B[0;32m   3793\u001B[0m         \u001B[38;5;28misinstance\u001B[39m(casted_key, abc\u001B[38;5;241m.\u001B[39mIterable)\n\u001B[0;32m   3794\u001B[0m         \u001B[38;5;129;01mand\u001B[39;00m \u001B[38;5;28many\u001B[39m(\u001B[38;5;28misinstance\u001B[39m(x, \u001B[38;5;28mslice\u001B[39m) \u001B[38;5;28;01mfor\u001B[39;00m x \u001B[38;5;129;01min\u001B[39;00m casted_key)\n\u001B[0;32m   3795\u001B[0m     ):\n\u001B[0;32m   3796\u001B[0m         \u001B[38;5;28;01mraise\u001B[39;00m InvalidIndexError(key)\n\u001B[1;32m-> 3797\u001B[0m     \u001B[38;5;28;01mraise\u001B[39;00m \u001B[38;5;167;01mKeyError\u001B[39;00m(key) \u001B[38;5;28;01mfrom\u001B[39;00m \u001B[38;5;21;01merr\u001B[39;00m\n\u001B[0;32m   3798\u001B[0m \u001B[38;5;28;01mexcept\u001B[39;00m \u001B[38;5;167;01mTypeError\u001B[39;00m:\n\u001B[0;32m   3799\u001B[0m     \u001B[38;5;66;03m# If we have a listlike key, _check_indexing_error will raise\u001B[39;00m\n\u001B[0;32m   3800\u001B[0m     \u001B[38;5;66;03m#  InvalidIndexError. Otherwise we fall through and re-raise\u001B[39;00m\n\u001B[0;32m   3801\u001B[0m     \u001B[38;5;66;03m#  the TypeError.\u001B[39;00m\n\u001B[0;32m   3802\u001B[0m     \u001B[38;5;28mself\u001B[39m\u001B[38;5;241m.\u001B[39m_check_indexing_error(key)\n",
      "\u001B[1;31mKeyError\u001B[0m: 'distance'"
     ]
    },
    {
     "data": {
      "text/plain": "<Figure size 800x800 with 0 Axes>"
     },
     "metadata": {},
     "output_type": "display_data"
    },
    {
     "data": {
      "text/plain": "<Figure size 640x480 with 1 Axes>",
      "image/png": "[encoded data removed]"
     },
     "metadata": {},
     "output_type": "display_data"
    }
   ],
   "source": [
    "plt.figure(figsize = (8,8))\n",
    "df__a.plot.scatter(y='y_predicted', x='distance')\n",
    "plt.plot(range(5), color='orange')\n",
    "plt.xlim(50, 350)\n",
    "plt.ylim(100, 250)\n",
    "ax = plt.gca()\n",
    "ax.set_aspect('equal', adjustable='box')\n",
    "plt.xlabel('y_ref')\n",
    "plt.ylabel('y_pred')\n",
    "plt.draw()"
   ],
   "metadata": {
    "collapsed": false,
    "ExecuteTime": {
     "end_time": "2024-02-29T22:43:11.453032800Z",
     "start_time": "2024-02-29T22:43:11.084132300Z"
    },
    "pycharm": {
     "name": "#%%\n"
    }
   },
   "id": "7b0ea2245912459d"
  },
  {
   "cell_type": "code",
   "execution_count": null,
   "outputs": [],
   "source": [
    "# print(y_predicted)"
   ],
   "metadata": {
    "collapsed": false,
    "ExecuteTime": {
     "end_time": "2024-02-29T22:43:11.463749400Z",
     "start_time": "2024-02-29T22:43:11.457764Z"
    },
    "pycharm": {
     "name": "#%%\n"
    }
   },
   "id": "14f7ad8255e39a20"
  },
  {
   "cell_type": "code",
   "execution_count": 110,
   "outputs": [],
   "source": [
    "\n",
    "# df__a = pd.merge(df__a, df_p[['ID', 'angle']], left_index=True, right_index=True)\n",
    "# print(df__a)\n"
   ],
   "metadata": {
    "collapsed": false,
    "ExecuteTime": {
     "end_time": "2024-02-29T22:43:11.476639600Z",
     "start_time": "2024-02-29T22:43:11.463749400Z"
    },
    "pycharm": {
     "name": "#%%\n"
    }
   },
   "id": "fa9634ba14f414ae"
  },
  {
   "cell_type": "code",
   "execution_count": 67,
   "outputs": [],
   "source": [
    "# df__a.to_csv(path_or_buf=\"./results.csv\",index=False,quoting=3,sep=';')"
   ],
   "metadata": {
    "collapsed": false,
    "ExecuteTime": {
     "end_time": "2024-02-29T22:43:11.488635900Z",
     "start_time": "2024-02-29T22:43:11.471360400Z"
    },
    "pycharm": {
     "name": "#%%\n"
    }
   },
   "id": "e37bbd437a74cd0a"
  }
 ],
 "metadata": {
  "kernelspec": {
   "display_name": "Python 3",
   "language": "python",
   "name": "python3"
  },
  "language_info": {
   "codemirror_mode": {
    "name": "ipython",
    "version": 2
   },
   "file_extension": ".py",
   "mimetype": "text/x-python",
   "name": "python",
   "nbconvert_exporter": "python",
   "pygments_lexer": "ipython2",
   "version": "2.7.6"
  }
 },
 "nbformat": 4,
 "nbformat_minor": 5
}